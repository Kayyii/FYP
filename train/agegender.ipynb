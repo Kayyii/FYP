{
 "cells": [
  {
   "cell_type": "code",
   "execution_count": 1,
   "id": "7a791a09",
   "metadata": {
    "_cell_guid": "b1076dfc-b9ad-4769-8c92-a6c4dae69d19",
    "_uuid": "8f2839f25d086af736a60e9eeb907d3b93b6e0e5",
    "execution": {
     "iopub.execute_input": "2022-01-06T16:49:50.925900Z",
     "iopub.status.busy": "2022-01-06T16:49:50.924386Z",
     "iopub.status.idle": "2022-01-06T16:49:51.139036Z",
     "shell.execute_reply": "2022-01-06T16:49:51.139472Z",
     "shell.execute_reply.started": "2022-01-06T15:37:40.980183Z"
    },
    "papermill": {
     "duration": 0.240543,
     "end_time": "2022-01-06T16:49:51.139765",
     "exception": false,
     "start_time": "2022-01-06T16:49:50.899222",
     "status": "completed"
    },
    "tags": []
   },
   "outputs": [],
   "source": [
    "import os\n",
    "import cv2\n",
    "import numpy as np\n",
    "import pandas as pd\n",
    "from tqdm import tqdm\n",
    "import matplotlib.pyplot as plt"
   ]
  },
  {
   "cell_type": "code",
   "execution_count": 2,
   "id": "e102fcee",
   "metadata": {
    "execution": {
     "iopub.execute_input": "2022-01-06T16:49:51.182748Z",
     "iopub.status.busy": "2022-01-06T16:49:51.182226Z",
     "iopub.status.idle": "2022-01-06T16:49:51.710008Z",
     "shell.execute_reply": "2022-01-06T16:49:51.709440Z",
     "shell.execute_reply.started": "2022-01-06T15:37:41.203830Z"
    },
    "papermill": {
     "duration": 0.550301,
     "end_time": "2022-01-06T16:49:51.710171",
     "exception": false,
     "start_time": "2022-01-06T16:49:51.159870",
     "status": "completed"
    },
    "tags": []
   },
   "outputs": [
    {
     "data": {
      "text/plain": [
       "['26_0_2_20170104023102422.jpg.chip.jpg',\n",
       " '22_1_1_20170112233644761.jpg.chip.jpg',\n",
       " '21_1_3_20170105003215901.jpg.chip.jpg',\n",
       " '28_0_0_20170117180555824.jpg.chip.jpg',\n",
       " '17_1_4_20170103222931966.jpg.chip.jpg']"
      ]
     },
     "execution_count": 2,
     "metadata": {},
     "output_type": "execute_result"
    }
   ],
   "source": [
    "files = os.listdir(\"../input/utkface-new/UTKFace/\")\n",
    "files[:5]"
   ]
  },
  {
   "cell_type": "code",
   "execution_count": 3,
   "id": "c6cd6905",
   "metadata": {
    "execution": {
     "iopub.execute_input": "2022-01-06T16:49:51.758308Z",
     "iopub.status.busy": "2022-01-06T16:49:51.757786Z",
     "iopub.status.idle": "2022-01-06T16:52:20.632075Z",
     "shell.execute_reply": "2022-01-06T16:52:20.631553Z",
     "shell.execute_reply.started": "2022-01-06T15:37:41.722462Z"
    },
    "papermill": {
     "duration": 148.900493,
     "end_time": "2022-01-06T16:52:20.632213",
     "exception": false,
     "start_time": "2022-01-06T16:49:51.731720",
     "status": "completed"
    },
    "tags": []
   },
   "outputs": [
    {
     "name": "stderr",
     "output_type": "stream",
     "text": [
      "100%|██████████| 23708/23708 [02:28<00:00, 159.27it/s]\n"
     ]
    }
   ],
   "source": [
    "image_array = []\n",
    "age_array = []\n",
    "gender_array = []\n",
    "file_path = []\n",
    "file_name = []\n",
    "labels = []\n",
    "path = \"../input/utkface-new/UTKFace/\"\n",
    "\n",
    "## loop through each files\n",
    "for i in tqdm(range(len(files))):\n",
    "    age = int(files[i].split(\"_\")[0])\n",
    "    gender = int(files[i].split(\"_\")[1]) # 0 - male, 1 - female\n",
    "    if (age <= 100) :\n",
    "        # remove dataset for age group above 100\n",
    "        age_array.append(age)\n",
    "        gender_array.append(gender)\n",
    "        file_path.append(path+\"/\"+files[i])\n",
    "        labels.append([[age], [gender]])\n",
    "        image = cv2.imread(path+files[i])\n",
    "        # resize image (96, 96), ori is (200, 200)\n",
    "        image = cv2.resize(image, (96, 96))\n",
    "        image = cv2.cvtColor(image, cv2.COLOR_BGR2RGB)\n",
    "        image_array.append(image)\n",
    "        \n",
    "        "
   ]
  },
  {
   "cell_type": "code",
   "execution_count": 4,
   "id": "7eaa61e2",
   "metadata": {
    "execution": {
     "iopub.execute_input": "2022-01-06T16:52:21.404907Z",
     "iopub.status.busy": "2022-01-06T16:52:21.404235Z",
     "iopub.status.idle": "2022-01-06T16:52:21.409100Z",
     "shell.execute_reply": "2022-01-06T16:52:21.408678Z",
     "shell.execute_reply.started": "2022-01-06T15:40:00.679678Z"
    },
    "papermill": {
     "duration": 0.398338,
     "end_time": "2022-01-06T16:52:21.409220",
     "exception": false,
     "start_time": "2022-01-06T16:52:21.010882",
     "status": "completed"
    },
    "tags": []
   },
   "outputs": [],
   "source": [
    "a, b = np.unique(age_array, return_counts=\"True\")"
   ]
  },
  {
   "cell_type": "code",
   "execution_count": 5,
   "id": "f0390644",
   "metadata": {
    "execution": {
     "iopub.execute_input": "2022-01-06T16:52:22.175246Z",
     "iopub.status.busy": "2022-01-06T16:52:22.174683Z",
     "iopub.status.idle": "2022-01-06T16:52:22.180213Z",
     "shell.execute_reply": "2022-01-06T16:52:22.179676Z",
     "shell.execute_reply.started": "2022-01-06T15:40:00.694373Z"
    },
    "papermill": {
     "duration": 0.392003,
     "end_time": "2022-01-06T16:52:22.180331",
     "exception": false,
     "start_time": "2022-01-06T16:52:21.788328",
     "status": "completed"
    },
    "tags": []
   },
   "outputs": [
    {
     "data": {
      "text/plain": [
       "array([  1,   2,   3,   4,   5,   6,   7,   8,   9,  10,  11,  12,  13,\n",
       "        14,  15,  16,  17,  18,  19,  20,  21,  22,  23,  24,  25,  26,\n",
       "        27,  28,  29,  30,  31,  32,  33,  34,  35,  36,  37,  38,  39,\n",
       "        40,  41,  42,  43,  44,  45,  46,  47,  48,  49,  50,  51,  52,\n",
       "        53,  54,  55,  56,  57,  58,  59,  60,  61,  62,  63,  64,  65,\n",
       "        66,  67,  68,  69,  70,  71,  72,  73,  74,  75,  76,  77,  78,\n",
       "        79,  80,  81,  82,  83,  84,  85,  86,  87,  88,  89,  90,  91,\n",
       "        92,  93,  95,  96,  99, 100])"
      ]
     },
     "execution_count": 5,
     "metadata": {},
     "output_type": "execute_result"
    }
   ],
   "source": [
    "a # age goup from 1 - 116"
   ]
  },
  {
   "cell_type": "code",
   "execution_count": 6,
   "id": "81868a3c",
   "metadata": {
    "execution": {
     "iopub.execute_input": "2022-01-06T16:52:22.944362Z",
     "iopub.status.busy": "2022-01-06T16:52:22.943126Z",
     "iopub.status.idle": "2022-01-06T16:52:22.946642Z",
     "shell.execute_reply": "2022-01-06T16:52:22.946215Z",
     "shell.execute_reply.started": "2022-01-06T15:40:00.708848Z"
    },
    "papermill": {
     "duration": 0.388105,
     "end_time": "2022-01-06T16:52:22.946779",
     "exception": false,
     "start_time": "2022-01-06T16:52:22.558674",
     "status": "completed"
    },
    "tags": []
   },
   "outputs": [
    {
     "data": {
      "text/plain": [
       "97"
      ]
     },
     "execution_count": 6,
     "metadata": {},
     "output_type": "execute_result"
    }
   ],
   "source": [
    "len(a)"
   ]
  },
  {
   "cell_type": "code",
   "execution_count": 7,
   "id": "0c9032b7",
   "metadata": {
    "execution": {
     "iopub.execute_input": "2022-01-06T16:52:23.712050Z",
     "iopub.status.busy": "2022-01-06T16:52:23.711396Z",
     "iopub.status.idle": "2022-01-06T16:52:23.714130Z",
     "shell.execute_reply": "2022-01-06T16:52:23.714518Z",
     "shell.execute_reply.started": "2022-01-06T15:40:00.722255Z"
    },
    "papermill": {
     "duration": 0.387795,
     "end_time": "2022-01-06T16:52:23.714670",
     "exception": false,
     "start_time": "2022-01-06T16:52:23.326875",
     "status": "completed"
    },
    "tags": []
   },
   "outputs": [
    {
     "data": {
      "text/plain": [
       "array([1123,  482,  289,  273,  196,  131,  139,  263,  166,  156,   65,\n",
       "        130,   81,  157,  177,  247,  158,  262,   98,  284,  346,  395,\n",
       "        426,  859,  734, 2197,  615,  918,  570,  724,  350,  664,  143,\n",
       "        409,  880,  483,  293,  325,  266,  526,  132,  266,  157,  100,\n",
       "        440,  153,  170,  153,  148,  381,  138,  232,  241,  353,  268,\n",
       "        236,   97,  271,   82,  293,  161,  125,  103,   50,  259,   77,\n",
       "         94,  100,   56,  147,   33,   98,   63,   32,  148,   58,   28,\n",
       "         69,   23,  133,   22,   40,   18,   24,  155,   35,   10,   34,\n",
       "         33,   82,    2,   13,    5,    9,   17,    9,   11])"
      ]
     },
     "execution_count": 7,
     "metadata": {},
     "output_type": "execute_result"
    }
   ],
   "source": [
    "b # total number of image for each age group"
   ]
  },
  {
   "cell_type": "code",
   "execution_count": 8,
   "id": "e0bcd3e8",
   "metadata": {
    "execution": {
     "iopub.execute_input": "2022-01-06T16:52:24.484576Z",
     "iopub.status.busy": "2022-01-06T16:52:24.483554Z",
     "iopub.status.idle": "2022-01-06T16:52:26.298765Z",
     "shell.execute_reply": "2022-01-06T16:52:26.297830Z",
     "shell.execute_reply.started": "2022-01-06T15:40:00.735057Z"
    },
    "papermill": {
     "duration": 2.206901,
     "end_time": "2022-01-06T16:52:26.298907",
     "exception": false,
     "start_time": "2022-01-06T16:52:24.092006",
     "status": "completed"
    },
    "tags": []
   },
   "outputs": [],
   "source": [
    "## convert image list to array\n",
    "# divide each image by 255 to scale image from 0-255 to 0-1\n",
    "image_array = np.array(image_array)/255.0"
   ]
  },
  {
   "cell_type": "code",
   "execution_count": 9,
   "id": "7dc435b8",
   "metadata": {
    "execution": {
     "iopub.execute_input": "2022-01-06T16:52:27.401369Z",
     "iopub.status.busy": "2022-01-06T16:52:27.400451Z",
     "iopub.status.idle": "2022-01-06T16:52:27.402239Z",
     "shell.execute_reply": "2022-01-06T16:52:27.402598Z",
     "shell.execute_reply.started": "2022-01-06T15:40:03.610273Z"
    },
    "papermill": {
     "duration": 0.638605,
     "end_time": "2022-01-06T16:52:27.402764",
     "exception": false,
     "start_time": "2022-01-06T16:52:26.764159",
     "status": "completed"
    },
    "tags": []
   },
   "outputs": [],
   "source": [
    "## convert label list to array\n",
    "labels = np.array(labels)"
   ]
  },
  {
   "cell_type": "code",
   "execution_count": 10,
   "id": "d4717276",
   "metadata": {
    "execution": {
     "iopub.execute_input": "2022-01-06T16:52:28.172046Z",
     "iopub.status.busy": "2022-01-06T16:52:28.171366Z",
     "iopub.status.idle": "2022-01-06T16:52:30.919558Z",
     "shell.execute_reply": "2022-01-06T16:52:30.919045Z",
     "shell.execute_reply.started": "2022-01-06T15:40:03.729871Z"
    },
    "papermill": {
     "duration": 3.135679,
     "end_time": "2022-01-06T16:52:30.919715",
     "exception": false,
     "start_time": "2022-01-06T16:52:27.784036",
     "status": "completed"
    },
    "tags": []
   },
   "outputs": [],
   "source": [
    "from sklearn.model_selection import train_test_split\n",
    "image_array, X_test, Y_train, Y_test = train_test_split(image_array, labels, test_size=0.2)\n"
   ]
  },
  {
   "cell_type": "code",
   "execution_count": 11,
   "id": "2183bbc2",
   "metadata": {
    "execution": {
     "iopub.execute_input": "2022-01-06T16:52:31.692613Z",
     "iopub.status.busy": "2022-01-06T16:52:31.691701Z",
     "iopub.status.idle": "2022-01-06T16:52:31.694039Z",
     "shell.execute_reply": "2022-01-06T16:52:31.693520Z",
     "shell.execute_reply.started": "2022-01-06T15:40:07.089890Z"
    },
    "papermill": {
     "duration": 0.38941,
     "end_time": "2022-01-06T16:52:31.694157",
     "exception": false,
     "start_time": "2022-01-06T16:52:31.304747",
     "status": "completed"
    },
    "tags": []
   },
   "outputs": [],
   "source": [
    "# split age and gender in labels\n",
    "Y_train_split = [Y_train[:,1], Y_train[:,0]]\n",
    "Y_test_split = [Y_test[:,1], Y_test[:,0]]"
   ]
  },
  {
   "cell_type": "code",
   "execution_count": 12,
   "id": "bb38a570",
   "metadata": {
    "execution": {
     "iopub.execute_input": "2022-01-06T16:52:32.530562Z",
     "iopub.status.busy": "2022-01-06T16:52:32.529578Z",
     "iopub.status.idle": "2022-01-06T16:52:32.532484Z",
     "shell.execute_reply": "2022-01-06T16:52:32.532898Z",
     "shell.execute_reply.started": "2022-01-06T15:40:07.101320Z"
    },
    "papermill": {
     "duration": 0.396629,
     "end_time": "2022-01-06T16:52:32.533029",
     "exception": false,
     "start_time": "2022-01-06T16:52:32.136400",
     "status": "completed"
    },
    "tags": []
   },
   "outputs": [
    {
     "data": {
      "text/plain": [
       "[array([[1],\n",
       "        [0],\n",
       "        [0],\n",
       "        ...,\n",
       "        [0],\n",
       "        [0],\n",
       "        [0]]),\n",
       " array([[ 7],\n",
       "        [62],\n",
       "        [85],\n",
       "        ...,\n",
       "        [28],\n",
       "        [63],\n",
       "        [45]])]"
      ]
     },
     "execution_count": 12,
     "metadata": {},
     "output_type": "execute_result"
    }
   ],
   "source": [
    "Y_train_split"
   ]
  },
  {
   "cell_type": "code",
   "execution_count": 13,
   "id": "01a0bf4e",
   "metadata": {
    "execution": {
     "iopub.execute_input": "2022-01-06T16:52:33.313825Z",
     "iopub.status.busy": "2022-01-06T16:52:33.311677Z",
     "iopub.status.idle": "2022-01-06T16:52:38.391833Z",
     "shell.execute_reply": "2022-01-06T16:52:38.390725Z",
     "shell.execute_reply.started": "2022-01-06T15:40:07.114335Z"
    },
    "papermill": {
     "duration": 5.467664,
     "end_time": "2022-01-06T16:52:38.391983",
     "exception": false,
     "start_time": "2022-01-06T16:52:32.924319",
     "status": "completed"
    },
    "tags": []
   },
   "outputs": [],
   "source": [
    "## import all tensorflow keras library\n",
    "from tensorflow.keras.layers import (\n",
    "    Input,\n",
    "    Conv2D, \n",
    "    MaxPool2D, \n",
    "    Dense, \n",
    "    BatchNormalization, \n",
    "    ReLU, \n",
    "    Dropout, \n",
    "    Flatten,\n",
    "    Dropout,\n",
    "    Concatenate,\n",
    "    GlobalAvgPool2D\n",
    ")\n",
    "\n",
    "from tensorflow.keras.regularizers import L2\n",
    "import tensorflow as tf"
   ]
  },
  {
   "cell_type": "code",
   "execution_count": 14,
   "id": "bc517ce3",
   "metadata": {
    "execution": {
     "iopub.execute_input": "2022-01-06T16:52:39.161846Z",
     "iopub.status.busy": "2022-01-06T16:52:39.160248Z",
     "iopub.status.idle": "2022-01-06T16:52:39.162406Z",
     "shell.execute_reply": "2022-01-06T16:52:39.162834Z",
     "shell.execute_reply.started": "2022-01-06T15:40:13.129308Z"
    },
    "papermill": {
     "duration": 0.389285,
     "end_time": "2022-01-06T16:52:39.162968",
     "exception": false,
     "start_time": "2022-01-06T16:52:38.773683",
     "status": "completed"
    },
    "tags": []
   },
   "outputs": [],
   "source": [
    "# create a new CNN model\n",
    "def inception_module(inputs, f1, f2):\n",
    "    x1 = Conv2D(f1,3,padding=\"same\")(inputs)\n",
    "    x1 = BatchNormalization()(x1)\n",
    "    x1 = ReLU()(x1)\n",
    "    \n",
    "    x2 = Conv2D(f2,5,padding=\"same\")(inputs)\n",
    "    x2 = BatchNormalization()(x2)\n",
    "    x2 = ReLU()(x2)\n",
    "    \n",
    "    # combine x1 x2\n",
    "    return Concatenate()([x1, x2])"
   ]
  },
  {
   "cell_type": "code",
   "execution_count": 15,
   "id": "e57049d7",
   "metadata": {
    "execution": {
     "iopub.execute_input": "2022-01-06T16:52:39.985583Z",
     "iopub.status.busy": "2022-01-06T16:52:39.984725Z",
     "iopub.status.idle": "2022-01-06T16:52:39.986460Z",
     "shell.execute_reply": "2022-01-06T16:52:39.987299Z",
     "shell.execute_reply.started": "2022-01-06T15:40:13.151378Z"
    },
    "papermill": {
     "duration": 0.402492,
     "end_time": "2022-01-06T16:52:39.987440",
     "exception": false,
     "start_time": "2022-01-06T16:52:39.584948",
     "status": "completed"
    },
    "tags": []
   },
   "outputs": [],
   "source": [
    "# define model\n",
    "def build_model():\n",
    "    inputs = Input((96, 96, 3))\n",
    "    x = inception_module(inputs, 64, 32)\n",
    "    x = MaxPool2D()(x)\n",
    "    \n",
    "    x = inception_module(x, 64, 32)\n",
    "    x = MaxPool2D()(x)\n",
    "    x = inception_module(x, 128, 32)\n",
    "    x = MaxPool2D()(x)\n",
    "    x = inception_module(x, 128, 32)\n",
    "    x = MaxPool2D()(x)\n",
    "    x = inception_module(x, 256, 64)\n",
    "    x = MaxPool2D()(x)\n",
    "    \n",
    "    x = Flatten()(x)\n",
    "    \n",
    "    # gender\n",
    "    dense_gender = Dense(64, activation=\"relu\")(x)\n",
    "    drop_gender = Dropout(0.3)(dense_gender)\n",
    "    output_gender = Dense(1, activation=\"sigmoid\", name=\"gender\")(drop_gender)\n",
    "    \n",
    "    # age\n",
    "    x = Dense(1024,kernel_regularizer=L2(l2=0.05))(x)\n",
    "    x = BatchNormalization()(x)\n",
    "    x = ReLU()(x)\n",
    "    x = Dense(512,kernel_regularizer=L2(l2=0.02))(x)\n",
    "    x = BatchNormalization()(x)\n",
    "    x = ReLU()(x)\n",
    "    x = Dense(128,kernel_regularizer=L2(l2=0.01))(x)\n",
    "    x = BatchNormalization()(x)\n",
    "    x = ReLU()(x)\n",
    "    \n",
    "    x = Dense(1)(x)\n",
    "    \n",
    "    # define model input and output\n",
    "    model = tf.keras.Model(inputs=[inputs],outputs=[output_gender,x])\n",
    "    return model"
   ]
  },
  {
   "cell_type": "code",
   "execution_count": 16,
   "id": "f4cb067d",
   "metadata": {
    "execution": {
     "iopub.execute_input": "2022-01-06T16:52:40.784384Z",
     "iopub.status.busy": "2022-01-06T16:52:40.783788Z",
     "iopub.status.idle": "2022-01-06T16:52:43.237432Z",
     "shell.execute_reply": "2022-01-06T16:52:43.236907Z",
     "shell.execute_reply.started": "2022-01-06T15:40:13.175693Z"
    },
    "papermill": {
     "duration": 2.869323,
     "end_time": "2022-01-06T16:52:43.237605",
     "exception": false,
     "start_time": "2022-01-06T16:52:40.368282",
     "status": "completed"
    },
    "tags": []
   },
   "outputs": [
    {
     "name": "stderr",
     "output_type": "stream",
     "text": [
      "2022-01-06 16:52:40.871009: I tensorflow/stream_executor/cuda/cuda_gpu_executor.cc:937] successful NUMA node read from SysFS had negative value (-1), but there must be at least one NUMA node, so returning NUMA node zero\n",
      "2022-01-06 16:52:40.969853: I tensorflow/stream_executor/cuda/cuda_gpu_executor.cc:937] successful NUMA node read from SysFS had negative value (-1), but there must be at least one NUMA node, so returning NUMA node zero\n",
      "2022-01-06 16:52:40.970565: I tensorflow/stream_executor/cuda/cuda_gpu_executor.cc:937] successful NUMA node read from SysFS had negative value (-1), but there must be at least one NUMA node, so returning NUMA node zero\n",
      "2022-01-06 16:52:40.971726: I tensorflow/core/platform/cpu_feature_guard.cc:142] This TensorFlow binary is optimized with oneAPI Deep Neural Network Library (oneDNN) to use the following CPU instructions in performance-critical operations:  AVX2 AVX512F FMA\n",
      "To enable them in other operations, rebuild TensorFlow with the appropriate compiler flags.\n",
      "2022-01-06 16:52:40.973088: I tensorflow/stream_executor/cuda/cuda_gpu_executor.cc:937] successful NUMA node read from SysFS had negative value (-1), but there must be at least one NUMA node, so returning NUMA node zero\n",
      "2022-01-06 16:52:40.973812: I tensorflow/stream_executor/cuda/cuda_gpu_executor.cc:937] successful NUMA node read from SysFS had negative value (-1), but there must be at least one NUMA node, so returning NUMA node zero\n",
      "2022-01-06 16:52:40.974464: I tensorflow/stream_executor/cuda/cuda_gpu_executor.cc:937] successful NUMA node read from SysFS had negative value (-1), but there must be at least one NUMA node, so returning NUMA node zero\n",
      "2022-01-06 16:52:42.609415: I tensorflow/stream_executor/cuda/cuda_gpu_executor.cc:937] successful NUMA node read from SysFS had negative value (-1), but there must be at least one NUMA node, so returning NUMA node zero\n",
      "2022-01-06 16:52:42.610253: I tensorflow/stream_executor/cuda/cuda_gpu_executor.cc:937] successful NUMA node read from SysFS had negative value (-1), but there must be at least one NUMA node, so returning NUMA node zero\n",
      "2022-01-06 16:52:42.610963: I tensorflow/stream_executor/cuda/cuda_gpu_executor.cc:937] successful NUMA node read from SysFS had negative value (-1), but there must be at least one NUMA node, so returning NUMA node zero\n",
      "2022-01-06 16:52:42.611537: I tensorflow/core/common_runtime/gpu/gpu_device.cc:1510] Created device /job:localhost/replica:0/task:0/device:GPU:0 with 15403 MB memory:  -> device: 0, name: Tesla P100-PCIE-16GB, pci bus id: 0000:00:04.0, compute capability: 6.0\n"
     ]
    },
    {
     "name": "stdout",
     "output_type": "stream",
     "text": [
      "Model: \"model\"\n",
      "__________________________________________________________________________________________________\n",
      "Layer (type)                    Output Shape         Param #     Connected to                     \n",
      "==================================================================================================\n",
      "input_1 (InputLayer)            [(None, 96, 96, 3)]  0                                            \n",
      "__________________________________________________________________________________________________\n",
      "conv2d (Conv2D)                 (None, 96, 96, 64)   1792        input_1[0][0]                    \n",
      "__________________________________________________________________________________________________\n",
      "conv2d_1 (Conv2D)               (None, 96, 96, 32)   2432        input_1[0][0]                    \n",
      "__________________________________________________________________________________________________\n",
      "batch_normalization (BatchNorma (None, 96, 96, 64)   256         conv2d[0][0]                     \n",
      "__________________________________________________________________________________________________\n",
      "batch_normalization_1 (BatchNor (None, 96, 96, 32)   128         conv2d_1[0][0]                   \n",
      "__________________________________________________________________________________________________\n",
      "re_lu (ReLU)                    (None, 96, 96, 64)   0           batch_normalization[0][0]        \n",
      "__________________________________________________________________________________________________\n",
      "re_lu_1 (ReLU)                  (None, 96, 96, 32)   0           batch_normalization_1[0][0]      \n",
      "__________________________________________________________________________________________________\n",
      "concatenate (Concatenate)       (None, 96, 96, 96)   0           re_lu[0][0]                      \n",
      "                                                                 re_lu_1[0][0]                    \n",
      "__________________________________________________________________________________________________\n",
      "max_pooling2d (MaxPooling2D)    (None, 48, 48, 96)   0           concatenate[0][0]                \n",
      "__________________________________________________________________________________________________\n",
      "conv2d_2 (Conv2D)               (None, 48, 48, 64)   55360       max_pooling2d[0][0]              \n",
      "__________________________________________________________________________________________________\n",
      "conv2d_3 (Conv2D)               (None, 48, 48, 32)   76832       max_pooling2d[0][0]              \n",
      "__________________________________________________________________________________________________\n",
      "batch_normalization_2 (BatchNor (None, 48, 48, 64)   256         conv2d_2[0][0]                   \n",
      "__________________________________________________________________________________________________\n",
      "batch_normalization_3 (BatchNor (None, 48, 48, 32)   128         conv2d_3[0][0]                   \n",
      "__________________________________________________________________________________________________\n",
      "re_lu_2 (ReLU)                  (None, 48, 48, 64)   0           batch_normalization_2[0][0]      \n",
      "__________________________________________________________________________________________________\n",
      "re_lu_3 (ReLU)                  (None, 48, 48, 32)   0           batch_normalization_3[0][0]      \n",
      "__________________________________________________________________________________________________\n",
      "concatenate_1 (Concatenate)     (None, 48, 48, 96)   0           re_lu_2[0][0]                    \n",
      "                                                                 re_lu_3[0][0]                    \n",
      "__________________________________________________________________________________________________\n",
      "max_pooling2d_1 (MaxPooling2D)  (None, 24, 24, 96)   0           concatenate_1[0][0]              \n",
      "__________________________________________________________________________________________________\n",
      "conv2d_4 (Conv2D)               (None, 24, 24, 128)  110720      max_pooling2d_1[0][0]            \n",
      "__________________________________________________________________________________________________\n",
      "conv2d_5 (Conv2D)               (None, 24, 24, 32)   76832       max_pooling2d_1[0][0]            \n",
      "__________________________________________________________________________________________________\n",
      "batch_normalization_4 (BatchNor (None, 24, 24, 128)  512         conv2d_4[0][0]                   \n",
      "__________________________________________________________________________________________________\n",
      "batch_normalization_5 (BatchNor (None, 24, 24, 32)   128         conv2d_5[0][0]                   \n",
      "__________________________________________________________________________________________________\n",
      "re_lu_4 (ReLU)                  (None, 24, 24, 128)  0           batch_normalization_4[0][0]      \n",
      "__________________________________________________________________________________________________\n",
      "re_lu_5 (ReLU)                  (None, 24, 24, 32)   0           batch_normalization_5[0][0]      \n",
      "__________________________________________________________________________________________________\n",
      "concatenate_2 (Concatenate)     (None, 24, 24, 160)  0           re_lu_4[0][0]                    \n",
      "                                                                 re_lu_5[0][0]                    \n",
      "__________________________________________________________________________________________________\n",
      "max_pooling2d_2 (MaxPooling2D)  (None, 12, 12, 160)  0           concatenate_2[0][0]              \n",
      "__________________________________________________________________________________________________\n",
      "conv2d_6 (Conv2D)               (None, 12, 12, 128)  184448      max_pooling2d_2[0][0]            \n",
      "__________________________________________________________________________________________________\n",
      "conv2d_7 (Conv2D)               (None, 12, 12, 32)   128032      max_pooling2d_2[0][0]            \n",
      "__________________________________________________________________________________________________\n",
      "batch_normalization_6 (BatchNor (None, 12, 12, 128)  512         conv2d_6[0][0]                   \n",
      "__________________________________________________________________________________________________\n",
      "batch_normalization_7 (BatchNor (None, 12, 12, 32)   128         conv2d_7[0][0]                   \n",
      "__________________________________________________________________________________________________\n",
      "re_lu_6 (ReLU)                  (None, 12, 12, 128)  0           batch_normalization_6[0][0]      \n",
      "__________________________________________________________________________________________________\n",
      "re_lu_7 (ReLU)                  (None, 12, 12, 32)   0           batch_normalization_7[0][0]      \n",
      "__________________________________________________________________________________________________\n",
      "concatenate_3 (Concatenate)     (None, 12, 12, 160)  0           re_lu_6[0][0]                    \n",
      "                                                                 re_lu_7[0][0]                    \n",
      "__________________________________________________________________________________________________\n",
      "max_pooling2d_3 (MaxPooling2D)  (None, 6, 6, 160)    0           concatenate_3[0][0]              \n",
      "__________________________________________________________________________________________________\n",
      "conv2d_8 (Conv2D)               (None, 6, 6, 256)    368896      max_pooling2d_3[0][0]            \n",
      "__________________________________________________________________________________________________\n",
      "conv2d_9 (Conv2D)               (None, 6, 6, 64)     256064      max_pooling2d_3[0][0]            \n",
      "__________________________________________________________________________________________________\n",
      "batch_normalization_8 (BatchNor (None, 6, 6, 256)    1024        conv2d_8[0][0]                   \n",
      "__________________________________________________________________________________________________\n",
      "batch_normalization_9 (BatchNor (None, 6, 6, 64)     256         conv2d_9[0][0]                   \n",
      "__________________________________________________________________________________________________\n",
      "re_lu_8 (ReLU)                  (None, 6, 6, 256)    0           batch_normalization_8[0][0]      \n",
      "__________________________________________________________________________________________________\n",
      "re_lu_9 (ReLU)                  (None, 6, 6, 64)     0           batch_normalization_9[0][0]      \n",
      "__________________________________________________________________________________________________\n",
      "concatenate_4 (Concatenate)     (None, 6, 6, 320)    0           re_lu_8[0][0]                    \n",
      "                                                                 re_lu_9[0][0]                    \n",
      "__________________________________________________________________________________________________\n",
      "max_pooling2d_4 (MaxPooling2D)  (None, 3, 3, 320)    0           concatenate_4[0][0]              \n",
      "__________________________________________________________________________________________________\n",
      "flatten (Flatten)               (None, 2880)         0           max_pooling2d_4[0][0]            \n",
      "__________________________________________________________________________________________________\n",
      "dense_1 (Dense)                 (None, 1024)         2950144     flatten[0][0]                    \n",
      "__________________________________________________________________________________________________\n",
      "batch_normalization_10 (BatchNo (None, 1024)         4096        dense_1[0][0]                    \n",
      "__________________________________________________________________________________________________\n",
      "re_lu_10 (ReLU)                 (None, 1024)         0           batch_normalization_10[0][0]     \n",
      "__________________________________________________________________________________________________\n",
      "dense_2 (Dense)                 (None, 512)          524800      re_lu_10[0][0]                   \n",
      "__________________________________________________________________________________________________\n",
      "batch_normalization_11 (BatchNo (None, 512)          2048        dense_2[0][0]                    \n",
      "__________________________________________________________________________________________________\n",
      "re_lu_11 (ReLU)                 (None, 512)          0           batch_normalization_11[0][0]     \n",
      "__________________________________________________________________________________________________\n",
      "dense_3 (Dense)                 (None, 128)          65664       re_lu_11[0][0]                   \n",
      "__________________________________________________________________________________________________\n",
      "dense (Dense)                   (None, 64)           184384      flatten[0][0]                    \n",
      "__________________________________________________________________________________________________\n",
      "batch_normalization_12 (BatchNo (None, 128)          512         dense_3[0][0]                    \n",
      "__________________________________________________________________________________________________\n",
      "dropout (Dropout)               (None, 64)           0           dense[0][0]                      \n",
      "__________________________________________________________________________________________________\n",
      "re_lu_12 (ReLU)                 (None, 128)          0           batch_normalization_12[0][0]     \n",
      "__________________________________________________________________________________________________\n",
      "gender (Dense)                  (None, 1)            65          dropout[0][0]                    \n",
      "__________________________________________________________________________________________________\n",
      "dense_4 (Dense)                 (None, 1)            129         re_lu_12[0][0]                   \n",
      "==================================================================================================\n",
      "Total params: 4,996,578\n",
      "Trainable params: 4,991,586\n",
      "Non-trainable params: 4,992\n",
      "__________________________________________________________________________________________________\n"
     ]
    }
   ],
   "source": [
    "model=build_model()\n",
    "model.summary()"
   ]
  },
  {
   "cell_type": "code",
   "execution_count": 17,
   "id": "421e94ee",
   "metadata": {
    "execution": {
     "iopub.execute_input": "2022-01-06T16:52:44.014009Z",
     "iopub.status.busy": "2022-01-06T16:52:44.013437Z",
     "iopub.status.idle": "2022-01-06T16:52:44.021777Z",
     "shell.execute_reply": "2022-01-06T16:52:44.021298Z",
     "shell.execute_reply.started": "2022-01-06T15:40:16.162938Z"
    },
    "papermill": {
     "duration": 0.402159,
     "end_time": "2022-01-06T16:52:44.021898",
     "exception": false,
     "start_time": "2022-01-06T16:52:43.619739",
     "status": "completed"
    },
    "tags": []
   },
   "outputs": [],
   "source": [
    "model.compile(\n",
    "    optimizer=tf.keras.optimizers.Adam(),\n",
    "    loss=['binary_crossentropy', 'mean_squared_error'],\n",
    "    metrics=['mae']\n",
    ")\n",
    "\n",
    "# binary_crossentropy for gender\n",
    "# mean_squared_error for age"
   ]
  },
  {
   "cell_type": "code",
   "execution_count": 18,
   "id": "f92e5b54",
   "metadata": {
    "execution": {
     "iopub.execute_input": "2022-01-06T16:52:44.802288Z",
     "iopub.status.busy": "2022-01-06T16:52:44.801396Z",
     "iopub.status.idle": "2022-01-06T16:52:44.803178Z",
     "shell.execute_reply": "2022-01-06T16:52:44.803569Z",
     "shell.execute_reply.started": "2022-01-06T15:40:16.188712Z"
    },
    "papermill": {
     "duration": 0.400334,
     "end_time": "2022-01-06T16:52:44.803746",
     "exception": false,
     "start_time": "2022-01-06T16:52:44.403412",
     "status": "completed"
    },
    "tags": []
   },
   "outputs": [],
   "source": [
    "ckp_path=\"trained_model/model\"\n",
    "model_checkpoint=tf.keras.callbacks.ModelCheckpoint(\n",
    "    filepath = ckp_path,\n",
    "    monitor = \"val_dense_4_mae\",\n",
    "    save_best_only = True,\n",
    "    save_weights_only = True,\n",
    "    mode = \"auto\"\n",
    ")"
   ]
  },
  {
   "cell_type": "code",
   "execution_count": 19,
   "id": "6978d82a",
   "metadata": {
    "execution": {
     "iopub.execute_input": "2022-01-06T16:52:45.569998Z",
     "iopub.status.busy": "2022-01-06T16:52:45.569094Z",
     "iopub.status.idle": "2022-01-06T16:52:45.570741Z",
     "shell.execute_reply": "2022-01-06T16:52:45.571226Z",
     "shell.execute_reply.started": "2022-01-06T15:40:16.196938Z"
    },
    "papermill": {
     "duration": 0.38626,
     "end_time": "2022-01-06T16:52:45.571358",
     "exception": false,
     "start_time": "2022-01-06T16:52:45.185098",
     "status": "completed"
    },
    "tags": []
   },
   "outputs": [],
   "source": [
    "reduce_lr = tf.keras.callbacks.ReduceLROnPlateau(factor=0.9, monitor=\"val_dense_4_mae\", mode=\"auto\", cooldown=0, patience=5, varbose=1, min_lr=1e-5)"
   ]
  },
  {
   "cell_type": "code",
   "execution_count": 20,
   "id": "166f9b60",
   "metadata": {
    "execution": {
     "iopub.execute_input": "2022-01-06T16:52:46.342949Z",
     "iopub.status.busy": "2022-01-06T16:52:46.342100Z",
     "iopub.status.idle": "2022-01-06T17:58:14.838136Z",
     "shell.execute_reply": "2022-01-06T17:58:14.837061Z",
     "shell.execute_reply.started": "2022-01-06T15:40:16.213206Z"
    },
    "papermill": {
     "duration": 3928.886452,
     "end_time": "2022-01-06T17:58:14.838302",
     "exception": false,
     "start_time": "2022-01-06T16:52:45.951850",
     "status": "completed"
    },
    "tags": []
   },
   "outputs": [
    {
     "name": "stderr",
     "output_type": "stream",
     "text": [
      "2022-01-06 16:52:47.136493: W tensorflow/core/framework/cpu_allocator_impl.cc:80] Allocation of 2095607808 exceeds 10% of free system memory.\n",
      "2022-01-06 16:52:49.375340: W tensorflow/core/framework/cpu_allocator_impl.cc:80] Allocation of 2095607808 exceeds 10% of free system memory.\n",
      "2022-01-06 16:52:50.918350: I tensorflow/compiler/mlir/mlir_graph_optimization_pass.cc:185] None of the MLIR Optimization Passes are enabled (registered 2)\n"
     ]
    },
    {
     "name": "stdout",
     "output_type": "stream",
     "text": [
      "Epoch 1/300\n"
     ]
    },
    {
     "name": "stderr",
     "output_type": "stream",
     "text": [
      "2022-01-06 16:52:53.705924: I tensorflow/stream_executor/cuda/cuda_dnn.cc:369] Loaded cuDNN version 8005\n"
     ]
    },
    {
     "name": "stdout",
     "output_type": "stream",
     "text": [
      "75/75 [==============================] - ETA: 0s - loss: 1181.6782 - gender_loss: 0.6583 - dense_4_loss: 1096.5583 - gender_mae: 0.4240 - dense_4_mae: 29.4326"
     ]
    },
    {
     "name": "stderr",
     "output_type": "stream",
     "text": [
      "2022-01-06 16:53:12.393186: W tensorflow/core/framework/cpu_allocator_impl.cc:80] Allocation of 523984896 exceeds 10% of free system memory.\n",
      "2022-01-06 16:53:12.953422: W tensorflow/core/framework/cpu_allocator_impl.cc:80] Allocation of 523984896 exceeds 10% of free system memory.\n"
     ]
    },
    {
     "name": "stdout",
     "output_type": "stream",
     "text": [
      "75/75 [==============================] - 24s 202ms/step - loss: 1181.6782 - gender_loss: 0.6583 - dense_4_loss: 1096.5583 - gender_mae: 0.4240 - dense_4_mae: 29.4326 - val_loss: 904.0029 - val_gender_loss: 0.6596 - val_dense_4_loss: 832.9091 - val_gender_mae: 0.4791 - val_dense_4_mae: 24.4113\n",
      "Epoch 2/300\n",
      "75/75 [==============================] - 13s 172ms/step - loss: 827.5951 - gender_loss: 0.5581 - dense_4_loss: 765.8461 - gender_mae: 0.3849 - dense_4_mae: 24.1489 - val_loss: 775.1466 - val_gender_loss: 0.6606 - val_dense_4_loss: 723.6211 - val_gender_mae: 0.4586 - val_dense_4_mae: 22.1983\n",
      "Epoch 3/300\n",
      "75/75 [==============================] - 13s 173ms/step - loss: 500.8457 - gender_loss: 0.4773 - dense_4_loss: 457.2630 - gender_mae: 0.3267 - dense_4_mae: 18.1952 - val_loss: 1215.9768 - val_gender_loss: 0.6423 - val_dense_4_loss: 1179.1307 - val_gender_mae: 0.4494 - val_dense_4_mae: 28.9955\n",
      "Epoch 4/300\n",
      "75/75 [==============================] - 13s 171ms/step - loss: 268.5611 - gender_loss: 0.4398 - dense_4_loss: 235.5921 - gender_mae: 0.2980 - dense_4_mae: 12.2976 - val_loss: 385.2506 - val_gender_loss: 0.6045 - val_dense_4_loss: 356.2982 - val_gender_mae: 0.3978 - val_dense_4_mae: 14.4844\n",
      "Epoch 5/300\n",
      "75/75 [==============================] - 13s 173ms/step - loss: 156.0249 - gender_loss: 0.4275 - dense_4_loss: 127.0022 - gender_mae: 0.2953 - dense_4_mae: 8.4061 - val_loss: 289.6539 - val_gender_loss: 0.5135 - val_dense_4_loss: 263.5634 - val_gender_mae: 0.3577 - val_dense_4_mae: 12.2643\n",
      "Epoch 6/300\n",
      "75/75 [==============================] - 13s 172ms/step - loss: 111.4588 - gender_loss: 0.4139 - dense_4_loss: 86.3983 - gender_mae: 0.2786 - dense_4_mae: 6.7897 - val_loss: 146.2251 - val_gender_loss: 0.4022 - val_dense_4_loss: 123.9653 - val_gender_mae: 0.2820 - val_dense_4_mae: 8.3804\n",
      "Epoch 7/300\n",
      "75/75 [==============================] - 13s 172ms/step - loss: 80.0177 - gender_loss: 0.3932 - dense_4_loss: 59.8227 - gender_mae: 0.2664 - dense_4_mae: 5.6398 - val_loss: 158.3582 - val_gender_loss: 0.5315 - val_dense_4_loss: 140.2891 - val_gender_mae: 0.3353 - val_dense_4_mae: 8.6990\n",
      "Epoch 8/300\n",
      "75/75 [==============================] - 13s 172ms/step - loss: 117.9234 - gender_loss: 0.4173 - dense_4_loss: 91.5193 - gender_mae: 0.2796 - dense_4_mae: 6.8428 - val_loss: 180.7829 - val_gender_loss: 0.5024 - val_dense_4_loss: 155.5376 - val_gender_mae: 0.3616 - val_dense_4_mae: 9.4826\n",
      "Epoch 9/300\n",
      "75/75 [==============================] - 13s 172ms/step - loss: 95.5602 - gender_loss: 0.3944 - dense_4_loss: 71.4283 - gender_mae: 0.2632 - dense_4_mae: 6.0856 - val_loss: 148.3499 - val_gender_loss: 0.3804 - val_dense_4_loss: 127.1279 - val_gender_mae: 0.2542 - val_dense_4_mae: 7.9440\n",
      "Epoch 10/300\n",
      "75/75 [==============================] - 13s 173ms/step - loss: 80.4306 - gender_loss: 0.3776 - dense_4_loss: 59.8305 - gender_mae: 0.2485 - dense_4_mae: 5.6167 - val_loss: 151.9313 - val_gender_loss: 0.3622 - val_dense_4_loss: 133.6471 - val_gender_mae: 0.2463 - val_dense_4_mae: 8.5717\n",
      "Epoch 11/300\n",
      "75/75 [==============================] - 13s 172ms/step - loss: 68.0022 - gender_loss: 0.3473 - dense_4_loss: 49.9170 - gender_mae: 0.2313 - dense_4_mae: 5.2116 - val_loss: 239.2150 - val_gender_loss: 0.4484 - val_dense_4_loss: 223.1076 - val_gender_mae: 0.2480 - val_dense_4_mae: 11.6008\n",
      "Epoch 12/300\n",
      "75/75 [==============================] - 13s 171ms/step - loss: 54.2294 - gender_loss: 0.3484 - dense_4_loss: 39.5058 - gender_mae: 0.2310 - dense_4_mae: 4.6434 - val_loss: 95.6440 - val_gender_loss: 0.3956 - val_dense_4_loss: 82.2805 - val_gender_mae: 0.2565 - val_dense_4_mae: 6.8122\n",
      "Epoch 13/300\n",
      "75/75 [==============================] - 13s 172ms/step - loss: 46.7859 - gender_loss: 0.3868 - dense_4_loss: 33.6261 - gender_mae: 0.2653 - dense_4_mae: 4.3077 - val_loss: 95.0039 - val_gender_loss: 0.4684 - val_dense_4_loss: 82.8960 - val_gender_mae: 0.2734 - val_dense_4_mae: 6.5793\n",
      "Epoch 14/300\n",
      "75/75 [==============================] - 13s 173ms/step - loss: 61.8028 - gender_loss: 0.4134 - dense_4_loss: 47.7768 - gender_mae: 0.2824 - dense_4_mae: 4.9934 - val_loss: 147.2777 - val_gender_loss: 0.3564 - val_dense_4_loss: 133.6731 - val_gender_mae: 0.2421 - val_dense_4_mae: 8.3468\n",
      "Epoch 15/300\n",
      "75/75 [==============================] - 13s 172ms/step - loss: 56.1264 - gender_loss: 0.3882 - dense_4_loss: 40.5703 - gender_mae: 0.2659 - dense_4_mae: 4.6617 - val_loss: 125.4278 - val_gender_loss: 0.3823 - val_dense_4_loss: 111.1868 - val_gender_mae: 0.2584 - val_dense_4_mae: 7.5529\n",
      "Epoch 16/300\n",
      "75/75 [==============================] - 13s 173ms/step - loss: 96.7264 - gender_loss: 0.4277 - dense_4_loss: 70.2847 - gender_mae: 0.2923 - dense_4_mae: 6.0040 - val_loss: 467.8392 - val_gender_loss: 0.4358 - val_dense_4_loss: 442.5098 - val_gender_mae: 0.3106 - val_dense_4_mae: 14.7255\n",
      "Epoch 17/300\n",
      "75/75 [==============================] - 13s 171ms/step - loss: 119.7720 - gender_loss: 0.5054 - dense_4_loss: 88.9903 - gender_mae: 0.3473 - dense_4_mae: 6.6934 - val_loss: 205.8269 - val_gender_loss: 0.5165 - val_dense_4_loss: 178.1353 - val_gender_mae: 0.3859 - val_dense_4_mae: 9.4273\n",
      "Epoch 18/300\n",
      "75/75 [==============================] - 13s 173ms/step - loss: 108.9591 - gender_loss: 0.4714 - dense_4_loss: 76.8929 - gender_mae: 0.3253 - dense_4_mae: 6.2914 - val_loss: 296.3717 - val_gender_loss: 0.4589 - val_dense_4_loss: 267.6540 - val_gender_mae: 0.3422 - val_dense_4_mae: 12.4433\n",
      "Epoch 19/300\n",
      "75/75 [==============================] - 13s 171ms/step - loss: 82.1936 - gender_loss: 0.4432 - dense_4_loss: 53.1699 - gender_mae: 0.3062 - dense_4_mae: 5.3518 - val_loss: 115.5585 - val_gender_loss: 0.4095 - val_dense_4_loss: 90.2356 - val_gender_mae: 0.3067 - val_dense_4_mae: 6.9378\n",
      "Epoch 20/300\n",
      "75/75 [==============================] - 13s 172ms/step - loss: 67.3742 - gender_loss: 0.4339 - dense_4_loss: 43.3872 - gender_mae: 0.2988 - dense_4_mae: 4.8656 - val_loss: 111.8105 - val_gender_loss: 0.3580 - val_dense_4_loss: 90.8536 - val_gender_mae: 0.2617 - val_dense_4_mae: 6.8285\n",
      "Epoch 21/300\n",
      "75/75 [==============================] - 13s 172ms/step - loss: 56.7992 - gender_loss: 0.4180 - dense_4_loss: 36.7458 - gender_mae: 0.2885 - dense_4_mae: 4.4502 - val_loss: 101.3960 - val_gender_loss: 0.4720 - val_dense_4_loss: 83.4951 - val_gender_mae: 0.2841 - val_dense_4_mae: 6.5203\n",
      "Epoch 22/300\n",
      "75/75 [==============================] - 13s 172ms/step - loss: 45.0135 - gender_loss: 0.4157 - dense_4_loss: 28.7051 - gender_mae: 0.2842 - dense_4_mae: 3.9876 - val_loss: 91.6268 - val_gender_loss: 0.3706 - val_dense_4_loss: 77.0990 - val_gender_mae: 0.2413 - val_dense_4_mae: 6.3840\n",
      "Epoch 23/300\n",
      "75/75 [==============================] - 13s 172ms/step - loss: 56.1124 - gender_loss: 0.4223 - dense_4_loss: 39.7976 - gender_mae: 0.2899 - dense_4_mae: 4.6179 - val_loss: 179.9864 - val_gender_loss: 0.3390 - val_dense_4_loss: 164.4843 - val_gender_mae: 0.2304 - val_dense_4_mae: 9.9427\n",
      "Epoch 24/300\n",
      "75/75 [==============================] - 13s 171ms/step - loss: 70.0064 - gender_loss: 0.4300 - dense_4_loss: 47.0476 - gender_mae: 0.2916 - dense_4_mae: 5.0873 - val_loss: 164.2318 - val_gender_loss: 0.3721 - val_dense_4_loss: 142.2433 - val_gender_mae: 0.2788 - val_dense_4_mae: 8.6018\n",
      "Epoch 25/300\n",
      "75/75 [==============================] - 13s 173ms/step - loss: 64.2285 - gender_loss: 0.4234 - dense_4_loss: 39.9869 - gender_mae: 0.2894 - dense_4_mae: 4.7116 - val_loss: 111.9075 - val_gender_loss: 0.4968 - val_dense_4_loss: 90.0186 - val_gender_mae: 0.3165 - val_dense_4_mae: 7.1254\n",
      "Epoch 26/300\n",
      "75/75 [==============================] - 13s 172ms/step - loss: 59.7417 - gender_loss: 0.5612 - dense_4_loss: 34.3676 - gender_mae: 0.3996 - dense_4_mae: 4.3676 - val_loss: 119.5060 - val_gender_loss: 0.5300 - val_dense_4_loss: 96.5912 - val_gender_mae: 0.3613 - val_dense_4_mae: 6.7503\n",
      "Epoch 27/300\n",
      "75/75 [==============================] - 13s 175ms/step - loss: 69.7668 - gender_loss: 0.5449 - dense_4_loss: 44.6673 - gender_mae: 0.3893 - dense_4_mae: 4.8472 - val_loss: 107.6734 - val_gender_loss: 0.5148 - val_dense_4_loss: 84.8291 - val_gender_mae: 0.3828 - val_dense_4_mae: 6.9744\n",
      "Epoch 28/300\n",
      "75/75 [==============================] - 13s 173ms/step - loss: 46.9997 - gender_loss: 0.5283 - dense_4_loss: 26.3443 - gender_mae: 0.3776 - dense_4_mae: 3.8284 - val_loss: 129.9181 - val_gender_loss: 0.5116 - val_dense_4_loss: 111.6683 - val_gender_mae: 0.3816 - val_dense_4_mae: 8.3362\n",
      "Epoch 29/300\n",
      "75/75 [==============================] - 13s 172ms/step - loss: 40.8106 - gender_loss: 0.5189 - dense_4_loss: 22.9303 - gender_mae: 0.3696 - dense_4_mae: 3.5999 - val_loss: 96.2482 - val_gender_loss: 0.4637 - val_dense_4_loss: 80.0532 - val_gender_mae: 0.3441 - val_dense_4_mae: 6.5598\n",
      "Epoch 30/300\n",
      "75/75 [==============================] - 13s 172ms/step - loss: 45.6640 - gender_loss: 0.5192 - dense_4_loss: 26.9423 - gender_mae: 0.3711 - dense_4_mae: 3.8569 - val_loss: 93.6494 - val_gender_loss: 0.5214 - val_dense_4_loss: 76.2372 - val_gender_mae: 0.3365 - val_dense_4_mae: 6.2524\n",
      "Epoch 31/300\n",
      "75/75 [==============================] - 13s 171ms/step - loss: 33.6606 - gender_loss: 0.4938 - dense_4_loss: 18.0505 - gender_mae: 0.3380 - dense_4_mae: 3.1849 - val_loss: 90.9054 - val_gender_loss: 0.3793 - val_dense_4_loss: 77.0019 - val_gender_mae: 0.2806 - val_dense_4_mae: 6.3555\n",
      "Epoch 32/300\n",
      "75/75 [==============================] - 13s 173ms/step - loss: 50.7253 - gender_loss: 0.4517 - dense_4_loss: 31.2508 - gender_mae: 0.3047 - dense_4_mae: 4.1540 - val_loss: 112.8124 - val_gender_loss: 0.4154 - val_dense_4_loss: 94.0567 - val_gender_mae: 0.2939 - val_dense_4_mae: 6.8017\n",
      "Epoch 33/300\n",
      "75/75 [==============================] - 13s 172ms/step - loss: 46.5271 - gender_loss: 0.4247 - dense_4_loss: 27.3619 - gender_mae: 0.2869 - dense_4_mae: 3.8722 - val_loss: 92.6597 - val_gender_loss: 0.4349 - val_dense_4_loss: 75.1891 - val_gender_mae: 0.3104 - val_dense_4_mae: 6.2643\n",
      "Epoch 34/300\n",
      "75/75 [==============================] - 13s 171ms/step - loss: 37.7552 - gender_loss: 0.4342 - dense_4_loss: 20.3789 - gender_mae: 0.2931 - dense_4_mae: 3.3645 - val_loss: 107.7085 - val_gender_loss: 0.3566 - val_dense_4_loss: 92.0882 - val_gender_mae: 0.2403 - val_dense_4_mae: 7.4462\n",
      "Epoch 35/300\n",
      "75/75 [==============================] - 13s 173ms/step - loss: 39.0194 - gender_loss: 0.4152 - dense_4_loss: 21.6055 - gender_mae: 0.2807 - dense_4_mae: 3.5004 - val_loss: 118.6937 - val_gender_loss: 0.3301 - val_dense_4_loss: 102.6660 - val_gender_mae: 0.2388 - val_dense_4_mae: 7.7938\n",
      "Epoch 36/300\n",
      "75/75 [==============================] - 13s 172ms/step - loss: 35.2144 - gender_loss: 0.4093 - dense_4_loss: 19.5836 - gender_mae: 0.2754 - dense_4_mae: 3.2628 - val_loss: 113.1953 - val_gender_loss: 0.3376 - val_dense_4_loss: 98.9660 - val_gender_mae: 0.2473 - val_dense_4_mae: 7.6367\n",
      "Epoch 37/300\n",
      "75/75 [==============================] - 13s 172ms/step - loss: 29.7052 - gender_loss: 0.4034 - dense_4_loss: 15.1089 - gender_mae: 0.2742 - dense_4_mae: 2.9079 - val_loss: 269.1494 - val_gender_loss: 0.4060 - val_dense_4_loss: 255.6228 - val_gender_mae: 0.2680 - val_dense_4_mae: 12.1853\n",
      "Epoch 38/300\n",
      "75/75 [==============================] - 13s 172ms/step - loss: 60.1764 - gender_loss: 0.4252 - dense_4_loss: 38.3604 - gender_mae: 0.2875 - dense_4_mae: 4.5100 - val_loss: 150.1491 - val_gender_loss: 0.3997 - val_dense_4_loss: 128.6031 - val_gender_mae: 0.2994 - val_dense_4_mae: 8.7220\n",
      "Epoch 39/300\n",
      "75/75 [==============================] - 13s 171ms/step - loss: 38.8617 - gender_loss: 0.4035 - dense_4_loss: 19.3336 - gender_mae: 0.2739 - dense_4_mae: 3.2656 - val_loss: 95.7559 - val_gender_loss: 0.3247 - val_dense_4_loss: 78.4336 - val_gender_mae: 0.2347 - val_dense_4_mae: 6.3068\n",
      "Epoch 40/300\n",
      "75/75 [==============================] - 13s 173ms/step - loss: 30.5210 - gender_loss: 0.4000 - dense_4_loss: 14.3615 - gender_mae: 0.2715 - dense_4_mae: 2.8496 - val_loss: 106.4829 - val_gender_loss: 0.3048 - val_dense_4_loss: 91.9302 - val_gender_mae: 0.2059 - val_dense_4_mae: 6.7917\n",
      "Epoch 41/300\n",
      "75/75 [==============================] - 13s 171ms/step - loss: 24.7488 - gender_loss: 0.3887 - dense_4_loss: 11.1157 - gender_mae: 0.2634 - dense_4_mae: 2.5058 - val_loss: 92.2285 - val_gender_loss: 0.3062 - val_dense_4_loss: 79.7634 - val_gender_mae: 0.2177 - val_dense_4_mae: 6.2473\n",
      "Epoch 42/300\n",
      "75/75 [==============================] - 13s 172ms/step - loss: 23.4170 - gender_loss: 0.3932 - dense_4_loss: 11.3248 - gender_mae: 0.2672 - dense_4_mae: 2.5277 - val_loss: 99.9692 - val_gender_loss: 0.3055 - val_dense_4_loss: 88.7724 - val_gender_mae: 0.2134 - val_dense_4_mae: 6.7980\n",
      "Epoch 43/300\n",
      "75/75 [==============================] - 13s 172ms/step - loss: 28.3065 - gender_loss: 0.3955 - dense_4_loss: 15.5683 - gender_mae: 0.2691 - dense_4_mae: 2.9212 - val_loss: 109.8964 - val_gender_loss: 0.3072 - val_dense_4_loss: 97.7620 - val_gender_mae: 0.2113 - val_dense_4_mae: 7.2134\n",
      "Epoch 44/300\n",
      "75/75 [==============================] - 13s 173ms/step - loss: 63.1489 - gender_loss: 0.4149 - dense_4_loss: 43.6188 - gender_mae: 0.2791 - dense_4_mae: 4.7207 - val_loss: 199.7942 - val_gender_loss: 0.3807 - val_dense_4_loss: 180.0771 - val_gender_mae: 0.2836 - val_dense_4_mae: 9.4711\n",
      "Epoch 45/300\n",
      "75/75 [==============================] - 13s 174ms/step - loss: 42.9815 - gender_loss: 0.4110 - dense_4_loss: 23.5055 - gender_mae: 0.2778 - dense_4_mae: 3.6190 - val_loss: 101.5364 - val_gender_loss: 0.3022 - val_dense_4_loss: 83.8702 - val_gender_mae: 0.2066 - val_dense_4_mae: 6.6992\n",
      "Epoch 46/300\n",
      "75/75 [==============================] - 13s 171ms/step - loss: 30.9732 - gender_loss: 0.4007 - dense_4_loss: 14.6079 - gender_mae: 0.2716 - dense_4_mae: 2.8688 - val_loss: 90.0033 - val_gender_loss: 0.2984 - val_dense_4_loss: 75.2702 - val_gender_mae: 0.2068 - val_dense_4_mae: 6.2933\n",
      "Epoch 47/300\n",
      "75/75 [==============================] - 13s 172ms/step - loss: 32.2923 - gender_loss: 0.3914 - dense_4_loss: 16.9778 - gender_mae: 0.2672 - dense_4_mae: 3.0562 - val_loss: 90.5190 - val_gender_loss: 0.3088 - val_dense_4_loss: 76.1374 - val_gender_mae: 0.1967 - val_dense_4_mae: 6.3563\n",
      "Epoch 48/300\n",
      "75/75 [==============================] - 13s 172ms/step - loss: 33.3965 - gender_loss: 0.3914 - dense_4_loss: 18.7735 - gender_mae: 0.2649 - dense_4_mae: 3.1770 - val_loss: 96.7042 - val_gender_loss: 0.3377 - val_dense_4_loss: 82.9730 - val_gender_mae: 0.2289 - val_dense_4_mae: 6.5298\n",
      "Epoch 49/300\n",
      "75/75 [==============================] - 13s 171ms/step - loss: 26.0637 - gender_loss: 0.3850 - dense_4_loss: 12.6875 - gender_mae: 0.2621 - dense_4_mae: 2.6526 - val_loss: 93.2067 - val_gender_loss: 0.2980 - val_dense_4_loss: 80.8545 - val_gender_mae: 0.2031 - val_dense_4_mae: 6.3492\n",
      "Epoch 50/300\n",
      "75/75 [==============================] - 13s 174ms/step - loss: 25.2810 - gender_loss: 0.3905 - dense_4_loss: 12.5170 - gender_mae: 0.2659 - dense_4_mae: 2.6387 - val_loss: 101.2928 - val_gender_loss: 0.2983 - val_dense_4_loss: 89.3601 - val_gender_mae: 0.1975 - val_dense_4_mae: 7.2790\n",
      "Epoch 51/300\n",
      "75/75 [==============================] - 13s 171ms/step - loss: 20.4343 - gender_loss: 0.3836 - dense_4_loss: 9.0978 - gender_mae: 0.2616 - dense_4_mae: 2.2564 - val_loss: 133.2720 - val_gender_loss: 0.2973 - val_dense_4_loss: 122.8445 - val_gender_mae: 0.1946 - val_dense_4_mae: 8.1788\n",
      "Epoch 52/300\n",
      "75/75 [==============================] - 13s 171ms/step - loss: 29.2196 - gender_loss: 0.3887 - dense_4_loss: 17.5201 - gender_mae: 0.2649 - dense_4_mae: 3.0103 - val_loss: 101.3946 - val_gender_loss: 0.2949 - val_dense_4_loss: 90.0254 - val_gender_mae: 0.2008 - val_dense_4_mae: 7.1021\n",
      "Epoch 53/300\n",
      "75/75 [==============================] - 13s 171ms/step - loss: 33.6160 - gender_loss: 0.3898 - dense_4_loss: 18.5776 - gender_mae: 0.2644 - dense_4_mae: 3.1841 - val_loss: 93.0888 - val_gender_loss: 0.3085 - val_dense_4_loss: 78.3995 - val_gender_mae: 0.2189 - val_dense_4_mae: 6.2622\n",
      "Epoch 54/300\n",
      "75/75 [==============================] - 13s 170ms/step - loss: 23.8229 - gender_loss: 0.3900 - dense_4_loss: 9.9565 - gender_mae: 0.2660 - dense_4_mae: 2.3796 - val_loss: 84.5328 - val_gender_loss: 0.3085 - val_dense_4_loss: 71.8455 - val_gender_mae: 0.2138 - val_dense_4_mae: 6.0514\n",
      "Epoch 55/300\n",
      "75/75 [==============================] - 13s 171ms/step - loss: 22.6269 - gender_loss: 0.3834 - dense_4_loss: 9.7860 - gender_mae: 0.2611 - dense_4_mae: 2.3684 - val_loss: 90.5232 - val_gender_loss: 0.3108 - val_dense_4_loss: 78.5503 - val_gender_mae: 0.1946 - val_dense_4_mae: 6.6167\n",
      "Epoch 56/300\n",
      "75/75 [==============================] - 13s 172ms/step - loss: 21.3262 - gender_loss: 0.3846 - dense_4_loss: 9.2180 - gender_mae: 0.2605 - dense_4_mae: 2.2640 - val_loss: 91.0618 - val_gender_loss: 0.2965 - val_dense_4_loss: 79.7802 - val_gender_mae: 0.2090 - val_dense_4_mae: 6.4559\n",
      "Epoch 57/300\n",
      "75/75 [==============================] - 13s 170ms/step - loss: 23.4517 - gender_loss: 0.3770 - dense_4_loss: 11.1696 - gender_mae: 0.2563 - dense_4_mae: 2.5015 - val_loss: 104.5018 - val_gender_loss: 0.3009 - val_dense_4_loss: 92.8713 - val_gender_mae: 0.2070 - val_dense_4_mae: 6.7410\n",
      "Epoch 58/300\n",
      "75/75 [==============================] - 13s 173ms/step - loss: 27.2960 - gender_loss: 0.3868 - dense_4_loss: 14.5507 - gender_mae: 0.2627 - dense_4_mae: 2.8244 - val_loss: 84.0653 - val_gender_loss: 0.3092 - val_dense_4_loss: 71.9953 - val_gender_mae: 0.2095 - val_dense_4_mae: 6.0427\n",
      "Epoch 59/300\n",
      "75/75 [==============================] - 13s 171ms/step - loss: 19.9586 - gender_loss: 0.3765 - dense_4_loss: 8.5246 - gender_mae: 0.2563 - dense_4_mae: 2.1625 - val_loss: 87.3960 - val_gender_loss: 0.2941 - val_dense_4_loss: 76.8941 - val_gender_mae: 0.1951 - val_dense_4_mae: 6.1294\n",
      "Epoch 60/300\n",
      "75/75 [==============================] - 13s 171ms/step - loss: 22.0382 - gender_loss: 0.3758 - dense_4_loss: 11.1203 - gender_mae: 0.2569 - dense_4_mae: 2.4553 - val_loss: 91.6240 - val_gender_loss: 0.2992 - val_dense_4_loss: 81.3654 - val_gender_mae: 0.1937 - val_dense_4_mae: 6.5050\n",
      "Epoch 61/300\n",
      "75/75 [==============================] - 13s 172ms/step - loss: 22.3584 - gender_loss: 0.3811 - dense_4_loss: 11.3327 - gender_mae: 0.2575 - dense_4_mae: 2.4571 - val_loss: 100.7436 - val_gender_loss: 0.2897 - val_dense_4_loss: 90.3412 - val_gender_mae: 0.1988 - val_dense_4_mae: 6.5940\n",
      "Epoch 62/300\n",
      "75/75 [==============================] - 13s 171ms/step - loss: 18.1992 - gender_loss: 0.3798 - dense_4_loss: 7.9658 - gender_mae: 0.2584 - dense_4_mae: 2.0878 - val_loss: 85.0553 - val_gender_loss: 0.3607 - val_dense_4_loss: 75.5043 - val_gender_mae: 0.2262 - val_dense_4_mae: 6.1056\n",
      "Epoch 63/300\n",
      "75/75 [==============================] - 13s 173ms/step - loss: 29.9662 - gender_loss: 0.4075 - dense_4_loss: 16.4236 - gender_mae: 0.2767 - dense_4_mae: 2.9820 - val_loss: 90.4879 - val_gender_loss: 0.2861 - val_dense_4_loss: 77.1192 - val_gender_mae: 0.1930 - val_dense_4_mae: 6.2481\n",
      "Epoch 64/300\n",
      "75/75 [==============================] - 13s 172ms/step - loss: 22.4901 - gender_loss: 0.3720 - dense_4_loss: 9.7537 - gender_mae: 0.2523 - dense_4_mae: 2.3181 - val_loss: 89.5067 - val_gender_loss: 0.3084 - val_dense_4_loss: 77.7511 - val_gender_mae: 0.1986 - val_dense_4_mae: 6.1471\n",
      "Epoch 65/300\n",
      "75/75 [==============================] - 13s 173ms/step - loss: 33.0258 - gender_loss: 0.3931 - dense_4_loss: 19.8434 - gender_mae: 0.2648 - dense_4_mae: 3.2320 - val_loss: 85.4652 - val_gender_loss: 0.2972 - val_dense_4_loss: 72.7601 - val_gender_mae: 0.2030 - val_dense_4_mae: 6.1609\n",
      "Epoch 66/300\n",
      "75/75 [==============================] - 13s 173ms/step - loss: 21.2289 - gender_loss: 0.3716 - dense_4_loss: 9.1332 - gender_mae: 0.2538 - dense_4_mae: 2.2509 - val_loss: 88.2340 - val_gender_loss: 0.2937 - val_dense_4_loss: 77.0595 - val_gender_mae: 0.1983 - val_dense_4_mae: 6.2171\n",
      "Epoch 67/300\n",
      "75/75 [==============================] - 13s 171ms/step - loss: 25.1055 - gender_loss: 0.3735 - dense_4_loss: 13.4308 - gender_mae: 0.2540 - dense_4_mae: 2.6604 - val_loss: 88.3019 - val_gender_loss: 0.2781 - val_dense_4_loss: 77.2322 - val_gender_mae: 0.1862 - val_dense_4_mae: 6.1085\n",
      "Epoch 68/300\n",
      "75/75 [==============================] - 13s 173ms/step - loss: 22.1525 - gender_loss: 0.3736 - dense_4_loss: 10.7675 - gender_mae: 0.2552 - dense_4_mae: 2.4074 - val_loss: 93.8486 - val_gender_loss: 0.2887 - val_dense_4_loss: 83.1195 - val_gender_mae: 0.2043 - val_dense_4_mae: 6.5895\n",
      "Epoch 69/300\n",
      "75/75 [==============================] - 13s 171ms/step - loss: 23.2260 - gender_loss: 0.3686 - dense_4_loss: 12.0876 - gender_mae: 0.2530 - dense_4_mae: 2.5489 - val_loss: 86.1917 - val_gender_loss: 0.2825 - val_dense_4_loss: 75.6303 - val_gender_mae: 0.1882 - val_dense_4_mae: 6.2791\n",
      "Epoch 70/300\n",
      "75/75 [==============================] - 13s 172ms/step - loss: 16.7888 - gender_loss: 0.3662 - dense_4_loss: 6.6732 - gender_mae: 0.2505 - dense_4_mae: 1.9255 - val_loss: 80.6233 - val_gender_loss: 0.2753 - val_dense_4_loss: 71.2120 - val_gender_mae: 0.1801 - val_dense_4_mae: 5.9766\n",
      "Epoch 71/300\n",
      "75/75 [==============================] - 13s 172ms/step - loss: 16.0540 - gender_loss: 0.3706 - dense_4_loss: 6.5501 - gender_mae: 0.2522 - dense_4_mae: 1.8908 - val_loss: 88.9538 - val_gender_loss: 0.2882 - val_dense_4_loss: 79.9733 - val_gender_mae: 0.2033 - val_dense_4_mae: 6.3393\n",
      "Epoch 72/300\n",
      "75/75 [==============================] - 13s 170ms/step - loss: 26.4786 - gender_loss: 0.3756 - dense_4_loss: 15.4554 - gender_mae: 0.2565 - dense_4_mae: 2.8877 - val_loss: 85.8328 - val_gender_loss: 0.2823 - val_dense_4_loss: 75.0154 - val_gender_mae: 0.1922 - val_dense_4_mae: 6.1031\n",
      "Epoch 73/300\n",
      "75/75 [==============================] - 13s 171ms/step - loss: 22.1310 - gender_loss: 0.3756 - dense_4_loss: 11.1253 - gender_mae: 0.2574 - dense_4_mae: 2.4773 - val_loss: 89.5086 - val_gender_loss: 0.2969 - val_dense_4_loss: 79.1222 - val_gender_mae: 0.2141 - val_dense_4_mae: 6.3779\n",
      "Epoch 74/300\n",
      "75/75 [==============================] - 13s 172ms/step - loss: 20.4346 - gender_loss: 0.3713 - dense_4_loss: 9.5776 - gender_mae: 0.2542 - dense_4_mae: 2.2992 - val_loss: 99.4859 - val_gender_loss: 0.3057 - val_dense_4_loss: 89.1936 - val_gender_mae: 0.2119 - val_dense_4_mae: 7.1556\n",
      "Epoch 75/300\n",
      "75/75 [==============================] - 13s 172ms/step - loss: 19.8529 - gender_loss: 0.3709 - dense_4_loss: 9.3350 - gender_mae: 0.2545 - dense_4_mae: 2.2339 - val_loss: 87.5402 - val_gender_loss: 0.2869 - val_dense_4_loss: 77.6079 - val_gender_mae: 0.1844 - val_dense_4_mae: 6.5224\n",
      "Epoch 76/300\n",
      "75/75 [==============================] - 13s 171ms/step - loss: 17.0815 - gender_loss: 0.3658 - dense_4_loss: 7.2086 - gender_mae: 0.2508 - dense_4_mae: 1.9985 - val_loss: 80.8228 - val_gender_loss: 0.2891 - val_dense_4_loss: 71.5194 - val_gender_mae: 0.2058 - val_dense_4_mae: 5.9191\n",
      "Epoch 77/300\n",
      "75/75 [==============================] - 13s 170ms/step - loss: 15.6493 - gender_loss: 0.3656 - dense_4_loss: 6.4317 - gender_mae: 0.2510 - dense_4_mae: 1.8621 - val_loss: 81.1536 - val_gender_loss: 0.2792 - val_dense_4_loss: 72.4875 - val_gender_mae: 0.1939 - val_dense_4_mae: 6.0485\n",
      "Epoch 78/300\n",
      "75/75 [==============================] - 13s 171ms/step - loss: 15.3319 - gender_loss: 0.3598 - dense_4_loss: 6.4865 - gender_mae: 0.2469 - dense_4_mae: 1.8902 - val_loss: 82.2601 - val_gender_loss: 0.2760 - val_dense_4_loss: 73.8660 - val_gender_mae: 0.1867 - val_dense_4_mae: 5.9975\n",
      "Epoch 79/300\n",
      "75/75 [==============================] - 13s 172ms/step - loss: 20.8087 - gender_loss: 0.3642 - dense_4_loss: 11.6524 - gender_mae: 0.2498 - dense_4_mae: 2.4651 - val_loss: 90.0619 - val_gender_loss: 0.2747 - val_dense_4_loss: 81.1956 - val_gender_mae: 0.1840 - val_dense_4_mae: 6.2365\n",
      "Epoch 80/300\n",
      "75/75 [==============================] - 13s 170ms/step - loss: 18.8474 - gender_loss: 0.3660 - dense_4_loss: 9.3762 - gender_mae: 0.2506 - dense_4_mae: 2.2484 - val_loss: 86.5827 - val_gender_loss: 0.2763 - val_dense_4_loss: 77.5371 - val_gender_mae: 0.1848 - val_dense_4_mae: 6.4799\n",
      "Epoch 81/300\n",
      "75/75 [==============================] - 13s 173ms/step - loss: 19.9912 - gender_loss: 0.3651 - dense_4_loss: 10.5822 - gender_mae: 0.2501 - dense_4_mae: 2.3602 - val_loss: 85.0714 - val_gender_loss: 0.2727 - val_dense_4_loss: 76.0990 - val_gender_mae: 0.1792 - val_dense_4_mae: 6.3211\n",
      "Epoch 82/300\n",
      "75/75 [==============================] - 13s 170ms/step - loss: 20.7773 - gender_loss: 0.3679 - dense_4_loss: 10.9924 - gender_mae: 0.2517 - dense_4_mae: 2.4640 - val_loss: 79.9917 - val_gender_loss: 0.2794 - val_dense_4_loss: 70.5579 - val_gender_mae: 0.1885 - val_dense_4_mae: 5.9434\n",
      "Epoch 83/300\n",
      "75/75 [==============================] - 13s 171ms/step - loss: 14.5744 - gender_loss: 0.3652 - dense_4_loss: 5.5372 - gender_mae: 0.2499 - dense_4_mae: 1.7369 - val_loss: 81.4574 - val_gender_loss: 0.2885 - val_dense_4_loss: 72.9791 - val_gender_mae: 0.1960 - val_dense_4_mae: 6.0302\n",
      "Epoch 84/300\n",
      "75/75 [==============================] - 13s 172ms/step - loss: 13.6495 - gender_loss: 0.3573 - dense_4_loss: 5.4718 - gender_mae: 0.2449 - dense_4_mae: 1.7237 - val_loss: 82.3193 - val_gender_loss: 0.2729 - val_dense_4_loss: 74.6223 - val_gender_mae: 0.1831 - val_dense_4_mae: 6.1291\n",
      "Epoch 85/300\n",
      "75/75 [==============================] - 13s 172ms/step - loss: 12.9403 - gender_loss: 0.3542 - dense_4_loss: 5.3053 - gender_mae: 0.2427 - dense_4_mae: 1.7336 - val_loss: 77.3492 - val_gender_loss: 0.2661 - val_dense_4_loss: 70.1186 - val_gender_mae: 0.1668 - val_dense_4_mae: 5.8943\n",
      "Epoch 86/300\n",
      "75/75 [==============================] - 13s 171ms/step - loss: 12.8947 - gender_loss: 0.3576 - dense_4_loss: 5.6830 - gender_mae: 0.2432 - dense_4_mae: 1.7152 - val_loss: 89.8598 - val_gender_loss: 0.2766 - val_dense_4_loss: 82.9727 - val_gender_mae: 0.1863 - val_dense_4_mae: 6.8101\n",
      "Epoch 87/300\n",
      "75/75 [==============================] - 13s 172ms/step - loss: 36.2712 - gender_loss: 0.3794 - dense_4_loss: 25.4381 - gender_mae: 0.2567 - dense_4_mae: 3.5986 - val_loss: 110.6721 - val_gender_loss: 0.3129 - val_dense_4_loss: 99.2987 - val_gender_mae: 0.2130 - val_dense_4_mae: 7.3686\n",
      "Epoch 88/300\n",
      "75/75 [==============================] - 13s 171ms/step - loss: 20.9238 - gender_loss: 0.3720 - dense_4_loss: 9.9191 - gender_mae: 0.2543 - dense_4_mae: 2.3684 - val_loss: 95.0500 - val_gender_loss: 0.2899 - val_dense_4_loss: 84.6572 - val_gender_mae: 0.1974 - val_dense_4_mae: 6.7022\n",
      "Epoch 89/300\n",
      "75/75 [==============================] - 13s 172ms/step - loss: 18.0186 - gender_loss: 0.3604 - dense_4_loss: 7.7575 - gender_mae: 0.2452 - dense_4_mae: 2.0906 - val_loss: 95.5902 - val_gender_loss: 0.2936 - val_dense_4_loss: 85.7951 - val_gender_mae: 0.2014 - val_dense_4_mae: 6.6120\n",
      "Epoch 90/300\n",
      "75/75 [==============================] - 13s 170ms/step - loss: 36.5141 - gender_loss: 0.3909 - dense_4_loss: 23.4143 - gender_mae: 0.2658 - dense_4_mae: 3.3888 - val_loss: 175.4561 - val_gender_loss: 0.3097 - val_dense_4_loss: 162.1193 - val_gender_mae: 0.2206 - val_dense_4_mae: 8.8987\n",
      "Epoch 91/300\n",
      "75/75 [==============================] - 13s 172ms/step - loss: 30.2481 - gender_loss: 0.3728 - dense_4_loss: 16.3826 - gender_mae: 0.2544 - dense_4_mae: 2.9938 - val_loss: 112.8531 - val_gender_loss: 0.2843 - val_dense_4_loss: 99.4348 - val_gender_mae: 0.1857 - val_dense_4_mae: 7.2220\n",
      "Epoch 92/300\n",
      "75/75 [==============================] - 13s 172ms/step - loss: 23.2711 - gender_loss: 0.3730 - dense_4_loss: 9.7915 - gender_mae: 0.2551 - dense_4_mae: 2.3260 - val_loss: 94.8519 - val_gender_loss: 0.2793 - val_dense_4_loss: 81.9300 - val_gender_mae: 0.1897 - val_dense_4_mae: 6.7231\n",
      "Epoch 93/300\n",
      "75/75 [==============================] - 13s 171ms/step - loss: 20.8068 - gender_loss: 0.3629 - dense_4_loss: 8.0078 - gender_mae: 0.2486 - dense_4_mae: 2.1102 - val_loss: 84.3580 - val_gender_loss: 0.2672 - val_dense_4_loss: 72.1308 - val_gender_mae: 0.1693 - val_dense_4_mae: 5.9723\n",
      "Epoch 94/300\n",
      "75/75 [==============================] - 13s 172ms/step - loss: 18.2097 - gender_loss: 0.3652 - dense_4_loss: 6.3498 - gender_mae: 0.2502 - dense_4_mae: 1.8740 - val_loss: 83.1920 - val_gender_loss: 0.2817 - val_dense_4_loss: 71.8812 - val_gender_mae: 0.1961 - val_dense_4_mae: 5.9342\n",
      "Epoch 95/300\n",
      "75/75 [==============================] - 13s 171ms/step - loss: 24.3345 - gender_loss: 0.3666 - dense_4_loss: 12.1887 - gender_mae: 0.2507 - dense_4_mae: 2.5733 - val_loss: 102.5915 - val_gender_loss: 0.2723 - val_dense_4_loss: 90.7150 - val_gender_mae: 0.1597 - val_dense_4_mae: 6.5750\n",
      "Epoch 96/300\n",
      "75/75 [==============================] - 13s 171ms/step - loss: 23.1916 - gender_loss: 0.3702 - dense_4_loss: 11.1281 - gender_mae: 0.2503 - dense_4_mae: 2.4099 - val_loss: 82.8939 - val_gender_loss: 0.2658 - val_dense_4_loss: 71.2415 - val_gender_mae: 0.1699 - val_dense_4_mae: 5.9450\n",
      "Epoch 97/300\n",
      "75/75 [==============================] - 13s 172ms/step - loss: 17.3639 - gender_loss: 0.3603 - dense_4_loss: 5.9609 - gender_mae: 0.2457 - dense_4_mae: 1.8312 - val_loss: 83.0304 - val_gender_loss: 0.2751 - val_dense_4_loss: 72.1011 - val_gender_mae: 0.1885 - val_dense_4_mae: 5.9708\n",
      "Epoch 98/300\n",
      "75/75 [==============================] - 13s 171ms/step - loss: 17.0103 - gender_loss: 0.3569 - dense_4_loss: 6.2403 - gender_mae: 0.2450 - dense_4_mae: 1.8669 - val_loss: 82.1607 - val_gender_loss: 0.2697 - val_dense_4_loss: 71.8177 - val_gender_mae: 0.1785 - val_dense_4_mae: 6.0093\n",
      "Epoch 99/300\n",
      "75/75 [==============================] - 13s 170ms/step - loss: 16.0333 - gender_loss: 0.3594 - dense_4_loss: 5.7527 - gender_mae: 0.2460 - dense_4_mae: 1.7530 - val_loss: 87.7319 - val_gender_loss: 0.2715 - val_dense_4_loss: 77.8480 - val_gender_mae: 0.1703 - val_dense_4_mae: 6.2154\n",
      "Epoch 100/300\n",
      "75/75 [==============================] - 13s 171ms/step - loss: 16.3060 - gender_loss: 0.3596 - dense_4_loss: 6.3492 - gender_mae: 0.2452 - dense_4_mae: 1.8769 - val_loss: 90.0502 - val_gender_loss: 0.2719 - val_dense_4_loss: 80.4446 - val_gender_mae: 0.1824 - val_dense_4_mae: 6.4063\n",
      "Epoch 101/300\n",
      "75/75 [==============================] - 13s 171ms/step - loss: 16.7214 - gender_loss: 0.3556 - dense_4_loss: 6.9743 - gender_mae: 0.2436 - dense_4_mae: 1.9623 - val_loss: 85.1048 - val_gender_loss: 0.2695 - val_dense_4_loss: 75.6518 - val_gender_mae: 0.1768 - val_dense_4_mae: 6.3290\n",
      "Epoch 102/300\n",
      "75/75 [==============================] - 13s 172ms/step - loss: 18.4323 - gender_loss: 0.3553 - dense_4_loss: 8.5399 - gender_mae: 0.2432 - dense_4_mae: 2.1467 - val_loss: 82.6127 - val_gender_loss: 0.2778 - val_dense_4_loss: 72.9545 - val_gender_mae: 0.1821 - val_dense_4_mae: 6.0327\n",
      "Epoch 103/300\n",
      "75/75 [==============================] - 13s 172ms/step - loss: 15.4920 - gender_loss: 0.3590 - dense_4_loss: 5.9424 - gender_mae: 0.2456 - dense_4_mae: 1.7953 - val_loss: 80.8883 - val_gender_loss: 0.2716 - val_dense_4_loss: 71.6977 - val_gender_mae: 0.1820 - val_dense_4_mae: 6.0245\n",
      "Epoch 104/300\n",
      "75/75 [==============================] - 13s 170ms/step - loss: 15.3082 - gender_loss: 0.3557 - dense_4_loss: 5.9697 - gender_mae: 0.2445 - dense_4_mae: 1.7429 - val_loss: 89.2420 - val_gender_loss: 0.2678 - val_dense_4_loss: 80.2036 - val_gender_mae: 0.1734 - val_dense_4_mae: 6.2476\n",
      "Epoch 105/300\n",
      "75/75 [==============================] - 13s 172ms/step - loss: 13.4860 - gender_loss: 0.3534 - dense_4_loss: 4.6100 - gender_mae: 0.2413 - dense_4_mae: 1.5475 - val_loss: 80.3255 - val_gender_loss: 0.2679 - val_dense_4_loss: 71.8031 - val_gender_mae: 0.1757 - val_dense_4_mae: 5.9569\n",
      "Epoch 106/300\n",
      "75/75 [==============================] - 13s 171ms/step - loss: 13.1943 - gender_loss: 0.3479 - dense_4_loss: 4.6991 - gender_mae: 0.2382 - dense_4_mae: 1.5581 - val_loss: 81.7167 - val_gender_loss: 0.2729 - val_dense_4_loss: 73.4958 - val_gender_mae: 0.1831 - val_dense_4_mae: 6.0785\n",
      "Epoch 107/300\n",
      "75/75 [==============================] - 13s 170ms/step - loss: 16.0291 - gender_loss: 0.3528 - dense_4_loss: 7.2848 - gender_mae: 0.2418 - dense_4_mae: 1.9276 - val_loss: 85.1402 - val_gender_loss: 0.2653 - val_dense_4_loss: 76.5690 - val_gender_mae: 0.1653 - val_dense_4_mae: 6.2393\n",
      "Epoch 108/300\n",
      "75/75 [==============================] - 13s 172ms/step - loss: 13.6981 - gender_loss: 0.3563 - dense_4_loss: 5.1029 - gender_mae: 0.2427 - dense_4_mae: 1.6399 - val_loss: 89.9143 - val_gender_loss: 0.2744 - val_dense_4_loss: 81.6035 - val_gender_mae: 0.1873 - val_dense_4_mae: 6.4583\n",
      "Epoch 109/300\n",
      "75/75 [==============================] - 13s 171ms/step - loss: 16.7871 - gender_loss: 0.3500 - dense_4_loss: 8.0060 - gender_mae: 0.2410 - dense_4_mae: 2.0118 - val_loss: 84.0269 - val_gender_loss: 0.2730 - val_dense_4_loss: 75.4201 - val_gender_mae: 0.1818 - val_dense_4_mae: 6.0946\n",
      "Epoch 110/300\n",
      "75/75 [==============================] - 13s 172ms/step - loss: 16.0737 - gender_loss: 0.3501 - dense_4_loss: 7.3216 - gender_mae: 0.2403 - dense_4_mae: 1.9488 - val_loss: 82.1034 - val_gender_loss: 0.2710 - val_dense_4_loss: 73.6055 - val_gender_mae: 0.1823 - val_dense_4_mae: 6.2029\n",
      "Epoch 111/300\n",
      "75/75 [==============================] - 13s 171ms/step - loss: 15.6860 - gender_loss: 0.3488 - dense_4_loss: 7.0947 - gender_mae: 0.2395 - dense_4_mae: 1.9267 - val_loss: 79.9183 - val_gender_loss: 0.2618 - val_dense_4_loss: 71.5777 - val_gender_mae: 0.1641 - val_dense_4_mae: 5.9913\n",
      "Epoch 112/300\n",
      "75/75 [==============================] - 13s 170ms/step - loss: 13.6110 - gender_loss: 0.3480 - dense_4_loss: 5.2282 - gender_mae: 0.2387 - dense_4_mae: 1.6587 - val_loss: 81.9751 - val_gender_loss: 0.2646 - val_dense_4_loss: 73.8533 - val_gender_mae: 0.1712 - val_dense_4_mae: 5.9892\n",
      "Epoch 113/300\n",
      "75/75 [==============================] - 13s 172ms/step - loss: 12.4760 - gender_loss: 0.3513 - dense_4_loss: 4.4208 - gender_mae: 0.2405 - dense_4_mae: 1.5385 - val_loss: 81.0588 - val_gender_loss: 0.2789 - val_dense_4_loss: 73.2672 - val_gender_mae: 0.1846 - val_dense_4_mae: 6.0664\n",
      "Epoch 114/300\n",
      "75/75 [==============================] - 13s 170ms/step - loss: 12.1124 - gender_loss: 0.3527 - dense_4_loss: 4.3727 - gender_mae: 0.2426 - dense_4_mae: 1.4709 - val_loss: 81.9356 - val_gender_loss: 0.2664 - val_dense_4_loss: 74.4586 - val_gender_mae: 0.1754 - val_dense_4_mae: 6.0585\n",
      "Epoch 115/300\n",
      "75/75 [==============================] - 13s 171ms/step - loss: 13.4803 - gender_loss: 0.3486 - dense_4_loss: 5.8725 - gender_mae: 0.2379 - dense_4_mae: 1.7644 - val_loss: 82.3885 - val_gender_loss: 0.2661 - val_dense_4_loss: 74.9907 - val_gender_mae: 0.1730 - val_dense_4_mae: 6.3188\n",
      "Epoch 116/300\n",
      "75/75 [==============================] - 13s 173ms/step - loss: 16.3028 - gender_loss: 0.3551 - dense_4_loss: 8.4974 - gender_mae: 0.2419 - dense_4_mae: 2.1321 - val_loss: 83.7530 - val_gender_loss: 0.2631 - val_dense_4_loss: 76.1004 - val_gender_mae: 0.1659 - val_dense_4_mae: 6.0164\n",
      "Epoch 117/300\n",
      "75/75 [==============================] - 13s 171ms/step - loss: 12.3794 - gender_loss: 0.3498 - dense_4_loss: 4.7654 - gender_mae: 0.2395 - dense_4_mae: 1.6062 - val_loss: 77.7881 - val_gender_loss: 0.2638 - val_dense_4_loss: 70.4248 - val_gender_mae: 0.1706 - val_dense_4_mae: 5.8604\n",
      "Epoch 118/300\n",
      "75/75 [==============================] - 13s 171ms/step - loss: 12.0903 - gender_loss: 0.3466 - dense_4_loss: 4.7358 - gender_mae: 0.2381 - dense_4_mae: 1.5898 - val_loss: 80.0008 - val_gender_loss: 0.2662 - val_dense_4_loss: 72.8699 - val_gender_mae: 0.1749 - val_dense_4_mae: 6.0460\n",
      "Epoch 119/300\n",
      "75/75 [==============================] - 13s 173ms/step - loss: 14.3679 - gender_loss: 0.3490 - dense_4_loss: 6.6919 - gender_mae: 0.2379 - dense_4_mae: 1.9033 - val_loss: 83.8592 - val_gender_loss: 0.2659 - val_dense_4_loss: 76.2935 - val_gender_mae: 0.1759 - val_dense_4_mae: 6.3504\n",
      "Epoch 120/300\n",
      "75/75 [==============================] - 13s 170ms/step - loss: 12.1722 - gender_loss: 0.3427 - dense_4_loss: 4.6378 - gender_mae: 0.2354 - dense_4_mae: 1.5945 - val_loss: 80.1933 - val_gender_loss: 0.2648 - val_dense_4_loss: 72.8966 - val_gender_mae: 0.1716 - val_dense_4_mae: 6.0893\n",
      "Epoch 121/300\n",
      "75/75 [==============================] - 13s 175ms/step - loss: 12.0473 - gender_loss: 0.3431 - dense_4_loss: 4.8074 - gender_mae: 0.2357 - dense_4_mae: 1.5225 - val_loss: 81.1696 - val_gender_loss: 0.2619 - val_dense_4_loss: 74.1581 - val_gender_mae: 0.1654 - val_dense_4_mae: 6.0342\n",
      "Epoch 122/300\n",
      "75/75 [==============================] - 13s 170ms/step - loss: 16.0850 - gender_loss: 0.3465 - dense_4_loss: 8.4589 - gender_mae: 0.2369 - dense_4_mae: 2.1324 - val_loss: 81.8424 - val_gender_loss: 0.2669 - val_dense_4_loss: 74.3004 - val_gender_mae: 0.1653 - val_dense_4_mae: 6.1458\n",
      "Epoch 123/300\n",
      "75/75 [==============================] - 13s 170ms/step - loss: 13.1827 - gender_loss: 0.3483 - dense_4_loss: 5.6747 - gender_mae: 0.2392 - dense_4_mae: 1.7631 - val_loss: 79.5996 - val_gender_loss: 0.2661 - val_dense_4_loss: 72.3153 - val_gender_mae: 0.1701 - val_dense_4_mae: 5.9670\n",
      "Epoch 124/300\n",
      "75/75 [==============================] - 13s 173ms/step - loss: 13.2257 - gender_loss: 0.3465 - dense_4_loss: 5.9000 - gender_mae: 0.2380 - dense_4_mae: 1.7232 - val_loss: 79.8386 - val_gender_loss: 0.2679 - val_dense_4_loss: 72.7118 - val_gender_mae: 0.1749 - val_dense_4_mae: 5.9396\n",
      "Epoch 125/300\n",
      "75/75 [==============================] - 13s 170ms/step - loss: 11.8634 - gender_loss: 0.3355 - dense_4_loss: 4.7456 - gender_mae: 0.2312 - dense_4_mae: 1.5819 - val_loss: 80.9047 - val_gender_loss: 0.2651 - val_dense_4_loss: 73.9834 - val_gender_mae: 0.1693 - val_dense_4_mae: 6.0937\n",
      "Epoch 126/300\n",
      "75/75 [==============================] - 13s 171ms/step - loss: 10.6707 - gender_loss: 0.3397 - dense_4_loss: 3.7629 - gender_mae: 0.2342 - dense_4_mae: 1.3942 - val_loss: 78.6497 - val_gender_loss: 0.2631 - val_dense_4_loss: 71.9446 - val_gender_mae: 0.1667 - val_dense_4_mae: 6.0100\n",
      "Epoch 127/300\n",
      "75/75 [==============================] - 13s 172ms/step - loss: 11.0836 - gender_loss: 0.3438 - dense_4_loss: 4.3143 - gender_mae: 0.2371 - dense_4_mae: 1.4978 - val_loss: 79.1199 - val_gender_loss: 0.2671 - val_dense_4_loss: 72.5344 - val_gender_mae: 0.1739 - val_dense_4_mae: 6.0974\n",
      "Epoch 128/300\n",
      "75/75 [==============================] - 13s 170ms/step - loss: 10.6477 - gender_loss: 0.3373 - dense_4_loss: 4.0529 - gender_mae: 0.2323 - dense_4_mae: 1.4490 - val_loss: 78.2142 - val_gender_loss: 0.2640 - val_dense_4_loss: 71.7963 - val_gender_mae: 0.1690 - val_dense_4_mae: 5.9219\n",
      "Epoch 129/300\n",
      "75/75 [==============================] - 13s 176ms/step - loss: 12.6955 - gender_loss: 0.3439 - dense_4_loss: 6.0790 - gender_mae: 0.2365 - dense_4_mae: 1.7473 - val_loss: 79.3179 - val_gender_loss: 0.2633 - val_dense_4_loss: 72.8453 - val_gender_mae: 0.1616 - val_dense_4_mae: 6.0494\n",
      "Epoch 130/300\n",
      "75/75 [==============================] - 13s 170ms/step - loss: 10.0343 - gender_loss: 0.3388 - dense_4_loss: 3.5870 - gender_mae: 0.2327 - dense_4_mae: 1.3680 - val_loss: 81.4398 - val_gender_loss: 0.2642 - val_dense_4_loss: 75.1805 - val_gender_mae: 0.1621 - val_dense_4_mae: 6.0293\n",
      "Epoch 131/300\n",
      "75/75 [==============================] - 13s 172ms/step - loss: 9.8856 - gender_loss: 0.3408 - dense_4_loss: 3.6391 - gender_mae: 0.2345 - dense_4_mae: 1.3809 - val_loss: 78.0025 - val_gender_loss: 0.2679 - val_dense_4_loss: 71.9351 - val_gender_mae: 0.1733 - val_dense_4_mae: 5.9217\n",
      "Epoch 132/300\n",
      "75/75 [==============================] - 13s 173ms/step - loss: 10.4743 - gender_loss: 0.3425 - dense_4_loss: 4.3386 - gender_mae: 0.2359 - dense_4_mae: 1.4899 - val_loss: 77.7394 - val_gender_loss: 0.2690 - val_dense_4_loss: 71.7622 - val_gender_mae: 0.1740 - val_dense_4_mae: 5.9186\n",
      "Epoch 133/300\n",
      "75/75 [==============================] - 13s 170ms/step - loss: 9.4192 - gender_loss: 0.3393 - dense_4_loss: 3.4217 - gender_mae: 0.2342 - dense_4_mae: 1.3271 - val_loss: 78.5338 - val_gender_loss: 0.2682 - val_dense_4_loss: 72.6941 - val_gender_mae: 0.1725 - val_dense_4_mae: 6.0734\n",
      "Epoch 134/300\n",
      "75/75 [==============================] - 13s 171ms/step - loss: 10.8489 - gender_loss: 0.3379 - dense_4_loss: 4.8154 - gender_mae: 0.2318 - dense_4_mae: 1.5664 - val_loss: 77.9158 - val_gender_loss: 0.2701 - val_dense_4_loss: 71.9960 - val_gender_mae: 0.1757 - val_dense_4_mae: 6.0073\n",
      "Epoch 135/300\n",
      "75/75 [==============================] - 13s 172ms/step - loss: 9.8880 - gender_loss: 0.3369 - dense_4_loss: 3.9103 - gender_mae: 0.2321 - dense_4_mae: 1.4280 - val_loss: 78.0097 - val_gender_loss: 0.2608 - val_dense_4_loss: 72.1835 - val_gender_mae: 0.1608 - val_dense_4_mae: 5.9319\n",
      "Epoch 136/300\n",
      "75/75 [==============================] - 13s 170ms/step - loss: 11.2536 - gender_loss: 0.3416 - dense_4_loss: 5.2610 - gender_mae: 0.2347 - dense_4_mae: 1.6331 - val_loss: 79.3686 - val_gender_loss: 0.2657 - val_dense_4_loss: 73.5076 - val_gender_mae: 0.1708 - val_dense_4_mae: 5.9491\n",
      "Epoch 137/300\n",
      "75/75 [==============================] - 13s 171ms/step - loss: 10.1297 - gender_loss: 0.3407 - dense_4_loss: 4.2025 - gender_mae: 0.2345 - dense_4_mae: 1.4806 - val_loss: 76.0679 - val_gender_loss: 0.2737 - val_dense_4_loss: 70.2884 - val_gender_mae: 0.1715 - val_dense_4_mae: 5.9263\n",
      "Epoch 138/300\n",
      "75/75 [==============================] - 13s 172ms/step - loss: 9.5291 - gender_loss: 0.3377 - dense_4_loss: 3.7109 - gender_mae: 0.2340 - dense_4_mae: 1.3877 - val_loss: 76.0807 - val_gender_loss: 0.2642 - val_dense_4_loss: 70.4095 - val_gender_mae: 0.1699 - val_dense_4_mae: 5.8675\n",
      "Epoch 139/300\n",
      "75/75 [==============================] - 13s 171ms/step - loss: 8.6861 - gender_loss: 0.3339 - dense_4_loss: 3.0180 - gender_mae: 0.2302 - dense_4_mae: 1.2298 - val_loss: 77.8655 - val_gender_loss: 0.2642 - val_dense_4_loss: 72.3479 - val_gender_mae: 0.1600 - val_dense_4_mae: 6.0087\n",
      "Epoch 140/300\n",
      "75/75 [==============================] - 13s 172ms/step - loss: 12.3844 - gender_loss: 0.3411 - dense_4_loss: 6.6040 - gender_mae: 0.2333 - dense_4_mae: 1.8242 - val_loss: 78.0290 - val_gender_loss: 0.2654 - val_dense_4_loss: 72.3416 - val_gender_mae: 0.1693 - val_dense_4_mae: 6.0987\n",
      "Epoch 141/300\n",
      "75/75 [==============================] - 13s 171ms/step - loss: 9.2906 - gender_loss: 0.3356 - dense_4_loss: 3.5963 - gender_mae: 0.2318 - dense_4_mae: 1.3602 - val_loss: 79.5811 - val_gender_loss: 0.2651 - val_dense_4_loss: 74.0340 - val_gender_mae: 0.1689 - val_dense_4_mae: 6.1671\n",
      "Epoch 142/300\n",
      "75/75 [==============================] - 13s 171ms/step - loss: 12.2122 - gender_loss: 0.3372 - dense_4_loss: 6.3260 - gender_mae: 0.2326 - dense_4_mae: 1.7835 - val_loss: 77.5298 - val_gender_loss: 0.2644 - val_dense_4_loss: 71.7130 - val_gender_mae: 0.1643 - val_dense_4_mae: 5.9423\n",
      "Epoch 143/300\n",
      "75/75 [==============================] - 13s 172ms/step - loss: 9.3017 - gender_loss: 0.3372 - dense_4_loss: 3.4700 - gender_mae: 0.2309 - dense_4_mae: 1.3392 - val_loss: 76.9184 - val_gender_loss: 0.2626 - val_dense_4_loss: 71.2329 - val_gender_mae: 0.1666 - val_dense_4_mae: 5.9525\n",
      "Epoch 144/300\n",
      "75/75 [==============================] - 13s 171ms/step - loss: 8.8739 - gender_loss: 0.3358 - dense_4_loss: 3.1755 - gender_mae: 0.2318 - dense_4_mae: 1.2855 - val_loss: 76.8392 - val_gender_loss: 0.2630 - val_dense_4_loss: 71.2849 - val_gender_mae: 0.1687 - val_dense_4_mae: 5.9550\n",
      "Epoch 145/300\n",
      "75/75 [==============================] - 13s 170ms/step - loss: 8.6540 - gender_loss: 0.3385 - dense_4_loss: 3.0465 - gender_mae: 0.2335 - dense_4_mae: 1.2412 - val_loss: 75.8149 - val_gender_loss: 0.2619 - val_dense_4_loss: 70.3461 - val_gender_mae: 0.1645 - val_dense_4_mae: 5.8679\n",
      "Epoch 146/300\n",
      "75/75 [==============================] - 13s 172ms/step - loss: 8.6195 - gender_loss: 0.3343 - dense_4_loss: 3.1342 - gender_mae: 0.2310 - dense_4_mae: 1.2562 - val_loss: 77.7173 - val_gender_loss: 0.2639 - val_dense_4_loss: 72.3703 - val_gender_mae: 0.1691 - val_dense_4_mae: 5.9784\n",
      "Epoch 147/300\n",
      "75/75 [==============================] - 13s 171ms/step - loss: 9.0782 - gender_loss: 0.3416 - dense_4_loss: 3.6555 - gender_mae: 0.2357 - dense_4_mae: 1.4036 - val_loss: 76.8493 - val_gender_loss: 0.2617 - val_dense_4_loss: 71.5613 - val_gender_mae: 0.1641 - val_dense_4_mae: 5.9179\n",
      "Epoch 148/300\n",
      "75/75 [==============================] - 13s 170ms/step - loss: 8.1659 - gender_loss: 0.3362 - dense_4_loss: 2.8470 - gender_mae: 0.2322 - dense_4_mae: 1.1963 - val_loss: 76.2571 - val_gender_loss: 0.2621 - val_dense_4_loss: 71.0706 - val_gender_mae: 0.1643 - val_dense_4_mae: 5.8919\n",
      "Epoch 149/300\n",
      "75/75 [==============================] - 13s 173ms/step - loss: 9.7878 - gender_loss: 0.3370 - dense_4_loss: 4.4256 - gender_mae: 0.2320 - dense_4_mae: 1.4923 - val_loss: 76.0390 - val_gender_loss: 0.2628 - val_dense_4_loss: 70.7749 - val_gender_mae: 0.1602 - val_dense_4_mae: 5.8886\n",
      "Epoch 150/300\n",
      "75/75 [==============================] - 13s 172ms/step - loss: 8.9382 - gender_loss: 0.3342 - dense_4_loss: 3.6052 - gender_mae: 0.2305 - dense_4_mae: 1.3889 - val_loss: 77.8494 - val_gender_loss: 0.2645 - val_dense_4_loss: 72.6345 - val_gender_mae: 0.1641 - val_dense_4_mae: 6.0011\n",
      "Epoch 151/300\n",
      "75/75 [==============================] - 13s 172ms/step - loss: 8.3138 - gender_loss: 0.3346 - dense_4_loss: 3.0651 - gender_mae: 0.2302 - dense_4_mae: 1.2556 - val_loss: 76.8382 - val_gender_loss: 0.2631 - val_dense_4_loss: 71.7169 - val_gender_mae: 0.1642 - val_dense_4_mae: 5.9185\n",
      "Epoch 152/300\n",
      "75/75 [==============================] - 13s 173ms/step - loss: 10.1071 - gender_loss: 0.3332 - dense_4_loss: 4.8719 - gender_mae: 0.2302 - dense_4_mae: 1.5767 - val_loss: 77.3272 - val_gender_loss: 0.2644 - val_dense_4_loss: 72.1955 - val_gender_mae: 0.1687 - val_dense_4_mae: 5.9348\n",
      "Epoch 153/300\n",
      "75/75 [==============================] - 13s 170ms/step - loss: 9.5561 - gender_loss: 0.3310 - dense_4_loss: 4.3414 - gender_mae: 0.2288 - dense_4_mae: 1.5166 - val_loss: 76.8927 - val_gender_loss: 0.2651 - val_dense_4_loss: 71.7809 - val_gender_mae: 0.1647 - val_dense_4_mae: 6.0189\n",
      "Epoch 154/300\n",
      "75/75 [==============================] - 13s 174ms/step - loss: 8.3687 - gender_loss: 0.3331 - dense_4_loss: 3.2300 - gender_mae: 0.2303 - dense_4_mae: 1.2948 - val_loss: 75.8172 - val_gender_loss: 0.2621 - val_dense_4_loss: 70.8001 - val_gender_mae: 0.1631 - val_dense_4_mae: 5.9155\n",
      "Epoch 155/300\n",
      "75/75 [==============================] - 13s 171ms/step - loss: 8.4681 - gender_loss: 0.3308 - dense_4_loss: 3.3988 - gender_mae: 0.2288 - dense_4_mae: 1.3156 - val_loss: 76.2309 - val_gender_loss: 0.2617 - val_dense_4_loss: 71.2754 - val_gender_mae: 0.1615 - val_dense_4_mae: 6.0044\n",
      "Epoch 156/300\n",
      "75/75 [==============================] - 13s 172ms/step - loss: 8.1100 - gender_loss: 0.3333 - dense_4_loss: 3.1228 - gender_mae: 0.2311 - dense_4_mae: 1.2545 - val_loss: 75.9292 - val_gender_loss: 0.2617 - val_dense_4_loss: 71.0625 - val_gender_mae: 0.1623 - val_dense_4_mae: 5.9450\n",
      "Epoch 157/300\n",
      "75/75 [==============================] - 13s 175ms/step - loss: 8.6082 - gender_loss: 0.3308 - dense_4_loss: 3.6511 - gender_mae: 0.2293 - dense_4_mae: 1.3588 - val_loss: 76.0975 - val_gender_loss: 0.2642 - val_dense_4_loss: 71.2401 - val_gender_mae: 0.1680 - val_dense_4_mae: 5.9612\n",
      "Epoch 158/300\n",
      "75/75 [==============================] - 13s 171ms/step - loss: 7.8644 - gender_loss: 0.3269 - dense_4_loss: 2.9759 - gender_mae: 0.2277 - dense_4_mae: 1.2197 - val_loss: 76.4237 - val_gender_loss: 0.2630 - val_dense_4_loss: 71.6415 - val_gender_mae: 0.1662 - val_dense_4_mae: 6.0307\n",
      "Epoch 159/300\n",
      "75/75 [==============================] - 13s 173ms/step - loss: 7.6269 - gender_loss: 0.3288 - dense_4_loss: 2.8050 - gender_mae: 0.2268 - dense_4_mae: 1.1870 - val_loss: 74.9560 - val_gender_loss: 0.2658 - val_dense_4_loss: 70.2389 - val_gender_mae: 0.1717 - val_dense_4_mae: 5.9340\n",
      "Epoch 160/300\n",
      "75/75 [==============================] - 13s 175ms/step - loss: 8.1115 - gender_loss: 0.3333 - dense_4_loss: 3.3395 - gender_mae: 0.2314 - dense_4_mae: 1.3155 - val_loss: 75.5170 - val_gender_loss: 0.2653 - val_dense_4_loss: 70.8507 - val_gender_mae: 0.1646 - val_dense_4_mae: 5.9210\n",
      "Epoch 161/300\n",
      "75/75 [==============================] - 13s 172ms/step - loss: 9.6143 - gender_loss: 0.3366 - dense_4_loss: 4.7952 - gender_mae: 0.2323 - dense_4_mae: 1.5382 - val_loss: 74.9276 - val_gender_loss: 0.2643 - val_dense_4_loss: 70.1938 - val_gender_mae: 0.1610 - val_dense_4_mae: 5.8494\n",
      "Epoch 162/300\n",
      "75/75 [==============================] - 13s 173ms/step - loss: 8.1616 - gender_loss: 0.3295 - dense_4_loss: 3.3967 - gender_mae: 0.2277 - dense_4_mae: 1.3146 - val_loss: 75.0865 - val_gender_loss: 0.2624 - val_dense_4_loss: 70.4286 - val_gender_mae: 0.1610 - val_dense_4_mae: 5.9357\n",
      "Epoch 163/300\n",
      "75/75 [==============================] - 13s 174ms/step - loss: 9.9046 - gender_loss: 0.3332 - dense_4_loss: 5.0607 - gender_mae: 0.2289 - dense_4_mae: 1.6068 - val_loss: 76.2010 - val_gender_loss: 0.2654 - val_dense_4_loss: 71.4279 - val_gender_mae: 0.1656 - val_dense_4_mae: 5.9487\n",
      "Epoch 164/300\n",
      "75/75 [==============================] - 13s 173ms/step - loss: 8.6402 - gender_loss: 0.3347 - dense_4_loss: 3.8132 - gender_mae: 0.2315 - dense_4_mae: 1.3949 - val_loss: 75.8685 - val_gender_loss: 0.2649 - val_dense_4_loss: 71.1446 - val_gender_mae: 0.1612 - val_dense_4_mae: 5.9385\n",
      "Epoch 165/300\n",
      "75/75 [==============================] - 13s 174ms/step - loss: 9.7351 - gender_loss: 0.3356 - dense_4_loss: 4.8790 - gender_mae: 0.2313 - dense_4_mae: 1.5996 - val_loss: 75.0851 - val_gender_loss: 0.2654 - val_dense_4_loss: 70.3142 - val_gender_mae: 0.1649 - val_dense_4_mae: 5.8958\n",
      "Epoch 166/300\n",
      "75/75 [==============================] - 13s 173ms/step - loss: 8.5253 - gender_loss: 0.3327 - dense_4_loss: 3.7081 - gender_mae: 0.2294 - dense_4_mae: 1.3646 - val_loss: 74.4556 - val_gender_loss: 0.2641 - val_dense_4_loss: 69.7416 - val_gender_mae: 0.1649 - val_dense_4_mae: 5.9202\n",
      "Epoch 167/300\n",
      "75/75 [==============================] - 13s 173ms/step - loss: 9.2310 - gender_loss: 0.3336 - dense_4_loss: 4.3966 - gender_mae: 0.2300 - dense_4_mae: 1.5220 - val_loss: 75.3550 - val_gender_loss: 0.2641 - val_dense_4_loss: 70.6043 - val_gender_mae: 0.1653 - val_dense_4_mae: 5.9167\n",
      "Epoch 168/300\n",
      "75/75 [==============================] - 13s 174ms/step - loss: 8.7954 - gender_loss: 0.3288 - dense_4_loss: 3.9759 - gender_mae: 0.2273 - dense_4_mae: 1.4125 - val_loss: 74.2172 - val_gender_loss: 0.2652 - val_dense_4_loss: 69.4872 - val_gender_mae: 0.1661 - val_dense_4_mae: 5.8683\n",
      "Epoch 169/300\n",
      "75/75 [==============================] - 13s 173ms/step - loss: 7.9461 - gender_loss: 0.3303 - dense_4_loss: 3.1752 - gender_mae: 0.2270 - dense_4_mae: 1.2676 - val_loss: 74.1651 - val_gender_loss: 0.2631 - val_dense_4_loss: 69.4940 - val_gender_mae: 0.1650 - val_dense_4_mae: 5.8794\n",
      "Epoch 170/300\n",
      "75/75 [==============================] - 13s 172ms/step - loss: 7.6935 - gender_loss: 0.3276 - dense_4_loss: 2.9782 - gender_mae: 0.2264 - dense_4_mae: 1.2293 - val_loss: 74.1429 - val_gender_loss: 0.2643 - val_dense_4_loss: 69.5221 - val_gender_mae: 0.1682 - val_dense_4_mae: 5.8172\n",
      "Epoch 171/300\n",
      "75/75 [==============================] - 13s 174ms/step - loss: 7.4083 - gender_loss: 0.3259 - dense_4_loss: 2.7476 - gender_mae: 0.2258 - dense_4_mae: 1.1936 - val_loss: 74.1235 - val_gender_loss: 0.2639 - val_dense_4_loss: 69.5564 - val_gender_mae: 0.1671 - val_dense_4_mae: 5.8402\n",
      "Epoch 172/300\n",
      "75/75 [==============================] - 13s 173ms/step - loss: 7.0732 - gender_loss: 0.3301 - dense_4_loss: 2.4647 - gender_mae: 0.2295 - dense_4_mae: 1.1230 - val_loss: 74.7438 - val_gender_loss: 0.2627 - val_dense_4_loss: 70.2346 - val_gender_mae: 0.1623 - val_dense_4_mae: 5.8541\n",
      "Epoch 173/300\n",
      "75/75 [==============================] - 13s 171ms/step - loss: 8.0292 - gender_loss: 0.3273 - dense_4_loss: 3.4431 - gender_mae: 0.2260 - dense_4_mae: 1.3142 - val_loss: 75.0523 - val_gender_loss: 0.2645 - val_dense_4_loss: 70.5522 - val_gender_mae: 0.1652 - val_dense_4_mae: 5.9554\n",
      "Epoch 174/300\n",
      "75/75 [==============================] - 13s 175ms/step - loss: 7.3177 - gender_loss: 0.3266 - dense_4_loss: 2.7757 - gender_mae: 0.2273 - dense_4_mae: 1.1816 - val_loss: 75.0953 - val_gender_loss: 0.2619 - val_dense_4_loss: 70.6486 - val_gender_mae: 0.1580 - val_dense_4_mae: 5.9118\n",
      "Epoch 175/300\n",
      "75/75 [==============================] - 13s 172ms/step - loss: 7.4145 - gender_loss: 0.3251 - dense_4_loss: 2.9201 - gender_mae: 0.2245 - dense_4_mae: 1.2049 - val_loss: 75.3493 - val_gender_loss: 0.2636 - val_dense_4_loss: 70.9446 - val_gender_mae: 0.1593 - val_dense_4_mae: 5.9002\n",
      "Epoch 176/300\n",
      "75/75 [==============================] - 13s 171ms/step - loss: 7.9987 - gender_loss: 0.3306 - dense_4_loss: 3.4860 - gender_mae: 0.2285 - dense_4_mae: 1.3420 - val_loss: 75.1779 - val_gender_loss: 0.2629 - val_dense_4_loss: 70.7462 - val_gender_mae: 0.1629 - val_dense_4_mae: 5.9454\n",
      "Epoch 177/300\n",
      "75/75 [==============================] - 13s 176ms/step - loss: 7.1061 - gender_loss: 0.3312 - dense_4_loss: 2.6333 - gender_mae: 0.2285 - dense_4_mae: 1.1587 - val_loss: 75.9017 - val_gender_loss: 0.2626 - val_dense_4_loss: 71.5265 - val_gender_mae: 0.1642 - val_dense_4_mae: 5.8976\n",
      "Epoch 178/300\n",
      "75/75 [==============================] - 13s 172ms/step - loss: 6.9618 - gender_loss: 0.3259 - dense_4_loss: 2.5459 - gender_mae: 0.2263 - dense_4_mae: 1.1525 - val_loss: 75.4135 - val_gender_loss: 0.2616 - val_dense_4_loss: 71.0894 - val_gender_mae: 0.1596 - val_dense_4_mae: 5.8771\n",
      "Epoch 179/300\n",
      "75/75 [==============================] - 13s 172ms/step - loss: 6.7441 - gender_loss: 0.3278 - dense_4_loss: 2.3775 - gender_mae: 0.2257 - dense_4_mae: 1.1108 - val_loss: 75.0553 - val_gender_loss: 0.2616 - val_dense_4_loss: 70.7828 - val_gender_mae: 0.1588 - val_dense_4_mae: 5.9187\n",
      "Epoch 180/300\n",
      "75/75 [==============================] - 13s 174ms/step - loss: 6.7173 - gender_loss: 0.3242 - dense_4_loss: 2.4070 - gender_mae: 0.2240 - dense_4_mae: 1.0985 - val_loss: 74.5837 - val_gender_loss: 0.2630 - val_dense_4_loss: 70.3631 - val_gender_mae: 0.1636 - val_dense_4_mae: 5.8809\n",
      "Epoch 181/300\n",
      "75/75 [==============================] - 13s 172ms/step - loss: 6.4778 - gender_loss: 0.3258 - dense_4_loss: 2.2110 - gender_mae: 0.2267 - dense_4_mae: 1.0685 - val_loss: 74.7784 - val_gender_loss: 0.2624 - val_dense_4_loss: 70.5998 - val_gender_mae: 0.1634 - val_dense_4_mae: 5.8513\n",
      "Epoch 182/300\n",
      "75/75 [==============================] - 13s 174ms/step - loss: 6.8484 - gender_loss: 0.3228 - dense_4_loss: 2.6100 - gender_mae: 0.2243 - dense_4_mae: 1.1470 - val_loss: 74.4970 - val_gender_loss: 0.2621 - val_dense_4_loss: 70.3397 - val_gender_mae: 0.1604 - val_dense_4_mae: 5.8687\n",
      "Epoch 183/300\n",
      "75/75 [==============================] - 13s 174ms/step - loss: 6.7217 - gender_loss: 0.3249 - dense_4_loss: 2.5169 - gender_mae: 0.2244 - dense_4_mae: 1.1387 - val_loss: 74.8298 - val_gender_loss: 0.2615 - val_dense_4_loss: 70.7123 - val_gender_mae: 0.1568 - val_dense_4_mae: 5.8680\n",
      "Epoch 184/300\n",
      "75/75 [==============================] - 13s 172ms/step - loss: 7.5305 - gender_loss: 0.3254 - dense_4_loss: 3.3432 - gender_mae: 0.2258 - dense_4_mae: 1.3236 - val_loss: 74.3619 - val_gender_loss: 0.2619 - val_dense_4_loss: 70.2558 - val_gender_mae: 0.1592 - val_dense_4_mae: 5.8553\n",
      "Epoch 185/300\n",
      "75/75 [==============================] - 13s 174ms/step - loss: 6.3913 - gender_loss: 0.3277 - dense_4_loss: 2.2412 - gender_mae: 0.2277 - dense_4_mae: 1.0744 - val_loss: 74.3034 - val_gender_loss: 0.2639 - val_dense_4_loss: 70.2425 - val_gender_mae: 0.1661 - val_dense_4_mae: 5.8621\n",
      "Epoch 186/300\n",
      "75/75 [==============================] - 13s 176ms/step - loss: 6.5788 - gender_loss: 0.3249 - dense_4_loss: 2.4767 - gender_mae: 0.2257 - dense_4_mae: 1.1195 - val_loss: 74.0152 - val_gender_loss: 0.2626 - val_dense_4_loss: 69.9978 - val_gender_mae: 0.1638 - val_dense_4_mae: 5.8554\n",
      "Epoch 187/300\n",
      "75/75 [==============================] - 13s 172ms/step - loss: 6.2353 - gender_loss: 0.3248 - dense_4_loss: 2.1625 - gender_mae: 0.2261 - dense_4_mae: 1.0511 - val_loss: 73.8896 - val_gender_loss: 0.2633 - val_dense_4_loss: 69.8976 - val_gender_mae: 0.1607 - val_dense_4_mae: 5.8363\n",
      "Epoch 188/300\n",
      "75/75 [==============================] - 13s 174ms/step - loss: 6.4178 - gender_loss: 0.3233 - dense_4_loss: 2.3817 - gender_mae: 0.2247 - dense_4_mae: 1.1210 - val_loss: 75.1604 - val_gender_loss: 0.2630 - val_dense_4_loss: 71.2058 - val_gender_mae: 0.1619 - val_dense_4_mae: 5.9351\n",
      "Epoch 189/300\n",
      "75/75 [==============================] - 13s 173ms/step - loss: 6.1084 - gender_loss: 0.3241 - dense_4_loss: 2.1084 - gender_mae: 0.2257 - dense_4_mae: 1.0079 - val_loss: 74.0396 - val_gender_loss: 0.2622 - val_dense_4_loss: 70.1234 - val_gender_mae: 0.1599 - val_dense_4_mae: 5.8619\n",
      "Epoch 190/300\n",
      "75/75 [==============================] - 13s 171ms/step - loss: 6.2998 - gender_loss: 0.3245 - dense_4_loss: 2.3203 - gender_mae: 0.2253 - dense_4_mae: 1.0875 - val_loss: 74.1030 - val_gender_loss: 0.2622 - val_dense_4_loss: 70.2036 - val_gender_mae: 0.1575 - val_dense_4_mae: 5.9295\n",
      "Epoch 191/300\n",
      "75/75 [==============================] - 13s 175ms/step - loss: 6.2811 - gender_loss: 0.3235 - dense_4_loss: 2.3289 - gender_mae: 0.2242 - dense_4_mae: 1.0746 - val_loss: 74.7548 - val_gender_loss: 0.2622 - val_dense_4_loss: 70.8822 - val_gender_mae: 0.1600 - val_dense_4_mae: 5.8674\n",
      "Epoch 192/300\n",
      "75/75 [==============================] - 13s 172ms/step - loss: 6.3899 - gender_loss: 0.3234 - dense_4_loss: 2.4587 - gender_mae: 0.2240 - dense_4_mae: 1.1373 - val_loss: 76.0047 - val_gender_loss: 0.2629 - val_dense_4_loss: 72.1502 - val_gender_mae: 0.1587 - val_dense_4_mae: 5.9591\n",
      "Epoch 193/300\n",
      "75/75 [==============================] - 13s 172ms/step - loss: 6.4856 - gender_loss: 0.3207 - dense_4_loss: 2.5644 - gender_mae: 0.2221 - dense_4_mae: 1.1450 - val_loss: 74.0508 - val_gender_loss: 0.2623 - val_dense_4_loss: 70.2014 - val_gender_mae: 0.1589 - val_dense_4_mae: 5.8733\n",
      "Epoch 194/300\n",
      "75/75 [==============================] - 13s 176ms/step - loss: 6.2816 - gender_loss: 0.3228 - dense_4_loss: 2.3817 - gender_mae: 0.2237 - dense_4_mae: 1.1294 - val_loss: 74.0782 - val_gender_loss: 0.2630 - val_dense_4_loss: 70.2558 - val_gender_mae: 0.1616 - val_dense_4_mae: 5.8595\n",
      "Epoch 195/300\n",
      "75/75 [==============================] - 13s 171ms/step - loss: 6.5140 - gender_loss: 0.3253 - dense_4_loss: 2.6341 - gender_mae: 0.2245 - dense_4_mae: 1.1893 - val_loss: 74.7485 - val_gender_loss: 0.2629 - val_dense_4_loss: 70.9471 - val_gender_mae: 0.1607 - val_dense_4_mae: 5.9086\n",
      "Epoch 196/300\n",
      "75/75 [==============================] - 13s 171ms/step - loss: 6.3556 - gender_loss: 0.3203 - dense_4_loss: 2.4955 - gender_mae: 0.2223 - dense_4_mae: 1.1134 - val_loss: 75.0377 - val_gender_loss: 0.2636 - val_dense_4_loss: 71.2476 - val_gender_mae: 0.1599 - val_dense_4_mae: 5.9104\n",
      "Epoch 197/300\n",
      "75/75 [==============================] - 13s 172ms/step - loss: 6.4152 - gender_loss: 0.3239 - dense_4_loss: 2.5655 - gender_mae: 0.2237 - dense_4_mae: 1.1527 - val_loss: 75.1536 - val_gender_loss: 0.2632 - val_dense_4_loss: 71.3769 - val_gender_mae: 0.1596 - val_dense_4_mae: 5.9166\n",
      "Epoch 198/300\n",
      "75/75 [==============================] - 13s 171ms/step - loss: 7.5280 - gender_loss: 0.3218 - dense_4_loss: 3.6496 - gender_mae: 0.2233 - dense_4_mae: 1.3765 - val_loss: 81.9763 - val_gender_loss: 0.2646 - val_dense_4_loss: 78.1557 - val_gender_mae: 0.1560 - val_dense_4_mae: 6.3900\n",
      "Epoch 199/300\n",
      "75/75 [==============================] - 13s 175ms/step - loss: 7.6069 - gender_loss: 0.3244 - dense_4_loss: 3.7018 - gender_mae: 0.2241 - dense_4_mae: 1.3488 - val_loss: 79.6817 - val_gender_loss: 0.2649 - val_dense_4_loss: 75.8406 - val_gender_mae: 0.1627 - val_dense_4_mae: 6.1741\n",
      "Epoch 200/300\n",
      "75/75 [==============================] - 13s 172ms/step - loss: 6.4204 - gender_loss: 0.3194 - dense_4_loss: 2.5320 - gender_mae: 0.2217 - dense_4_mae: 1.1341 - val_loss: 76.6721 - val_gender_loss: 0.2643 - val_dense_4_loss: 72.8511 - val_gender_mae: 0.1641 - val_dense_4_mae: 5.9182\n",
      "Epoch 201/300\n",
      "75/75 [==============================] - 13s 173ms/step - loss: 6.7398 - gender_loss: 0.3229 - dense_4_loss: 2.8643 - gender_mae: 0.2246 - dense_4_mae: 1.2429 - val_loss: 77.5727 - val_gender_loss: 0.2637 - val_dense_4_loss: 73.7668 - val_gender_mae: 0.1628 - val_dense_4_mae: 5.9615\n",
      "Epoch 202/300\n",
      "75/75 [==============================] - 13s 171ms/step - loss: 6.4811 - gender_loss: 0.3220 - dense_4_loss: 2.6162 - gender_mae: 0.2244 - dense_4_mae: 1.1560 - val_loss: 76.1077 - val_gender_loss: 0.2633 - val_dense_4_loss: 72.3108 - val_gender_mae: 0.1592 - val_dense_4_mae: 5.8918\n",
      "Epoch 203/300\n",
      "75/75 [==============================] - 13s 171ms/step - loss: 6.4369 - gender_loss: 0.3232 - dense_4_loss: 2.5846 - gender_mae: 0.2235 - dense_4_mae: 1.1322 - val_loss: 75.5151 - val_gender_loss: 0.2630 - val_dense_4_loss: 71.7339 - val_gender_mae: 0.1589 - val_dense_4_mae: 5.8997\n",
      "Epoch 204/300\n",
      "75/75 [==============================] - 13s 174ms/step - loss: 6.1562 - gender_loss: 0.3207 - dense_4_loss: 2.3245 - gender_mae: 0.2217 - dense_4_mae: 1.0762 - val_loss: 75.6812 - val_gender_loss: 0.2629 - val_dense_4_loss: 71.9185 - val_gender_mae: 0.1588 - val_dense_4_mae: 5.9135\n",
      "Epoch 205/300\n",
      "75/75 [==============================] - 13s 173ms/step - loss: 6.3597 - gender_loss: 0.3215 - dense_4_loss: 2.5342 - gender_mae: 0.2239 - dense_4_mae: 1.1573 - val_loss: 74.5703 - val_gender_loss: 0.2636 - val_dense_4_loss: 70.8113 - val_gender_mae: 0.1633 - val_dense_4_mae: 5.8955\n",
      "Epoch 206/300\n",
      "75/75 [==============================] - 13s 173ms/step - loss: 6.2865 - gender_loss: 0.3236 - dense_4_loss: 2.4615 - gender_mae: 0.2243 - dense_4_mae: 1.1048 - val_loss: 75.1214 - val_gender_loss: 0.2625 - val_dense_4_loss: 71.3641 - val_gender_mae: 0.1589 - val_dense_4_mae: 5.8918\n",
      "Epoch 207/300\n",
      "75/75 [==============================] - 13s 172ms/step - loss: 6.1460 - gender_loss: 0.3221 - dense_4_loss: 2.3275 - gender_mae: 0.2235 - dense_4_mae: 1.0929 - val_loss: 75.0915 - val_gender_loss: 0.2628 - val_dense_4_loss: 71.3396 - val_gender_mae: 0.1586 - val_dense_4_mae: 5.8934\n",
      "Epoch 208/300\n",
      "75/75 [==============================] - 13s 171ms/step - loss: 6.5704 - gender_loss: 0.3235 - dense_4_loss: 2.7550 - gender_mae: 0.2246 - dense_4_mae: 1.1954 - val_loss: 75.5881 - val_gender_loss: 0.2625 - val_dense_4_loss: 71.8408 - val_gender_mae: 0.1584 - val_dense_4_mae: 5.9210\n",
      "Epoch 209/300\n",
      "75/75 [==============================] - 13s 173ms/step - loss: 5.9683 - gender_loss: 0.3218 - dense_4_loss: 2.1685 - gender_mae: 0.2235 - dense_4_mae: 1.0357 - val_loss: 75.4954 - val_gender_loss: 0.2628 - val_dense_4_loss: 71.7642 - val_gender_mae: 0.1564 - val_dense_4_mae: 5.9140\n",
      "Epoch 210/300\n",
      "75/75 [==============================] - 13s 175ms/step - loss: 6.1414 - gender_loss: 0.3257 - dense_4_loss: 2.3530 - gender_mae: 0.2253 - dense_4_mae: 1.1061 - val_loss: 75.2641 - val_gender_loss: 0.2640 - val_dense_4_loss: 71.5467 - val_gender_mae: 0.1634 - val_dense_4_mae: 5.9119\n",
      "Epoch 211/300\n",
      "75/75 [==============================] - 13s 172ms/step - loss: 5.9420 - gender_loss: 0.3193 - dense_4_loss: 2.1767 - gender_mae: 0.2224 - dense_4_mae: 1.0443 - val_loss: 75.4378 - val_gender_loss: 0.2628 - val_dense_4_loss: 71.7378 - val_gender_mae: 0.1580 - val_dense_4_mae: 5.9080\n",
      "Epoch 212/300\n",
      "75/75 [==============================] - 13s 172ms/step - loss: 6.0656 - gender_loss: 0.3173 - dense_4_loss: 2.3136 - gender_mae: 0.2207 - dense_4_mae: 1.0947 - val_loss: 74.6039 - val_gender_loss: 0.2634 - val_dense_4_loss: 70.9137 - val_gender_mae: 0.1607 - val_dense_4_mae: 5.9056\n",
      "Epoch 213/300\n",
      "75/75 [==============================] - 13s 171ms/step - loss: 6.0466 - gender_loss: 0.3282 - dense_4_loss: 2.2882 - gender_mae: 0.2263 - dense_4_mae: 1.0531 - val_loss: 75.0490 - val_gender_loss: 0.2652 - val_dense_4_loss: 71.3599 - val_gender_mae: 0.1643 - val_dense_4_mae: 5.9068\n",
      "Epoch 214/300\n",
      "75/75 [==============================] - 13s 172ms/step - loss: 6.5406 - gender_loss: 0.3183 - dense_4_loss: 2.8004 - gender_mae: 0.2204 - dense_4_mae: 1.2180 - val_loss: 74.7763 - val_gender_loss: 0.2634 - val_dense_4_loss: 71.0986 - val_gender_mae: 0.1602 - val_dense_4_mae: 5.9018\n",
      "Epoch 215/300\n",
      "75/75 [==============================] - 13s 174ms/step - loss: 6.0313 - gender_loss: 0.3208 - dense_4_loss: 2.2998 - gender_mae: 0.2225 - dense_4_mae: 1.0830 - val_loss: 75.1429 - val_gender_loss: 0.2626 - val_dense_4_loss: 71.4773 - val_gender_mae: 0.1598 - val_dense_4_mae: 5.9089\n",
      "Epoch 216/300\n",
      "75/75 [==============================] - 13s 172ms/step - loss: 5.9185 - gender_loss: 0.3217 - dense_4_loss: 2.1953 - gender_mae: 0.2231 - dense_4_mae: 1.0634 - val_loss: 75.4828 - val_gender_loss: 0.2627 - val_dense_4_loss: 71.8252 - val_gender_mae: 0.1597 - val_dense_4_mae: 5.8965\n",
      "Epoch 217/300\n",
      "75/75 [==============================] - 13s 172ms/step - loss: 5.8914 - gender_loss: 0.3203 - dense_4_loss: 2.1802 - gender_mae: 0.2218 - dense_4_mae: 1.0666 - val_loss: 75.0696 - val_gender_loss: 0.2627 - val_dense_4_loss: 71.4229 - val_gender_mae: 0.1576 - val_dense_4_mae: 5.8780\n",
      "Epoch 218/300\n",
      "75/75 [==============================] - 13s 172ms/step - loss: 5.7622 - gender_loss: 0.3173 - dense_4_loss: 2.0684 - gender_mae: 0.2199 - dense_4_mae: 1.0256 - val_loss: 75.2529 - val_gender_loss: 0.2627 - val_dense_4_loss: 71.6217 - val_gender_mae: 0.1583 - val_dense_4_mae: 5.8898\n",
      "Epoch 219/300\n",
      "75/75 [==============================] - 13s 172ms/step - loss: 5.9198 - gender_loss: 0.3173 - dense_4_loss: 2.2381 - gender_mae: 0.2198 - dense_4_mae: 1.0627 - val_loss: 74.5361 - val_gender_loss: 0.2625 - val_dense_4_loss: 70.9164 - val_gender_mae: 0.1567 - val_dense_4_mae: 5.8764\n",
      "Epoch 220/300\n",
      "75/75 [==============================] - 13s 175ms/step - loss: 5.6685 - gender_loss: 0.3186 - dense_4_loss: 1.9873 - gender_mae: 0.2208 - dense_4_mae: 0.9925 - val_loss: 74.9619 - val_gender_loss: 0.2633 - val_dense_4_loss: 71.3406 - val_gender_mae: 0.1541 - val_dense_4_mae: 5.8865\n",
      "Epoch 221/300\n",
      "75/75 [==============================] - 13s 172ms/step - loss: 5.8481 - gender_loss: 0.3182 - dense_4_loss: 2.1782 - gender_mae: 0.2208 - dense_4_mae: 1.0492 - val_loss: 74.9118 - val_gender_loss: 0.2629 - val_dense_4_loss: 71.3041 - val_gender_mae: 0.1568 - val_dense_4_mae: 5.8820\n",
      "Epoch 222/300\n",
      "75/75 [==============================] - 13s 172ms/step - loss: 5.3767 - gender_loss: 0.3235 - dense_4_loss: 1.7141 - gender_mae: 0.2244 - dense_4_mae: 0.9227 - val_loss: 74.8529 - val_gender_loss: 0.2630 - val_dense_4_loss: 71.2579 - val_gender_mae: 0.1592 - val_dense_4_mae: 5.8889\n",
      "Epoch 223/300\n",
      "75/75 [==============================] - 13s 172ms/step - loss: 6.0368 - gender_loss: 0.3216 - dense_4_loss: 2.3844 - gender_mae: 0.2233 - dense_4_mae: 1.1303 - val_loss: 74.4539 - val_gender_loss: 0.2634 - val_dense_4_loss: 70.8656 - val_gender_mae: 0.1596 - val_dense_4_mae: 5.8940\n",
      "Epoch 224/300\n",
      "75/75 [==============================] - 13s 172ms/step - loss: 5.4283 - gender_loss: 0.3198 - dense_4_loss: 1.7901 - gender_mae: 0.2225 - dense_4_mae: 0.9427 - val_loss: 74.3852 - val_gender_loss: 0.2634 - val_dense_4_loss: 70.8107 - val_gender_mae: 0.1599 - val_dense_4_mae: 5.8951\n",
      "Epoch 225/300\n",
      "75/75 [==============================] - 13s 173ms/step - loss: 5.8620 - gender_loss: 0.3204 - dense_4_loss: 2.2367 - gender_mae: 0.2231 - dense_4_mae: 1.0679 - val_loss: 74.7136 - val_gender_loss: 0.2635 - val_dense_4_loss: 71.1523 - val_gender_mae: 0.1585 - val_dense_4_mae: 5.9007\n",
      "Epoch 226/300\n",
      "75/75 [==============================] - 13s 174ms/step - loss: 5.7277 - gender_loss: 0.3172 - dense_4_loss: 2.1125 - gender_mae: 0.2200 - dense_4_mae: 1.0459 - val_loss: 74.6198 - val_gender_loss: 0.2643 - val_dense_4_loss: 71.0625 - val_gender_mae: 0.1612 - val_dense_4_mae: 5.9017\n",
      "Epoch 227/300\n",
      "75/75 [==============================] - 13s 172ms/step - loss: 5.4514 - gender_loss: 0.3175 - dense_4_loss: 1.8457 - gender_mae: 0.2212 - dense_4_mae: 0.9661 - val_loss: 74.5048 - val_gender_loss: 0.2635 - val_dense_4_loss: 70.9595 - val_gender_mae: 0.1575 - val_dense_4_mae: 5.8960\n",
      "Epoch 228/300\n",
      "75/75 [==============================] - 13s 171ms/step - loss: 5.8111 - gender_loss: 0.3173 - dense_4_loss: 2.2129 - gender_mae: 0.2205 - dense_4_mae: 1.0801 - val_loss: 74.3674 - val_gender_loss: 0.2632 - val_dense_4_loss: 70.8285 - val_gender_mae: 0.1570 - val_dense_4_mae: 5.8736\n",
      "Epoch 229/300\n",
      "75/75 [==============================] - 13s 173ms/step - loss: 5.7093 - gender_loss: 0.3173 - dense_4_loss: 2.1202 - gender_mae: 0.2201 - dense_4_mae: 1.0450 - val_loss: 74.0361 - val_gender_loss: 0.2633 - val_dense_4_loss: 70.5074 - val_gender_mae: 0.1593 - val_dense_4_mae: 5.8586\n",
      "Epoch 230/300\n",
      "75/75 [==============================] - 13s 172ms/step - loss: 5.2164 - gender_loss: 0.3224 - dense_4_loss: 1.6343 - gender_mae: 0.2234 - dense_4_mae: 0.9096 - val_loss: 74.1230 - val_gender_loss: 0.2632 - val_dense_4_loss: 70.6067 - val_gender_mae: 0.1590 - val_dense_4_mae: 5.8722\n",
      "Epoch 231/300\n",
      "75/75 [==============================] - 13s 176ms/step - loss: 5.3924 - gender_loss: 0.3171 - dense_4_loss: 1.8275 - gender_mae: 0.2201 - dense_4_mae: 0.9730 - val_loss: 74.3560 - val_gender_loss: 0.2634 - val_dense_4_loss: 70.8509 - val_gender_mae: 0.1593 - val_dense_4_mae: 5.8666\n",
      "Epoch 232/300\n",
      "75/75 [==============================] - 13s 172ms/step - loss: 5.5527 - gender_loss: 0.3157 - dense_4_loss: 1.9963 - gender_mae: 0.2194 - dense_4_mae: 1.0117 - val_loss: 73.9514 - val_gender_loss: 0.2637 - val_dense_4_loss: 70.4516 - val_gender_mae: 0.1570 - val_dense_4_mae: 5.8717\n",
      "Epoch 233/300\n",
      "75/75 [==============================] - 13s 172ms/step - loss: 5.5836 - gender_loss: 0.3196 - dense_4_loss: 2.0322 - gender_mae: 0.2228 - dense_4_mae: 1.0334 - val_loss: 74.2472 - val_gender_loss: 0.2636 - val_dense_4_loss: 70.7575 - val_gender_mae: 0.1592 - val_dense_4_mae: 5.8669\n",
      "Epoch 234/300\n",
      "75/75 [==============================] - 13s 172ms/step - loss: 5.5354 - gender_loss: 0.3159 - dense_4_loss: 1.9951 - gender_mae: 0.2191 - dense_4_mae: 0.9873 - val_loss: 74.0247 - val_gender_loss: 0.2643 - val_dense_4_loss: 70.5412 - val_gender_mae: 0.1602 - val_dense_4_mae: 5.8694\n",
      "Epoch 235/300\n",
      "75/75 [==============================] - 13s 172ms/step - loss: 5.5908 - gender_loss: 0.3225 - dense_4_loss: 2.0542 - gender_mae: 0.2243 - dense_4_mae: 1.0244 - val_loss: 74.5318 - val_gender_loss: 0.2633 - val_dense_4_loss: 71.0603 - val_gender_mae: 0.1579 - val_dense_4_mae: 5.8911\n",
      "Epoch 236/300\n",
      "75/75 [==============================] - 13s 176ms/step - loss: 6.0030 - gender_loss: 0.3199 - dense_4_loss: 2.4769 - gender_mae: 0.2217 - dense_4_mae: 1.1288 - val_loss: 74.6120 - val_gender_loss: 0.2635 - val_dense_4_loss: 71.1468 - val_gender_mae: 0.1585 - val_dense_4_mae: 5.8955\n",
      "Epoch 237/300\n",
      "75/75 [==============================] - 13s 172ms/step - loss: 5.3226 - gender_loss: 0.3220 - dense_4_loss: 1.8037 - gender_mae: 0.2231 - dense_4_mae: 0.9574 - val_loss: 74.7356 - val_gender_loss: 0.2635 - val_dense_4_loss: 71.2803 - val_gender_mae: 0.1591 - val_dense_4_mae: 5.9013\n",
      "Epoch 238/300\n",
      "75/75 [==============================] - 13s 171ms/step - loss: 5.3844 - gender_loss: 0.3201 - dense_4_loss: 1.8736 - gender_mae: 0.2217 - dense_4_mae: 0.9713 - val_loss: 74.5523 - val_gender_loss: 0.2633 - val_dense_4_loss: 71.1028 - val_gender_mae: 0.1567 - val_dense_4_mae: 5.9044\n",
      "Epoch 239/300\n",
      "75/75 [==============================] - 13s 172ms/step - loss: 5.2885 - gender_loss: 0.3202 - dense_4_loss: 1.7869 - gender_mae: 0.2222 - dense_4_mae: 0.9333 - val_loss: 74.3569 - val_gender_loss: 0.2633 - val_dense_4_loss: 70.9175 - val_gender_mae: 0.1592 - val_dense_4_mae: 5.8854\n",
      "Epoch 240/300\n",
      "75/75 [==============================] - 13s 172ms/step - loss: 5.1922 - gender_loss: 0.3173 - dense_4_loss: 1.7032 - gender_mae: 0.2200 - dense_4_mae: 0.9059 - val_loss: 74.2982 - val_gender_loss: 0.2635 - val_dense_4_loss: 70.8684 - val_gender_mae: 0.1579 - val_dense_4_mae: 5.8827\n",
      "Epoch 241/300\n",
      "75/75 [==============================] - 13s 176ms/step - loss: 5.2352 - gender_loss: 0.3127 - dense_4_loss: 1.7605 - gender_mae: 0.2179 - dense_4_mae: 0.9467 - val_loss: 74.0943 - val_gender_loss: 0.2635 - val_dense_4_loss: 70.6737 - val_gender_mae: 0.1568 - val_dense_4_mae: 5.8829\n",
      "Epoch 242/300\n",
      "75/75 [==============================] - 13s 174ms/step - loss: 5.3610 - gender_loss: 0.3218 - dense_4_loss: 1.8849 - gender_mae: 0.2228 - dense_4_mae: 0.9787 - val_loss: 74.2982 - val_gender_loss: 0.2635 - val_dense_4_loss: 70.8850 - val_gender_mae: 0.1586 - val_dense_4_mae: 5.8947\n",
      "Epoch 243/300\n",
      "75/75 [==============================] - 13s 171ms/step - loss: 5.1221 - gender_loss: 0.3155 - dense_4_loss: 1.6564 - gender_mae: 0.2195 - dense_4_mae: 0.9048 - val_loss: 75.0063 - val_gender_loss: 0.2637 - val_dense_4_loss: 71.5958 - val_gender_mae: 0.1590 - val_dense_4_mae: 5.9132\n",
      "Epoch 244/300\n",
      "75/75 [==============================] - 13s 173ms/step - loss: 5.6424 - gender_loss: 0.3195 - dense_4_loss: 2.1803 - gender_mae: 0.2223 - dense_4_mae: 1.0492 - val_loss: 74.4688 - val_gender_loss: 0.2644 - val_dense_4_loss: 71.0664 - val_gender_mae: 0.1594 - val_dense_4_mae: 5.8775\n",
      "Epoch 245/300\n",
      "75/75 [==============================] - 13s 172ms/step - loss: 5.3519 - gender_loss: 0.3190 - dense_4_loss: 1.8970 - gender_mae: 0.2222 - dense_4_mae: 0.9787 - val_loss: 73.9831 - val_gender_loss: 0.2639 - val_dense_4_loss: 70.5872 - val_gender_mae: 0.1583 - val_dense_4_mae: 5.8651\n",
      "Epoch 246/300\n",
      "75/75 [==============================] - 13s 173ms/step - loss: 5.2238 - gender_loss: 0.3150 - dense_4_loss: 1.7782 - gender_mae: 0.2183 - dense_4_mae: 0.9478 - val_loss: 74.0988 - val_gender_loss: 0.2636 - val_dense_4_loss: 70.7080 - val_gender_mae: 0.1590 - val_dense_4_mae: 5.8764\n",
      "Epoch 247/300\n",
      "75/75 [==============================] - 13s 175ms/step - loss: 5.0526 - gender_loss: 0.3167 - dense_4_loss: 1.6124 - gender_mae: 0.2193 - dense_4_mae: 0.8859 - val_loss: 74.1738 - val_gender_loss: 0.2639 - val_dense_4_loss: 70.7905 - val_gender_mae: 0.1572 - val_dense_4_mae: 5.8736\n",
      "Epoch 248/300\n",
      "75/75 [==============================] - 13s 172ms/step - loss: 5.2301 - gender_loss: 0.3141 - dense_4_loss: 1.7990 - gender_mae: 0.2191 - dense_4_mae: 0.9510 - val_loss: 73.8676 - val_gender_loss: 0.2639 - val_dense_4_loss: 70.4906 - val_gender_mae: 0.1566 - val_dense_4_mae: 5.8663\n",
      "Epoch 249/300\n",
      "75/75 [==============================] - 13s 172ms/step - loss: 5.0714 - gender_loss: 0.3185 - dense_4_loss: 1.6437 - gender_mae: 0.2213 - dense_4_mae: 0.8986 - val_loss: 74.0176 - val_gender_loss: 0.2634 - val_dense_4_loss: 70.6493 - val_gender_mae: 0.1574 - val_dense_4_mae: 5.8701\n",
      "Epoch 250/300\n",
      "75/75 [==============================] - 13s 172ms/step - loss: 5.2697 - gender_loss: 0.3212 - dense_4_loss: 1.8467 - gender_mae: 0.2241 - dense_4_mae: 0.9635 - val_loss: 73.8043 - val_gender_loss: 0.2635 - val_dense_4_loss: 70.4432 - val_gender_mae: 0.1568 - val_dense_4_mae: 5.8610\n",
      "Epoch 251/300\n",
      "75/75 [==============================] - 13s 171ms/step - loss: 5.1271 - gender_loss: 0.3202 - dense_4_loss: 1.7128 - gender_mae: 0.2224 - dense_4_mae: 0.9198 - val_loss: 73.7705 - val_gender_loss: 0.2634 - val_dense_4_loss: 70.4170 - val_gender_mae: 0.1590 - val_dense_4_mae: 5.8718\n",
      "Epoch 252/300\n",
      "75/75 [==============================] - 13s 176ms/step - loss: 5.0886 - gender_loss: 0.3170 - dense_4_loss: 1.6848 - gender_mae: 0.2209 - dense_4_mae: 0.9210 - val_loss: 73.9050 - val_gender_loss: 0.2633 - val_dense_4_loss: 70.5588 - val_gender_mae: 0.1565 - val_dense_4_mae: 5.8790\n",
      "Epoch 253/300\n",
      "75/75 [==============================] - 13s 173ms/step - loss: 5.1202 - gender_loss: 0.3183 - dense_4_loss: 1.7201 - gender_mae: 0.2214 - dense_4_mae: 0.9111 - val_loss: 74.1024 - val_gender_loss: 0.2633 - val_dense_4_loss: 70.7605 - val_gender_mae: 0.1588 - val_dense_4_mae: 5.8807\n",
      "Epoch 254/300\n",
      "75/75 [==============================] - 13s 173ms/step - loss: 5.2213 - gender_loss: 0.3157 - dense_4_loss: 1.8259 - gender_mae: 0.2209 - dense_4_mae: 0.9505 - val_loss: 73.8470 - val_gender_loss: 0.2633 - val_dense_4_loss: 70.5065 - val_gender_mae: 0.1581 - val_dense_4_mae: 5.8918\n",
      "Epoch 255/300\n",
      "75/75 [==============================] - 13s 171ms/step - loss: 5.2212 - gender_loss: 0.3154 - dense_4_loss: 1.8314 - gender_mae: 0.2202 - dense_4_mae: 0.9771 - val_loss: 74.0396 - val_gender_loss: 0.2633 - val_dense_4_loss: 70.7053 - val_gender_mae: 0.1563 - val_dense_4_mae: 5.8806\n",
      "Epoch 256/300\n",
      "75/75 [==============================] - 13s 171ms/step - loss: 5.3284 - gender_loss: 0.3207 - dense_4_loss: 1.9350 - gender_mae: 0.2228 - dense_4_mae: 1.0031 - val_loss: 74.1948 - val_gender_loss: 0.2627 - val_dense_4_loss: 70.8611 - val_gender_mae: 0.1576 - val_dense_4_mae: 5.8812\n",
      "Epoch 257/300\n",
      "75/75 [==============================] - 13s 175ms/step - loss: 5.2738 - gender_loss: 0.3159 - dense_4_loss: 1.8892 - gender_mae: 0.2198 - dense_4_mae: 0.9368 - val_loss: 74.0661 - val_gender_loss: 0.2629 - val_dense_4_loss: 70.7372 - val_gender_mae: 0.1557 - val_dense_4_mae: 5.8787\n",
      "Epoch 258/300\n",
      "75/75 [==============================] - 13s 174ms/step - loss: 5.1193 - gender_loss: 0.3166 - dense_4_loss: 1.7384 - gender_mae: 0.2195 - dense_4_mae: 0.9479 - val_loss: 74.0253 - val_gender_loss: 0.2631 - val_dense_4_loss: 70.7004 - val_gender_mae: 0.1579 - val_dense_4_mae: 5.8760\n",
      "Epoch 259/300\n",
      "75/75 [==============================] - 13s 172ms/step - loss: 5.3069 - gender_loss: 0.3186 - dense_4_loss: 1.9282 - gender_mae: 0.2222 - dense_4_mae: 1.0055 - val_loss: 73.9286 - val_gender_loss: 0.2629 - val_dense_4_loss: 70.6081 - val_gender_mae: 0.1575 - val_dense_4_mae: 5.8693\n",
      "Epoch 260/300\n",
      "75/75 [==============================] - 13s 171ms/step - loss: 5.4884 - gender_loss: 0.3182 - dense_4_loss: 2.1139 - gender_mae: 0.2215 - dense_4_mae: 1.0145 - val_loss: 73.6775 - val_gender_loss: 0.2631 - val_dense_4_loss: 70.3607 - val_gender_mae: 0.1598 - val_dense_4_mae: 5.8811\n",
      "Epoch 261/300\n",
      "75/75 [==============================] - 13s 172ms/step - loss: 4.9928 - gender_loss: 0.3147 - dense_4_loss: 1.6259 - gender_mae: 0.2192 - dense_4_mae: 0.8966 - val_loss: 73.8563 - val_gender_loss: 0.2627 - val_dense_4_loss: 70.5436 - val_gender_mae: 0.1556 - val_dense_4_mae: 5.8840\n",
      "Epoch 262/300\n",
      "75/75 [==============================] - 13s 173ms/step - loss: 4.9760 - gender_loss: 0.3199 - dense_4_loss: 1.6081 - gender_mae: 0.2225 - dense_4_mae: 0.8707 - val_loss: 73.7296 - val_gender_loss: 0.2625 - val_dense_4_loss: 70.4214 - val_gender_mae: 0.1573 - val_dense_4_mae: 5.8858\n",
      "Epoch 263/300\n",
      "75/75 [==============================] - 13s 176ms/step - loss: 5.1693 - gender_loss: 0.3167 - dense_4_loss: 1.8089 - gender_mae: 0.2200 - dense_4_mae: 0.9341 - val_loss: 73.8201 - val_gender_loss: 0.2626 - val_dense_4_loss: 70.5162 - val_gender_mae: 0.1573 - val_dense_4_mae: 5.8777\n",
      "Epoch 264/300\n",
      "75/75 [==============================] - 13s 172ms/step - loss: 5.1589 - gender_loss: 0.3152 - dense_4_loss: 1.8033 - gender_mae: 0.2196 - dense_4_mae: 0.9448 - val_loss: 74.1099 - val_gender_loss: 0.2631 - val_dense_4_loss: 70.8085 - val_gender_mae: 0.1565 - val_dense_4_mae: 5.8849\n",
      "Epoch 265/300\n",
      "75/75 [==============================] - 13s 172ms/step - loss: 4.9976 - gender_loss: 0.3161 - dense_4_loss: 1.6426 - gender_mae: 0.2208 - dense_4_mae: 0.9004 - val_loss: 74.3345 - val_gender_loss: 0.2636 - val_dense_4_loss: 71.0336 - val_gender_mae: 0.1576 - val_dense_4_mae: 5.9116\n",
      "Epoch 266/300\n",
      "75/75 [==============================] - 13s 171ms/step - loss: 5.0573 - gender_loss: 0.3184 - dense_4_loss: 1.7024 - gender_mae: 0.2212 - dense_4_mae: 0.9070 - val_loss: 74.3884 - val_gender_loss: 0.2634 - val_dense_4_loss: 71.0904 - val_gender_mae: 0.1580 - val_dense_4_mae: 5.9132\n",
      "Epoch 267/300\n",
      "75/75 [==============================] - 13s 173ms/step - loss: 5.1684 - gender_loss: 0.3202 - dense_4_loss: 1.8151 - gender_mae: 0.2223 - dense_4_mae: 0.9484 - val_loss: 73.8868 - val_gender_loss: 0.2632 - val_dense_4_loss: 70.5926 - val_gender_mae: 0.1572 - val_dense_4_mae: 5.8842\n",
      "Epoch 268/300\n",
      "75/75 [==============================] - 13s 174ms/step - loss: 4.9891 - gender_loss: 0.3170 - dense_4_loss: 1.6426 - gender_mae: 0.2206 - dense_4_mae: 0.9025 - val_loss: 73.7576 - val_gender_loss: 0.2629 - val_dense_4_loss: 70.4673 - val_gender_mae: 0.1566 - val_dense_4_mae: 5.8661\n",
      "Epoch 269/300\n",
      "75/75 [==============================] - 13s 174ms/step - loss: 4.9320 - gender_loss: 0.3103 - dense_4_loss: 1.5963 - gender_mae: 0.2163 - dense_4_mae: 0.8883 - val_loss: 73.5479 - val_gender_loss: 0.2630 - val_dense_4_loss: 70.2615 - val_gender_mae: 0.1580 - val_dense_4_mae: 5.8661\n",
      "Epoch 270/300\n",
      "75/75 [==============================] - 13s 172ms/step - loss: 4.9821 - gender_loss: 0.3150 - dense_4_loss: 1.6455 - gender_mae: 0.2191 - dense_4_mae: 0.9202 - val_loss: 73.5996 - val_gender_loss: 0.2631 - val_dense_4_loss: 70.3171 - val_gender_mae: 0.1567 - val_dense_4_mae: 5.8710\n",
      "Epoch 271/300\n",
      "75/75 [==============================] - 13s 172ms/step - loss: 5.2140 - gender_loss: 0.3181 - dense_4_loss: 1.8777 - gender_mae: 0.2213 - dense_4_mae: 1.0060 - val_loss: 73.4428 - val_gender_loss: 0.2634 - val_dense_4_loss: 70.1632 - val_gender_mae: 0.1584 - val_dense_4_mae: 5.8649\n",
      "Epoch 272/300\n",
      "75/75 [==============================] - 13s 176ms/step - loss: 5.0881 - gender_loss: 0.3182 - dense_4_loss: 1.7556 - gender_mae: 0.2201 - dense_4_mae: 0.9435 - val_loss: 73.7313 - val_gender_loss: 0.2634 - val_dense_4_loss: 70.4557 - val_gender_mae: 0.1581 - val_dense_4_mae: 5.8783\n",
      "Epoch 273/300\n",
      "75/75 [==============================] - 13s 171ms/step - loss: 5.1514 - gender_loss: 0.3150 - dense_4_loss: 1.8248 - gender_mae: 0.2197 - dense_4_mae: 0.9674 - val_loss: 73.5701 - val_gender_loss: 0.2632 - val_dense_4_loss: 70.2970 - val_gender_mae: 0.1575 - val_dense_4_mae: 5.8582\n",
      "Epoch 274/300\n",
      "75/75 [==============================] - 13s 176ms/step - loss: 4.9875 - gender_loss: 0.3169 - dense_4_loss: 1.6625 - gender_mae: 0.2204 - dense_4_mae: 0.9135 - val_loss: 73.5465 - val_gender_loss: 0.2629 - val_dense_4_loss: 70.2776 - val_gender_mae: 0.1584 - val_dense_4_mae: 5.8532\n",
      "Epoch 275/300\n",
      "75/75 [==============================] - 13s 172ms/step - loss: 5.0227 - gender_loss: 0.3166 - dense_4_loss: 1.7019 - gender_mae: 0.2205 - dense_4_mae: 0.8869 - val_loss: 73.7025 - val_gender_loss: 0.2630 - val_dense_4_loss: 70.4372 - val_gender_mae: 0.1577 - val_dense_4_mae: 5.8678\n",
      "Epoch 276/300\n",
      "75/75 [==============================] - 13s 171ms/step - loss: 5.0422 - gender_loss: 0.3160 - dense_4_loss: 1.7249 - gender_mae: 0.2194 - dense_4_mae: 0.9281 - val_loss: 73.6245 - val_gender_loss: 0.2629 - val_dense_4_loss: 70.3622 - val_gender_mae: 0.1576 - val_dense_4_mae: 5.8804\n",
      "Epoch 277/300\n",
      "75/75 [==============================] - 13s 173ms/step - loss: 4.9692 - gender_loss: 0.3201 - dense_4_loss: 1.6515 - gender_mae: 0.2231 - dense_4_mae: 0.9364 - val_loss: 73.4834 - val_gender_loss: 0.2629 - val_dense_4_loss: 70.2249 - val_gender_mae: 0.1582 - val_dense_4_mae: 5.8683\n",
      "Epoch 278/300\n",
      "75/75 [==============================] - 13s 172ms/step - loss: 4.9014 - gender_loss: 0.3135 - dense_4_loss: 1.5935 - gender_mae: 0.2188 - dense_4_mae: 0.8943 - val_loss: 73.3446 - val_gender_loss: 0.2627 - val_dense_4_loss: 70.0894 - val_gender_mae: 0.1580 - val_dense_4_mae: 5.8560\n",
      "Epoch 279/300\n",
      "75/75 [==============================] - 13s 175ms/step - loss: 4.8350 - gender_loss: 0.3178 - dense_4_loss: 1.5249 - gender_mae: 0.2215 - dense_4_mae: 0.8758 - val_loss: 73.4993 - val_gender_loss: 0.2626 - val_dense_4_loss: 70.2461 - val_gender_mae: 0.1574 - val_dense_4_mae: 5.8690\n",
      "Epoch 280/300\n",
      "75/75 [==============================] - 13s 174ms/step - loss: 4.8932 - gender_loss: 0.3199 - dense_4_loss: 1.5843 - gender_mae: 0.2225 - dense_4_mae: 0.8917 - val_loss: 73.4028 - val_gender_loss: 0.2625 - val_dense_4_loss: 70.1534 - val_gender_mae: 0.1572 - val_dense_4_mae: 5.8635\n",
      "Epoch 281/300\n",
      "75/75 [==============================] - 13s 172ms/step - loss: 4.8246 - gender_loss: 0.3156 - dense_4_loss: 1.5237 - gender_mae: 0.2203 - dense_4_mae: 0.8734 - val_loss: 73.3883 - val_gender_loss: 0.2631 - val_dense_4_loss: 70.1417 - val_gender_mae: 0.1572 - val_dense_4_mae: 5.8595\n",
      "Epoch 282/300\n",
      "75/75 [==============================] - 13s 172ms/step - loss: 4.9911 - gender_loss: 0.3191 - dense_4_loss: 1.6900 - gender_mae: 0.2227 - dense_4_mae: 0.9362 - val_loss: 73.3690 - val_gender_loss: 0.2626 - val_dense_4_loss: 70.1263 - val_gender_mae: 0.1566 - val_dense_4_mae: 5.8674\n",
      "Epoch 283/300\n",
      "75/75 [==============================] - 13s 172ms/step - loss: 4.8064 - gender_loss: 0.3146 - dense_4_loss: 1.5134 - gender_mae: 0.2202 - dense_4_mae: 0.8783 - val_loss: 73.3548 - val_gender_loss: 0.2628 - val_dense_4_loss: 70.1157 - val_gender_mae: 0.1565 - val_dense_4_mae: 5.8717\n",
      "Epoch 284/300\n",
      "75/75 [==============================] - 13s 173ms/step - loss: 4.9101 - gender_loss: 0.3174 - dense_4_loss: 1.6178 - gender_mae: 0.2208 - dense_4_mae: 0.8570 - val_loss: 73.2961 - val_gender_loss: 0.2627 - val_dense_4_loss: 70.0605 - val_gender_mae: 0.1578 - val_dense_4_mae: 5.8685\n",
      "Epoch 285/300\n",
      "75/75 [==============================] - 13s 176ms/step - loss: 4.8652 - gender_loss: 0.3196 - dense_4_loss: 1.5730 - gender_mae: 0.2223 - dense_4_mae: 0.8864 - val_loss: 73.2560 - val_gender_loss: 0.2628 - val_dense_4_loss: 70.0222 - val_gender_mae: 0.1567 - val_dense_4_mae: 5.8611\n",
      "Epoch 286/300\n",
      "75/75 [==============================] - 13s 171ms/step - loss: 4.6791 - gender_loss: 0.3174 - dense_4_loss: 1.3920 - gender_mae: 0.2207 - dense_4_mae: 0.8231 - val_loss: 73.4646 - val_gender_loss: 0.2627 - val_dense_4_loss: 70.2339 - val_gender_mae: 0.1572 - val_dense_4_mae: 5.8670\n",
      "Epoch 287/300\n",
      "75/75 [==============================] - 13s 171ms/step - loss: 4.9858 - gender_loss: 0.3197 - dense_4_loss: 1.6999 - gender_mae: 0.2223 - dense_4_mae: 0.9297 - val_loss: 73.5369 - val_gender_loss: 0.2627 - val_dense_4_loss: 70.3100 - val_gender_mae: 0.1571 - val_dense_4_mae: 5.8547\n",
      "Epoch 288/300\n",
      "75/75 [==============================] - 13s 172ms/step - loss: 4.6980 - gender_loss: 0.3125 - dense_4_loss: 1.4228 - gender_mae: 0.2176 - dense_4_mae: 0.8309 - val_loss: 73.6674 - val_gender_loss: 0.2627 - val_dense_4_loss: 70.4440 - val_gender_mae: 0.1568 - val_dense_4_mae: 5.8604\n",
      "Epoch 289/300\n",
      "75/75 [==============================] - 13s 172ms/step - loss: 4.6935 - gender_loss: 0.3176 - dense_4_loss: 1.4171 - gender_mae: 0.2212 - dense_4_mae: 0.8249 - val_loss: 73.4309 - val_gender_loss: 0.2627 - val_dense_4_loss: 70.2115 - val_gender_mae: 0.1567 - val_dense_4_mae: 5.8500\n",
      "Epoch 290/300\n",
      "75/75 [==============================] - 13s 176ms/step - loss: 4.9091 - gender_loss: 0.3135 - dense_4_loss: 1.6404 - gender_mae: 0.2186 - dense_4_mae: 0.9075 - val_loss: 73.3956 - val_gender_loss: 0.2630 - val_dense_4_loss: 70.1795 - val_gender_mae: 0.1575 - val_dense_4_mae: 5.8501\n",
      "Epoch 291/300\n",
      "75/75 [==============================] - 13s 173ms/step - loss: 4.8514 - gender_loss: 0.3146 - dense_4_loss: 1.5853 - gender_mae: 0.2193 - dense_4_mae: 0.8987 - val_loss: 73.2819 - val_gender_loss: 0.2627 - val_dense_4_loss: 70.0697 - val_gender_mae: 0.1574 - val_dense_4_mae: 5.8498\n",
      "Epoch 292/300\n",
      "75/75 [==============================] - 13s 171ms/step - loss: 4.7726 - gender_loss: 0.3189 - dense_4_loss: 1.5058 - gender_mae: 0.2221 - dense_4_mae: 0.8633 - val_loss: 73.4465 - val_gender_loss: 0.2629 - val_dense_4_loss: 70.2378 - val_gender_mae: 0.1568 - val_dense_4_mae: 5.8742\n",
      "Epoch 293/300\n",
      "75/75 [==============================] - 13s 172ms/step - loss: 4.9480 - gender_loss: 0.3129 - dense_4_loss: 1.6907 - gender_mae: 0.2185 - dense_4_mae: 0.9174 - val_loss: 73.7342 - val_gender_loss: 0.2629 - val_dense_4_loss: 70.5289 - val_gender_mae: 0.1568 - val_dense_4_mae: 5.8738\n",
      "Epoch 294/300\n",
      "75/75 [==============================] - 13s 172ms/step - loss: 5.1534 - gender_loss: 0.3164 - dense_4_loss: 1.8947 - gender_mae: 0.2198 - dense_4_mae: 1.0030 - val_loss: 73.9095 - val_gender_loss: 0.2631 - val_dense_4_loss: 70.7058 - val_gender_mae: 0.1562 - val_dense_4_mae: 5.8802\n",
      "Epoch 295/300\n",
      "75/75 [==============================] - 13s 176ms/step - loss: 4.7171 - gender_loss: 0.3176 - dense_4_loss: 1.4607 - gender_mae: 0.2206 - dense_4_mae: 0.8403 - val_loss: 73.5861 - val_gender_loss: 0.2628 - val_dense_4_loss: 70.3866 - val_gender_mae: 0.1567 - val_dense_4_mae: 5.8623\n",
      "Epoch 296/300\n",
      "75/75 [==============================] - 13s 176ms/step - loss: 4.9448 - gender_loss: 0.3217 - dense_4_loss: 1.6879 - gender_mae: 0.2243 - dense_4_mae: 0.9326 - val_loss: 73.6087 - val_gender_loss: 0.2628 - val_dense_4_loss: 70.4128 - val_gender_mae: 0.1559 - val_dense_4_mae: 5.8678\n",
      "Epoch 297/300\n",
      "75/75 [==============================] - 13s 171ms/step - loss: 4.8665 - gender_loss: 0.3160 - dense_4_loss: 1.6190 - gender_mae: 0.2200 - dense_4_mae: 0.8835 - val_loss: 73.3798 - val_gender_loss: 0.2630 - val_dense_4_loss: 70.1874 - val_gender_mae: 0.1571 - val_dense_4_mae: 5.8557\n",
      "Epoch 298/300\n",
      "75/75 [==============================] - 13s 172ms/step - loss: 4.7721 - gender_loss: 0.3164 - dense_4_loss: 1.5279 - gender_mae: 0.2207 - dense_4_mae: 0.8602 - val_loss: 73.2865 - val_gender_loss: 0.2630 - val_dense_4_loss: 70.0978 - val_gender_mae: 0.1556 - val_dense_4_mae: 5.8477\n",
      "Epoch 299/300\n",
      "75/75 [==============================] - 13s 172ms/step - loss: 5.1923 - gender_loss: 0.3137 - dense_4_loss: 1.9550 - gender_mae: 0.2191 - dense_4_mae: 0.9797 - val_loss: 73.2525 - val_gender_loss: 0.2629 - val_dense_4_loss: 70.0682 - val_gender_mae: 0.1562 - val_dense_4_mae: 5.8460\n",
      "Epoch 300/300\n",
      "75/75 [==============================] - 13s 172ms/step - loss: 4.6378 - gender_loss: 0.3194 - dense_4_loss: 1.3989 - gender_mae: 0.2228 - dense_4_mae: 0.8317 - val_loss: 73.3861 - val_gender_loss: 0.2630 - val_dense_4_loss: 70.2059 - val_gender_mae: 0.1566 - val_dense_4_mae: 5.8541\n"
     ]
    }
   ],
   "source": [
    "EPOCH=300\n",
    "BATCH_SIZE=256\n",
    "history=model.fit(image_array, Y_train_split, validation_data=(X_test, Y_test_split), batch_size=BATCH_SIZE, epochs=EPOCH, callbacks=[model_checkpoint, reduce_lr])"
   ]
  },
  {
   "cell_type": "code",
   "execution_count": 21,
   "id": "a622fc37",
   "metadata": {
    "execution": {
     "iopub.execute_input": "2022-01-06T17:58:28.156348Z",
     "iopub.status.busy": "2022-01-06T17:58:28.141109Z",
     "iopub.status.idle": "2022-01-06T17:58:28.373341Z",
     "shell.execute_reply": "2022-01-06T17:58:28.372611Z",
     "shell.execute_reply.started": "2022-01-06T16:46:45.380598Z"
    },
    "papermill": {
     "duration": 6.82471,
     "end_time": "2022-01-06T17:58:28.373472",
     "exception": false,
     "start_time": "2022-01-06T17:58:21.548762",
     "status": "completed"
    },
    "tags": []
   },
   "outputs": [
    {
     "data": {
      "text/plain": [
       "<tensorflow.python.training.tracking.util.CheckpointLoadStatus at 0x7fe22810ec10>"
      ]
     },
     "execution_count": 21,
     "metadata": {},
     "output_type": "execute_result"
    }
   ],
   "source": [
    "model.load_weights(\"trained_model/model\")"
   ]
  },
  {
   "cell_type": "code",
   "execution_count": 22,
   "id": "06cea069",
   "metadata": {
    "execution": {
     "iopub.execute_input": "2022-01-06T17:58:41.721614Z",
     "iopub.status.busy": "2022-01-06T17:58:41.720537Z",
     "iopub.status.idle": "2022-01-06T17:58:44.670411Z",
     "shell.execute_reply": "2022-01-06T17:58:44.669606Z",
     "shell.execute_reply.started": "2022-01-06T16:46:45.786144Z"
    },
    "papermill": {
     "duration": 9.851067,
     "end_time": "2022-01-06T17:58:44.670562",
     "exception": false,
     "start_time": "2022-01-06T17:58:34.819495",
     "status": "completed"
    },
    "tags": []
   },
   "outputs": [
    {
     "name": "stderr",
     "output_type": "stream",
     "text": [
      "2022-01-06 17:58:42.215373: W tensorflow/core/framework/cpu_allocator_impl.cc:80] Allocation of 523984896 exceeds 10% of free system memory.\n"
     ]
    }
   ],
   "source": [
    "prediction_val = model.predict(X_test, batch_size=BATCH_SIZE)"
   ]
  },
  {
   "cell_type": "code",
   "execution_count": 23,
   "id": "a1528fde",
   "metadata": {
    "execution": {
     "iopub.execute_input": "2022-01-06T17:58:58.393754Z",
     "iopub.status.busy": "2022-01-06T17:58:58.393171Z",
     "iopub.status.idle": "2022-01-06T17:58:58.397954Z",
     "shell.execute_reply": "2022-01-06T17:58:58.397506Z",
     "shell.execute_reply.started": "2022-01-06T16:46:49.087644Z"
    },
    "papermill": {
     "duration": 6.458578,
     "end_time": "2022-01-06T17:58:58.398076",
     "exception": false,
     "start_time": "2022-01-06T17:58:51.939498",
     "status": "completed"
    },
    "tags": []
   },
   "outputs": [
    {
     "data": {
      "text/plain": [
       "array([[0.2577138 ],\n",
       "       [0.0073769 ],\n",
       "       [0.02688259],\n",
       "       [0.4806348 ],\n",
       "       [0.03805774],\n",
       "       [0.96795726],\n",
       "       [0.6816135 ],\n",
       "       [0.4806348 ],\n",
       "       [0.02565384],\n",
       "       [0.55374295],\n",
       "       [0.8817764 ],\n",
       "       [0.03843454],\n",
       "       [0.99239165],\n",
       "       [0.8666123 ],\n",
       "       [0.0065493 ],\n",
       "       [0.07714579],\n",
       "       [0.00954254],\n",
       "       [0.9604273 ],\n",
       "       [0.8234631 ],\n",
       "       [0.9263038 ]], dtype=float32)"
      ]
     },
     "execution_count": 23,
     "metadata": {},
     "output_type": "execute_result"
    }
   ],
   "source": [
    "# gender prediction\n",
    "prediction_val[0][:20]"
   ]
  },
  {
   "cell_type": "code",
   "execution_count": 24,
   "id": "ae40a860",
   "metadata": {
    "execution": {
     "iopub.execute_input": "2022-01-06T17:59:11.998508Z",
     "iopub.status.busy": "2022-01-06T17:59:11.997772Z",
     "iopub.status.idle": "2022-01-06T17:59:12.000424Z",
     "shell.execute_reply": "2022-01-06T17:59:12.000835Z",
     "shell.execute_reply.started": "2022-01-06T16:46:49.103069Z"
    },
    "papermill": {
     "duration": 6.830776,
     "end_time": "2022-01-06T17:59:12.000970",
     "exception": false,
     "start_time": "2022-01-06T17:59:05.170194",
     "status": "completed"
    },
    "tags": []
   },
   "outputs": [
    {
     "data": {
      "text/plain": [
       "array([[0],\n",
       "       [0],\n",
       "       [0],\n",
       "       [1],\n",
       "       [0],\n",
       "       [1],\n",
       "       [1],\n",
       "       [0],\n",
       "       [0],\n",
       "       [1],\n",
       "       [1],\n",
       "       [0],\n",
       "       [1],\n",
       "       [0],\n",
       "       [0],\n",
       "       [0],\n",
       "       [0],\n",
       "       [1],\n",
       "       [1],\n",
       "       [1]])"
      ]
     },
     "execution_count": 24,
     "metadata": {},
     "output_type": "execute_result"
    }
   ],
   "source": [
    "# ori gender\n",
    "Y_test_split[0][:20]"
   ]
  },
  {
   "cell_type": "code",
   "execution_count": 25,
   "id": "7a2bfcfe",
   "metadata": {
    "execution": {
     "iopub.execute_input": "2022-01-06T17:59:25.647593Z",
     "iopub.status.busy": "2022-01-06T17:59:25.647018Z",
     "iopub.status.idle": "2022-01-06T17:59:25.651310Z",
     "shell.execute_reply": "2022-01-06T17:59:25.651708Z",
     "shell.execute_reply.started": "2022-01-06T16:46:49.114691Z"
    },
    "papermill": {
     "duration": 7.068695,
     "end_time": "2022-01-06T17:59:25.651874",
     "exception": false,
     "start_time": "2022-01-06T17:59:18.583179",
     "status": "completed"
    },
    "tags": []
   },
   "outputs": [
    {
     "data": {
      "text/plain": [
       "array([[ 1.3440565],\n",
       "       [40.28585  ],\n",
       "       [65.2873   ],\n",
       "       [ 0.7861817],\n",
       "       [26.000626 ],\n",
       "       [17.530182 ],\n",
       "       [ 6.0731   ],\n",
       "       [ 0.7017657],\n",
       "       [68.58525  ],\n",
       "       [74.868576 ],\n",
       "       [91.44099  ],\n",
       "       [31.15152  ],\n",
       "       [33.82464  ],\n",
       "       [ 7.3973036],\n",
       "       [28.289726 ],\n",
       "       [25.473608 ],\n",
       "       [30.813986 ],\n",
       "       [16.053417 ],\n",
       "       [57.618042 ],\n",
       "       [29.779861 ]], dtype=float32)"
      ]
     },
     "execution_count": 25,
     "metadata": {},
     "output_type": "execute_result"
    }
   ],
   "source": [
    "# age prediction\n",
    "prediction_val[1][:20]"
   ]
  },
  {
   "cell_type": "code",
   "execution_count": 26,
   "id": "7852d48b",
   "metadata": {
    "execution": {
     "iopub.execute_input": "2022-01-06T17:59:38.699788Z",
     "iopub.status.busy": "2022-01-06T17:59:38.699145Z",
     "iopub.status.idle": "2022-01-06T17:59:38.701879Z",
     "shell.execute_reply": "2022-01-06T17:59:38.702281Z",
     "shell.execute_reply.started": "2022-01-06T16:46:49.128924Z"
    },
    "papermill": {
     "duration": 6.69551,
     "end_time": "2022-01-06T17:59:38.702414",
     "exception": false,
     "start_time": "2022-01-06T17:59:32.006904",
     "status": "completed"
    },
    "tags": []
   },
   "outputs": [
    {
     "data": {
      "text/plain": [
       "array([[ 1],\n",
       "       [40],\n",
       "       [58],\n",
       "       [ 1],\n",
       "       [24],\n",
       "       [23],\n",
       "       [ 4],\n",
       "       [ 1],\n",
       "       [52],\n",
       "       [90],\n",
       "       [95],\n",
       "       [32],\n",
       "       [59],\n",
       "       [ 5],\n",
       "       [35],\n",
       "       [31],\n",
       "       [31],\n",
       "       [17],\n",
       "       [80],\n",
       "       [28]])"
      ]
     },
     "execution_count": 26,
     "metadata": {},
     "output_type": "execute_result"
    }
   ],
   "source": [
    "# ori age\n",
    "Y_test_split[1][:20]"
   ]
  },
  {
   "cell_type": "code",
   "execution_count": 27,
   "id": "9994e42e",
   "metadata": {
    "execution": {
     "iopub.execute_input": "2022-01-06T17:59:52.269806Z",
     "iopub.status.busy": "2022-01-06T17:59:52.268893Z",
     "iopub.status.idle": "2022-01-06T18:00:01.016410Z",
     "shell.execute_reply": "2022-01-06T18:00:01.015855Z",
     "shell.execute_reply.started": "2022-01-06T16:46:49.140833Z"
    },
    "papermill": {
     "duration": 15.593867,
     "end_time": "2022-01-06T18:00:01.016555",
     "exception": false,
     "start_time": "2022-01-06T17:59:45.422688",
     "status": "completed"
    },
    "tags": []
   },
   "outputs": [
    {
     "name": "stderr",
     "output_type": "stream",
     "text": [
      "2022-01-06 17:59:54.759691: W tensorflow/python/util/util.cc:348] Sets are not currently considered sequences, but this may change in the future, so consider avoiding using them.\n",
      "2022-01-06 18:00:00.149853: I tensorflow/stream_executor/cuda/cuda_gpu_executor.cc:937] successful NUMA node read from SysFS had negative value (-1), but there must be at least one NUMA node, so returning NUMA node zero\n",
      "2022-01-06 18:00:00.150237: I tensorflow/core/grappler/devices.cc:66] Number of eligible GPUs (core count >= 8, compute capability >= 0.0): 1\n",
      "2022-01-06 18:00:00.150356: I tensorflow/core/grappler/clusters/single_machine.cc:357] Starting new session\n",
      "2022-01-06 18:00:00.150907: I tensorflow/stream_executor/cuda/cuda_gpu_executor.cc:937] successful NUMA node read from SysFS had negative value (-1), but there must be at least one NUMA node, so returning NUMA node zero\n",
      "2022-01-06 18:00:00.151310: I tensorflow/stream_executor/cuda/cuda_gpu_executor.cc:937] successful NUMA node read from SysFS had negative value (-1), but there must be at least one NUMA node, so returning NUMA node zero\n",
      "2022-01-06 18:00:00.151621: I tensorflow/stream_executor/cuda/cuda_gpu_executor.cc:937] successful NUMA node read from SysFS had negative value (-1), but there must be at least one NUMA node, so returning NUMA node zero\n",
      "2022-01-06 18:00:00.152058: I tensorflow/stream_executor/cuda/cuda_gpu_executor.cc:937] successful NUMA node read from SysFS had negative value (-1), but there must be at least one NUMA node, so returning NUMA node zero\n",
      "2022-01-06 18:00:00.152397: I tensorflow/stream_executor/cuda/cuda_gpu_executor.cc:937] successful NUMA node read from SysFS had negative value (-1), but there must be at least one NUMA node, so returning NUMA node zero\n",
      "2022-01-06 18:00:00.152687: I tensorflow/core/common_runtime/gpu/gpu_device.cc:1510] Created device /job:localhost/replica:0/task:0/device:GPU:0 with 15403 MB memory:  -> device: 0, name: Tesla P100-PCIE-16GB, pci bus id: 0000:00:04.0, compute capability: 6.0\n",
      "2022-01-06 18:00:00.162862: I tensorflow/core/grappler/optimizers/meta_optimizer.cc:1137] Optimization results for grappler item: graph_to_optimize\n",
      "  function_optimizer: function_optimizer did nothing. time = 0.007ms.\n",
      "  function_optimizer: function_optimizer did nothing. time = 0.001ms.\n",
      "\n",
      "2022-01-06 18:00:00.694619: W tensorflow/compiler/mlir/lite/python/tf_tfl_flatbuffer_helpers.cc:351] Ignored output_format.\n",
      "2022-01-06 18:00:00.694690: W tensorflow/compiler/mlir/lite/python/tf_tfl_flatbuffer_helpers.cc:354] Ignored drop_control_dependency.\n",
      "2022-01-06 18:00:00.750335: I tensorflow/compiler/mlir/tensorflow/utils/dump_mlir_util.cc:210] disabling MLIR crash reproducer, set env var `MLIR_CRASH_REPRODUCER_DIRECTORY` to enable.\n"
     ]
    }
   ],
   "source": [
    "converter = tf.lite.TFLiteConverter.from_keras_model(model) \n",
    "tflite_model = converter.convert()\n",
    "\n",
    "with open(\"model.tflite\", \"wb\") as f:\n",
    "    f.write(tflite_model)"
   ]
  },
  {
   "cell_type": "code",
   "execution_count": null,
   "id": "4bc46cb4",
   "metadata": {
    "papermill": {
     "duration": 6.491389,
     "end_time": "2022-01-06T18:00:14.370749",
     "exception": false,
     "start_time": "2022-01-06T18:00:07.879360",
     "status": "completed"
    },
    "tags": []
   },
   "outputs": [],
   "source": []
  }
 ],
 "metadata": {
  "kernelspec": {
   "display_name": "Python 3",
   "language": "python",
   "name": "python3"
  },
  "language_info": {
   "codemirror_mode": {
    "name": "ipython",
    "version": 3
   },
   "file_extension": ".py",
   "mimetype": "text/x-python",
   "name": "python",
   "nbconvert_exporter": "python",
   "pygments_lexer": "ipython3",
   "version": "3.7.12"
  },
  "papermill": {
   "default_parameters": {},
   "duration": 4241.953249,
   "end_time": "2022-01-06T18:00:24.562409",
   "environment_variables": {},
   "exception": null,
   "input_path": "__notebook__.ipynb",
   "output_path": "__notebook__.ipynb",
   "parameters": {},
   "start_time": "2022-01-06T16:49:42.609160",
   "version": "2.3.3"
  }
 },
 "nbformat": 4,
 "nbformat_minor": 5
}
