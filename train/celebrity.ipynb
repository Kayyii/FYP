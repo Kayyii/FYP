{
 "cells": [
  {
   "cell_type": "code",
   "execution_count": 1,
   "id": "7c8150ef",
   "metadata": {
    "execution": {
     "iopub.execute_input": "2022-01-04T21:05:09.331177Z",
     "iopub.status.busy": "2022-01-04T21:05:09.329677Z",
     "iopub.status.idle": "2022-01-04T21:05:13.564882Z",
     "shell.execute_reply": "2022-01-04T21:05:13.566001Z",
     "shell.execute_reply.started": "2022-01-04T20:21:33.712901Z"
    },
    "papermill": {
     "duration": 4.248484,
     "end_time": "2022-01-04T21:05:13.566356",
     "exception": false,
     "start_time": "2022-01-04T21:05:09.317872",
     "status": "completed"
    },
    "tags": []
   },
   "outputs": [],
   "source": [
    "import tensorflow as tf\n",
    "import os\n",
    "\n",
    "base_dir = '../input/facerecognition30/dataset/'"
   ]
  },
  {
   "cell_type": "code",
   "execution_count": 2,
   "id": "e17f1892",
   "metadata": {
    "execution": {
     "iopub.execute_input": "2022-01-04T21:05:13.598365Z",
     "iopub.status.busy": "2022-01-04T21:05:13.597522Z",
     "iopub.status.idle": "2022-01-04T21:05:18.838123Z",
     "shell.execute_reply": "2022-01-04T21:05:18.838949Z",
     "shell.execute_reply.started": "2022-01-04T20:21:35.431946Z"
    },
    "papermill": {
     "duration": 5.26148,
     "end_time": "2022-01-04T21:05:18.839168",
     "exception": false,
     "start_time": "2022-01-04T21:05:13.577688",
     "status": "completed"
    },
    "tags": []
   },
   "outputs": [
    {
     "name": "stdout",
     "output_type": "stream",
     "text": [
      "Found 12724 images belonging to 30 classes.\n",
      "Found 3165 images belonging to 30 classes.\n"
     ]
    }
   ],
   "source": [
    "IMAGE_SIZE = 224 #image size that we are going to set the images in the dataset to.\n",
    "BATCH_SIZE = 64 #the number of images we are inputting into the neural network at once.\n",
    "\n",
    "datagen = tf.keras.preprocessing.image.ImageDataGenerator( #preprocessing our image\n",
    "    rescale = 1./255, #firstly, rescaling it to 1/255 which will make the file size smaller, hence reducing the training time\n",
    "    validation_split=0.2 #secondly, normally a dataset has a test set and a training set, \n",
    "    #validation set is normally to test our neural network,which would give us a measure of accuracy on how well the neural network will do on the predictions.\n",
    "    #here we are telling keras to use 20% for validation and 80% training\n",
    ")\n",
    "\n",
    "train_generator = datagen.flow_from_directory( #training generator\n",
    "    base_dir, #the directory having the fruits and vegetable photos\n",
    "    target_size=(IMAGE_SIZE, IMAGE_SIZE),  #converting images to 224 by 224\n",
    "    batch_size = BATCH_SIZE, #images getting inputed into the neural network through each epoch or each step\n",
    "    subset='training' #the name we will call it\n",
    ")\n",
    "val_generator = datagen.flow_from_directory(  #validation generator\n",
    "    base_dir, \n",
    "    target_size=(IMAGE_SIZE, IMAGE_SIZE),\n",
    "    batch_size=BATCH_SIZE,\n",
    "    subset='validation'\n",
    ")"
   ]
  },
  {
   "cell_type": "code",
   "execution_count": 3,
   "id": "95775159",
   "metadata": {
    "execution": {
     "iopub.execute_input": "2022-01-04T21:05:18.860097Z",
     "iopub.status.busy": "2022-01-04T21:05:18.859472Z",
     "iopub.status.idle": "2022-01-04T21:05:18.862496Z",
     "shell.execute_reply": "2022-01-04T21:05:18.863078Z",
     "shell.execute_reply.started": "2022-01-04T20:21:37.501258Z"
    },
    "papermill": {
     "duration": 0.016211,
     "end_time": "2022-01-04T21:05:18.863249",
     "exception": false,
     "start_time": "2022-01-04T21:05:18.847038",
     "status": "completed"
    },
    "tags": []
   },
   "outputs": [
    {
     "name": "stdout",
     "output_type": "stream",
     "text": [
      "{'Courteney_Cox': 0, 'David_Schwimmer': 1, 'Jennifer_Aniston': 2, 'Jim_Parsons': 3, 'Johnny_Galeck': 4, 'Kunal_Nayya': 5, 'Lisa_Kudrow': 6, 'Matt_LeBlanc': 7, 'Matthew_Perry': 8, 'Pankaj_Tripathi': 9, 'ROHIT_SHARMA': 10, 'Sachin_Tendulka': 11, 'Simon_Helberg': 12, 'aishwarya_rai': 13, 'angelina_jolie': 14, 'arnold_schwarzenegger': 15, 'bhuvan_bam': 16, 'brad_pitt': 17, 'dhoni': 18, 'hardik_pandya': 19, 'manoj_bajpayee': 20, 'messi': 21, 'mohamed_ali': 22, 'pewdiepie': 23, 'random_person': 24, 'ronaldo': 25, 'scarlett_johansson': 26, 'suresh_raina': 27, 'sylvester_stallone': 28, 'virat_kohli': 29}\n"
     ]
    }
   ],
   "source": [
    "print(train_generator.class_indices)\n",
    "labels = '\\n'.join(sorted(\n",
    "    train_generator.class_indices.keys()))\n",
    "with open('labels.txt', 'w') as f:\n",
    "    f.write(labels)"
   ]
  },
  {
   "cell_type": "code",
   "execution_count": 4,
   "id": "20fce485",
   "metadata": {
    "execution": {
     "iopub.execute_input": "2022-01-04T21:05:18.885762Z",
     "iopub.status.busy": "2022-01-04T21:05:18.885267Z",
     "iopub.status.idle": "2022-01-04T21:05:22.822821Z",
     "shell.execute_reply": "2022-01-04T21:05:22.822354Z",
     "shell.execute_reply.started": "2022-01-04T20:22:21.717737Z"
    },
    "papermill": {
     "duration": 3.950924,
     "end_time": "2022-01-04T21:05:22.822984",
     "exception": false,
     "start_time": "2022-01-04T21:05:18.872060",
     "status": "completed"
    },
    "tags": []
   },
   "outputs": [
    {
     "name": "stderr",
     "output_type": "stream",
     "text": [
      "2022-01-04 21:05:18.972763: I tensorflow/stream_executor/cuda/cuda_gpu_executor.cc:937] successful NUMA node read from SysFS had negative value (-1), but there must be at least one NUMA node, so returning NUMA node zero\n",
      "2022-01-04 21:05:19.069218: I tensorflow/stream_executor/cuda/cuda_gpu_executor.cc:937] successful NUMA node read from SysFS had negative value (-1), but there must be at least one NUMA node, so returning NUMA node zero\n",
      "2022-01-04 21:05:19.069945: I tensorflow/stream_executor/cuda/cuda_gpu_executor.cc:937] successful NUMA node read from SysFS had negative value (-1), but there must be at least one NUMA node, so returning NUMA node zero\n",
      "2022-01-04 21:05:19.071565: I tensorflow/core/platform/cpu_feature_guard.cc:142] This TensorFlow binary is optimized with oneAPI Deep Neural Network Library (oneDNN) to use the following CPU instructions in performance-critical operations:  AVX2 AVX512F FMA\n",
      "To enable them in other operations, rebuild TensorFlow with the appropriate compiler flags.\n",
      "2022-01-04 21:05:19.072593: I tensorflow/stream_executor/cuda/cuda_gpu_executor.cc:937] successful NUMA node read from SysFS had negative value (-1), but there must be at least one NUMA node, so returning NUMA node zero\n",
      "2022-01-04 21:05:19.073252: I tensorflow/stream_executor/cuda/cuda_gpu_executor.cc:937] successful NUMA node read from SysFS had negative value (-1), but there must be at least one NUMA node, so returning NUMA node zero\n",
      "2022-01-04 21:05:19.073851: I tensorflow/stream_executor/cuda/cuda_gpu_executor.cc:937] successful NUMA node read from SysFS had negative value (-1), but there must be at least one NUMA node, so returning NUMA node zero\n",
      "2022-01-04 21:05:20.931310: I tensorflow/stream_executor/cuda/cuda_gpu_executor.cc:937] successful NUMA node read from SysFS had negative value (-1), but there must be at least one NUMA node, so returning NUMA node zero\n",
      "2022-01-04 21:05:20.932105: I tensorflow/stream_executor/cuda/cuda_gpu_executor.cc:937] successful NUMA node read from SysFS had negative value (-1), but there must be at least one NUMA node, so returning NUMA node zero\n",
      "2022-01-04 21:05:20.932742: I tensorflow/stream_executor/cuda/cuda_gpu_executor.cc:937] successful NUMA node read from SysFS had negative value (-1), but there must be at least one NUMA node, so returning NUMA node zero\n",
      "2022-01-04 21:05:20.933323: I tensorflow/core/common_runtime/gpu/gpu_device.cc:1510] Created device /job:localhost/replica:0/task:0/device:GPU:0 with 15403 MB memory:  -> device: 0, name: Tesla P100-PCIE-16GB, pci bus id: 0000:00:04.0, compute capability: 6.0\n"
     ]
    },
    {
     "name": "stdout",
     "output_type": "stream",
     "text": [
      "Downloading data from https://storage.googleapis.com/tensorflow/keras-applications/mobilenet_v2/mobilenet_v2_weights_tf_dim_ordering_tf_kernels_1.0_224_no_top.h5\n",
      "9412608/9406464 [==============================] - 0s 0us/step\n",
      "9420800/9406464 [==============================] - 0s 0us/step\n"
     ]
    }
   ],
   "source": [
    "IMG_SHAPE = (IMAGE_SIZE, IMAGE_SIZE, 3)\n",
    "base_model = tf.keras.applications.MobileNetV2(input_shape = IMG_SHAPE, include_top = False, weights='imagenet')"
   ]
  },
  {
   "cell_type": "code",
   "execution_count": 5,
   "id": "4fd5c865",
   "metadata": {
    "execution": {
     "iopub.execute_input": "2022-01-04T21:05:22.854676Z",
     "iopub.status.busy": "2022-01-04T21:05:22.844686Z",
     "iopub.status.idle": "2022-01-04T21:05:23.174536Z",
     "shell.execute_reply": "2022-01-04T21:05:23.174992Z",
     "shell.execute_reply.started": "2022-01-04T20:28:25.606273Z"
    },
    "papermill": {
     "duration": 0.342615,
     "end_time": "2022-01-04T21:05:23.175153",
     "exception": false,
     "start_time": "2022-01-04T21:05:22.832538",
     "status": "completed"
    },
    "tags": []
   },
   "outputs": [],
   "source": [
    "base_model.trainable = False #this freezes all the neurons for our base model\n",
    "model = tf.keras.Sequential([ #neural networks act in a sequence of layers, so we add layers as we want\n",
    "  base_model,\n",
    "  tf.keras.layers.Conv2D(32,3, activation = 'relu'), #This layer creates a convolution kernel that is convolved with the layer input to produce a tensor of outputs. Bascially, it trying to understand the patterns of the image\n",
    "  tf.keras.layers.Dropout(0.2), #This layer prevents Neural Networks from Overfitting, i.e being too precise to a point where the NN is only able to recognize images that are present in the dataset\n",
    "  tf.keras.layers.GlobalAveragePooling2D(), #This layer calculates the average output of each feature map in the previous layer, thus reducing the data significantly and preparing the model for the final layer\n",
    "  tf.keras.layers.Dense(30,activation='softmax')\n",
    "])"
   ]
  },
  {
   "cell_type": "code",
   "execution_count": 6,
   "id": "b5e8cad0",
   "metadata": {
    "execution": {
     "iopub.execute_input": "2022-01-04T21:05:23.204862Z",
     "iopub.status.busy": "2022-01-04T21:05:23.198271Z",
     "iopub.status.idle": "2022-01-04T21:05:23.211328Z",
     "shell.execute_reply": "2022-01-04T21:05:23.210897Z",
     "shell.execute_reply.started": "2022-01-04T20:28:39.367460Z"
    },
    "papermill": {
     "duration": 0.026804,
     "end_time": "2022-01-04T21:05:23.211430",
     "exception": false,
     "start_time": "2022-01-04T21:05:23.184626",
     "status": "completed"
    },
    "tags": []
   },
   "outputs": [],
   "source": [
    "model.compile(\n",
    "    optimizer=tf.keras.optimizers.Adam(), #Adam is a popular optimiser, designed specifically for training deep neural networks\n",
    "    loss='categorical_crossentropy', \n",
    "    metrics=['accuracy']\n",
    ")"
   ]
  },
  {
   "cell_type": "code",
   "execution_count": 7,
   "id": "c9e11b8c",
   "metadata": {
    "execution": {
     "iopub.execute_input": "2022-01-04T21:05:23.235103Z",
     "iopub.status.busy": "2022-01-04T21:05:23.234293Z",
     "iopub.status.idle": "2022-01-04T21:18:10.614622Z",
     "shell.execute_reply": "2022-01-04T21:18:10.615350Z",
     "shell.execute_reply.started": "2022-01-04T20:28:41.554422Z"
    },
    "papermill": {
     "duration": 767.394736,
     "end_time": "2022-01-04T21:18:10.615530",
     "exception": false,
     "start_time": "2022-01-04T21:05:23.220794",
     "status": "completed"
    },
    "tags": []
   },
   "outputs": [
    {
     "name": "stderr",
     "output_type": "stream",
     "text": [
      "2022-01-04 21:05:23.937431: I tensorflow/compiler/mlir/mlir_graph_optimization_pass.cc:185] None of the MLIR Optimization Passes are enabled (registered 2)\n"
     ]
    },
    {
     "name": "stdout",
     "output_type": "stream",
     "text": [
      "Epoch 1/10\n"
     ]
    },
    {
     "name": "stderr",
     "output_type": "stream",
     "text": [
      "2022-01-04 21:05:27.658105: I tensorflow/stream_executor/cuda/cuda_dnn.cc:369] Loaded cuDNN version 8005\n"
     ]
    },
    {
     "name": "stdout",
     "output_type": "stream",
     "text": [
      "199/199 [==============================] - 141s 666ms/step - loss: 2.7450 - accuracy: 0.2683 - val_loss: 2.1512 - val_accuracy: 0.3975\n",
      "Epoch 2/10\n",
      "199/199 [==============================] - 67s 334ms/step - loss: 1.9064 - accuracy: 0.4561 - val_loss: 1.6809 - val_accuracy: 0.5283\n",
      "Epoch 3/10\n",
      "199/199 [==============================] - 65s 329ms/step - loss: 1.5143 - accuracy: 0.5605 - val_loss: 1.4376 - val_accuracy: 0.5886\n",
      "Epoch 4/10\n",
      "199/199 [==============================] - 65s 324ms/step - loss: 1.2928 - accuracy: 0.6255 - val_loss: 1.2889 - val_accuracy: 0.6367\n",
      "Epoch 5/10\n",
      "199/199 [==============================] - 66s 334ms/step - loss: 1.1073 - accuracy: 0.6721 - val_loss: 1.2018 - val_accuracy: 0.6632\n",
      "Epoch 6/10\n",
      "199/199 [==============================] - 66s 330ms/step - loss: 0.9753 - accuracy: 0.7098 - val_loss: 1.1359 - val_accuracy: 0.6859\n",
      "Epoch 7/10\n",
      "199/199 [==============================] - 66s 334ms/step - loss: 0.9051 - accuracy: 0.7313 - val_loss: 1.1332 - val_accuracy: 0.6793\n",
      "Epoch 8/10\n",
      "199/199 [==============================] - 66s 333ms/step - loss: 0.8053 - accuracy: 0.7588 - val_loss: 1.1814 - val_accuracy: 0.6799\n",
      "Epoch 9/10\n",
      "199/199 [==============================] - 67s 334ms/step - loss: 0.7378 - accuracy: 0.7791 - val_loss: 1.1337 - val_accuracy: 0.6919\n",
      "Epoch 10/10\n",
      "199/199 [==============================] - 66s 329ms/step - loss: 0.6834 - accuracy: 0.7938 - val_loss: 1.1385 - val_accuracy: 0.6875\n"
     ]
    }
   ],
   "source": [
    "epochs = 10 #higher the epochs, more accurate is the NN, however it could cause Overfitting, if too high\n",
    "history = model.fit(\n",
    "    train_generator, \n",
    "    epochs = epochs, \n",
    "    validation_data=val_generator\n",
    ")"
   ]
  },
  {
   "cell_type": "code",
   "execution_count": 8,
   "id": "00214c5b",
   "metadata": {
    "execution": {
     "iopub.execute_input": "2022-01-04T21:18:11.678401Z",
     "iopub.status.busy": "2022-01-04T21:18:11.677590Z",
     "iopub.status.idle": "2022-01-04T21:18:44.695174Z",
     "shell.execute_reply": "2022-01-04T21:18:44.694663Z",
     "shell.execute_reply.started": "2022-01-04T20:42:31.751862Z"
    },
    "papermill": {
     "duration": 33.551326,
     "end_time": "2022-01-04T21:18:44.695308",
     "exception": false,
     "start_time": "2022-01-04T21:18:11.143982",
     "status": "completed"
    },
    "tags": []
   },
   "outputs": [
    {
     "name": "stderr",
     "output_type": "stream",
     "text": [
      "2022-01-04 21:18:21.303919: W tensorflow/python/util/util.cc:348] Sets are not currently considered sequences, but this may change in the future, so consider avoiding using them.\n",
      "2022-01-04 21:18:42.979447: I tensorflow/stream_executor/cuda/cuda_gpu_executor.cc:937] successful NUMA node read from SysFS had negative value (-1), but there must be at least one NUMA node, so returning NUMA node zero\n",
      "2022-01-04 21:18:42.979813: I tensorflow/core/grappler/devices.cc:66] Number of eligible GPUs (core count >= 8, compute capability >= 0.0): 1\n",
      "2022-01-04 21:18:42.979999: I tensorflow/core/grappler/clusters/single_machine.cc:357] Starting new session\n",
      "2022-01-04 21:18:42.980461: I tensorflow/stream_executor/cuda/cuda_gpu_executor.cc:937] successful NUMA node read from SysFS had negative value (-1), but there must be at least one NUMA node, so returning NUMA node zero\n",
      "2022-01-04 21:18:42.980854: I tensorflow/stream_executor/cuda/cuda_gpu_executor.cc:937] successful NUMA node read from SysFS had negative value (-1), but there must be at least one NUMA node, so returning NUMA node zero\n",
      "2022-01-04 21:18:42.981199: I tensorflow/stream_executor/cuda/cuda_gpu_executor.cc:937] successful NUMA node read from SysFS had negative value (-1), but there must be at least one NUMA node, so returning NUMA node zero\n",
      "2022-01-04 21:18:42.981632: I tensorflow/stream_executor/cuda/cuda_gpu_executor.cc:937] successful NUMA node read from SysFS had negative value (-1), but there must be at least one NUMA node, so returning NUMA node zero\n",
      "2022-01-04 21:18:42.981988: I tensorflow/stream_executor/cuda/cuda_gpu_executor.cc:937] successful NUMA node read from SysFS had negative value (-1), but there must be at least one NUMA node, so returning NUMA node zero\n",
      "2022-01-04 21:18:42.982309: I tensorflow/core/common_runtime/gpu/gpu_device.cc:1510] Created device /job:localhost/replica:0/task:0/device:GPU:0 with 15403 MB memory:  -> device: 0, name: Tesla P100-PCIE-16GB, pci bus id: 0000:00:04.0, compute capability: 6.0\n",
      "2022-01-04 21:18:43.020257: I tensorflow/core/grappler/optimizers/meta_optimizer.cc:1137] Optimization results for grappler item: graph_to_optimize\n",
      "  function_optimizer: Graph size after: 1000 nodes (732), 1503 edges (1235), time = 21.398ms.\n",
      "  function_optimizer: function_optimizer did nothing. time = 0.405ms.\n",
      "\n",
      "2022-01-04 21:18:44.412984: W tensorflow/compiler/mlir/lite/python/tf_tfl_flatbuffer_helpers.cc:351] Ignored output_format.\n",
      "2022-01-04 21:18:44.413047: W tensorflow/compiler/mlir/lite/python/tf_tfl_flatbuffer_helpers.cc:354] Ignored drop_control_dependency.\n",
      "2022-01-04 21:18:44.467887: I tensorflow/compiler/mlir/tensorflow/utils/dump_mlir_util.cc:210] disabling MLIR crash reproducer, set env var `MLIR_CRASH_REPRODUCER_DIRECTORY` to enable.\n"
     ]
    }
   ],
   "source": [
    "#now that we have our neural network trained with tensorflow and keras, we can export it \n",
    "saved_model_dir = '' #means current directory\n",
    "tf.saved_model.save(model, saved_model_dir) #saves to the current directory\n",
    "\n",
    "converter = tf.lite.TFLiteConverter.from_saved_model(saved_model_dir) \n",
    "tflite_model = converter.convert() #converts our model into a .tflite model which flutter uses for ondevice machine learning\n",
    "\n",
    "with open('model.tflite', 'wb') as f: #to write the converted model into a file, written as binary so add 'wb' instead of 'w'\n",
    "  f.write(tflite_model)"
   ]
  }
 ],
 "metadata": {
  "kernelspec": {
   "display_name": "Python 3",
   "language": "python",
   "name": "python3"
  },
  "language_info": {
   "codemirror_mode": {
    "name": "ipython",
    "version": 3
   },
   "file_extension": ".py",
   "mimetype": "text/x-python",
   "name": "python",
   "nbconvert_exporter": "python",
   "pygments_lexer": "ipython3",
   "version": "3.7.12"
  },
  "papermill": {
   "default_parameters": {},
   "duration": 827.76884,
   "end_time": "2022-01-04T21:18:48.914892",
   "environment_variables": {},
   "exception": null,
   "input_path": "__notebook__.ipynb",
   "output_path": "__notebook__.ipynb",
   "parameters": {},
   "start_time": "2022-01-04T21:05:01.146052",
   "version": "2.3.3"
  }
 },
 "nbformat": 4,
 "nbformat_minor": 5
}
